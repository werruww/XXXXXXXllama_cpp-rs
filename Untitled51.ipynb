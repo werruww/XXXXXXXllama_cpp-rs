{
  "nbformat": 4,
  "nbformat_minor": 0,
  "metadata": {
    "colab": {
      "provenance": []
    },
    "kernelspec": {
      "name": "python3",
      "display_name": "Python 3"
    },
    "language_info": {
      "name": "python"
    }
  },
  "cells": [
    {
      "cell_type": "code",
      "execution_count": null,
      "metadata": {
        "id": "IKmMyoQYNOL0"
      },
      "outputs": [],
      "source": []
    },
    {
      "cell_type": "code",
      "source": [],
      "metadata": {
        "id": "YQMM553iNPq6"
      },
      "execution_count": null,
      "outputs": []
    },
    {
      "cell_type": "code",
      "source": [
        "\n",
        "!curl --proto '=https' --tlsv1.2 -sSf https://sh.rustup.rs | sh -s -- -y\n",
        "\n",
        "import os\n",
        "os.environ['PATH'] += \":/root/.cargo/bin\"\n",
        "\n",
        "!cargo --version"
      ],
      "metadata": {
        "colab": {
          "base_uri": "https://localhost:8080/"
        },
        "id": "r5BNubEUNPuQ",
        "outputId": "b2d236f4-9378-4c0c-fee4-3d8cd45e6ca9"
      },
      "execution_count": 1,
      "outputs": [
        {
          "output_type": "stream",
          "name": "stdout",
          "text": [
            "\u001b[1minfo:\u001b[0m downloading installer\n",
            "\u001b[0m\u001b[1minfo: \u001b[0mprofile set to 'default'\n",
            "\u001b[0m\u001b[1minfo: \u001b[0mdefault host triple is x86_64-unknown-linux-gnu\n",
            "\u001b[0m\u001b[1minfo: \u001b[0msyncing channel updates for 'stable-x86_64-unknown-linux-gnu'\n",
            "\u001b[0m\u001b[1minfo: \u001b[0mlatest update on 2025-04-03, rust version 1.86.0 (05f9846f8 2025-03-31)\n",
            "\u001b[0m\u001b[1minfo: \u001b[0mdownloading component 'cargo'\n",
            "\u001b[0m\u001b[1minfo: \u001b[0mdownloading component 'clippy'\n",
            "\u001b[0m\u001b[1minfo: \u001b[0mdownloading component 'rust-docs'\n",
            "\u001b[0m\u001b[1minfo: \u001b[0mdownloading component 'rust-std'\n",
            " 27.1 MiB /  27.1 MiB (100 %)  21.5 MiB/s in  1s\n",
            "\u001b[0m\u001b[1minfo: \u001b[0mdownloading component 'rustc'\n",
            " 72.8 MiB /  72.8 MiB (100 %)  24.0 MiB/s in  2s\n",
            "\u001b[0m\u001b[1minfo: \u001b[0mdownloading component 'rustfmt'\n",
            "\u001b[0m\u001b[1minfo: \u001b[0minstalling component 'cargo'\n",
            "  8.8 MiB /   8.8 MiB (100 %)   7.4 MiB/s in  1s\n",
            "\u001b[0m\u001b[1minfo: \u001b[0minstalling component 'clippy'\n",
            "\u001b[0m\u001b[1minfo: \u001b[0minstalling component 'rust-docs'\n",
            " 21.2 MiB /  21.2 MiB (100 %)   2.5 MiB/s in  9s\n",
            "\u001b[0m\u001b[1minfo: \u001b[0minstalling component 'rust-std'\n",
            " 27.1 MiB /  27.1 MiB (100 %)   6.0 MiB/s in  4s\n",
            "\u001b[0m\u001b[1minfo: \u001b[0minstalling component 'rustc'\n",
            " 72.8 MiB /  72.8 MiB (100 %)   7.4 MiB/s in 10s\n",
            "\u001b[0m\u001b[1minfo: \u001b[0minstalling component 'rustfmt'\n",
            "\u001b[0m\u001b[1minfo: \u001b[0mdefault toolchain set to 'stable-x86_64-unknown-linux-gnu'\n",
            "\n",
            "  \u001b[0m\u001b[1m\u001b[0m\u001b[1m\u001b[32mstable-x86_64-unknown-linux-gnu installed\u001b[0m - rustc 1.86.0 (05f9846f8 2025-03-31)\n",
            "\n",
            "\u001b[0m\u001b[1m\n",
            "Rust is installed now. Great!\n",
            "\u001b[0m\n",
            "To get started you may need to restart your current shell.\n",
            "This would reload your \u001b[0m\u001b[1mPATH\u001b[0m environment variable to include\n",
            "Cargo's bin directory ($HOME/.cargo/bin).\n",
            "\n",
            "To configure your current shell, you need to source\n",
            "the corresponding \u001b[0m\u001b[1menv\u001b[0m file under $HOME/.cargo.\n",
            "\n",
            "This is usually done by running one of the following (note the leading DOT):\n",
            ". \"$HOME/.cargo/env\"            # For sh/bash/zsh/ash/dash/pdksh\n",
            "source \"$HOME/.cargo/env.fish\"  # For fish\n",
            "source $\"($nu.home-path)/.cargo/env.nu\"  # For nushell\n",
            "cargo 1.86.0 (adf9b6ad1 2025-02-28)\n"
          ]
        }
      ]
    },
    {
      "cell_type": "code",
      "source": [
        "!cargo add llama_cpp --features cuda"
      ],
      "metadata": {
        "id": "Ui-09s4uNWSg"
      },
      "execution_count": null,
      "outputs": []
    },
    {
      "cell_type": "markdown",
      "source": [
        "https://github.com/edgenai/llama_cpp-rs/issues/81"
      ],
      "metadata": {
        "id": "KW8vmC7pNe0H"
      }
    },
    {
      "cell_type": "code",
      "source": [
        "!cargo add llama_cpp"
      ],
      "metadata": {
        "id": "kzAxbcyjNYD_"
      },
      "execution_count": null,
      "outputs": []
    },
    {
      "cell_type": "code",
      "source": [
        "!git clone https://github.com/edgenai/llama_cpp-rs.git"
      ],
      "metadata": {
        "colab": {
          "base_uri": "https://localhost:8080/"
        },
        "id": "dXdVqQyENsuz",
        "outputId": "5e2f5762-71d8-4f41-fad3-8d96fffb59d6"
      },
      "execution_count": 2,
      "outputs": [
        {
          "output_type": "stream",
          "name": "stdout",
          "text": [
            "Cloning into 'llama_cpp-rs'...\n",
            "remote: Enumerating objects: 1886, done.\u001b[K\n",
            "remote: Counting objects: 100% (185/185), done.\u001b[K\n",
            "remote: Compressing objects: 100% (105/105), done.\u001b[K\n",
            "remote: Total 1886 (delta 90), reused 80 (delta 80), pack-reused 1701 (from 2)\u001b[K\n",
            "Receiving objects: 100% (1886/1886), 405.43 KiB | 3.79 MiB/s, done.\n",
            "Resolving deltas: 100% (977/977), done.\n"
          ]
        }
      ]
    },
    {
      "cell_type": "code",
      "source": [
        "%cd /content/llama_cpp-rs\n"
      ],
      "metadata": {
        "colab": {
          "base_uri": "https://localhost:8080/"
        },
        "id": "HgERMCeLNyh4",
        "outputId": "072d8913-ed68-4bd1-b4d6-47ebf14ab613"
      },
      "execution_count": 3,
      "outputs": [
        {
          "output_type": "stream",
          "name": "stdout",
          "text": [
            "/content/llama_cpp-rs\n"
          ]
        }
      ]
    },
    {
      "cell_type": "code",
      "source": [
        "!cargo add llama_cpp"
      ],
      "metadata": {
        "colab": {
          "base_uri": "https://localhost:8080/"
        },
        "id": "k-YRyGO8N2ko",
        "outputId": "0e274dfa-a003-4944-fd41-d5d0e688bf0a"
      },
      "execution_count": 4,
      "outputs": [
        {
          "output_type": "stream",
          "name": "stdout",
          "text": [
            "\u001b[1m\u001b[31merror\u001b[0m\u001b[1m:\u001b[0m `cargo add` could not determine which package to modify. Use the `--package` option to specify a package. \n",
            "available packages: llama_cpp_sys, llama_cpp, llama_cpp_tests\n"
          ]
        }
      ]
    },
    {
      "source": [
        "!cargo add llama_cpp --package llama_cpp"
      ],
      "cell_type": "code",
      "metadata": {
        "colab": {
          "base_uri": "https://localhost:8080/"
        },
        "id": "M7PKHpUuOEBA",
        "outputId": "0d361298-b032-4fa9-dde2-ad5c2ffee823"
      },
      "execution_count": 5,
      "outputs": [
        {
          "output_type": "stream",
          "name": "stdout",
          "text": [
            "\u001b[1m\u001b[32m      Adding\u001b[0m llama_cpp (local) to dependencies\n",
            "\u001b[1m\u001b[31merror\u001b[0m\u001b[1m:\u001b[0m cannot add `llama_cpp` as a dependency to itself\n"
          ]
        }
      ]
    },
    {
      "source": [
        "!cargo add llama_cpp --package llama_cpp_sys"
      ],
      "cell_type": "code",
      "metadata": {
        "colab": {
          "base_uri": "https://localhost:8080/"
        },
        "id": "u1n02HKXOGW7",
        "outputId": "beb18dbf-b3d7-4804-cb7a-b6174f606230"
      },
      "execution_count": 6,
      "outputs": [
        {
          "output_type": "stream",
          "name": "stdout",
          "text": [
            "\u001b[1m\u001b[32m      Adding\u001b[0m llama_cpp (local) to dependencies\n",
            "             Features:\n",
            "             \u001b[1m\u001b[32m+\u001b[0m accel\n",
            "             \u001b[1m\u001b[32m+\u001b[0m avx\n",
            "             \u001b[1m\u001b[32m+\u001b[0m avx2\n",
            "             \u001b[1m\u001b[32m+\u001b[0m compat\n",
            "             \u001b[1m\u001b[32m+\u001b[0m f16c\n",
            "             \u001b[1m\u001b[32m+\u001b[0m fma\n",
            "             \u001b[1m\u001b[32m+\u001b[0m native\n",
            "             \u001b[1m\u001b[31m-\u001b[0m avx512\n",
            "             \u001b[1m\u001b[31m-\u001b[0m avx512_vmbi\n",
            "             \u001b[1m\u001b[31m-\u001b[0m avx512_vnni\n",
            "             \u001b[1m\u001b[31m-\u001b[0m blas\n",
            "             \u001b[1m\u001b[31m-\u001b[0m clblast\n",
            "             \u001b[1m\u001b[31m-\u001b[0m cuda\n",
            "             \u001b[1m\u001b[31m-\u001b[0m cuda_dmmv\n",
            "             \u001b[1m\u001b[31m-\u001b[0m cuda_f16\n",
            "             \u001b[1m\u001b[31m-\u001b[0m cuda_mmq\n",
            "             \u001b[1m\u001b[31m-\u001b[0m hipblas\n",
            "             \u001b[1m\u001b[31m-\u001b[0m metal\n",
            "             \u001b[1m\u001b[31m-\u001b[0m mpi\n",
            "             \u001b[1m\u001b[31m-\u001b[0m sys_verbosity\n",
            "             \u001b[1m\u001b[31m-\u001b[0m vulkan\n",
            "\u001b[1m\u001b[32m    Updating\u001b[0m crates.io index\n",
            "\u001b[1m\u001b[31merror\u001b[0m\u001b[1m:\u001b[0m cyclic package dependency: package `llama_cpp v0.3.2 (/content/llama_cpp-rs/crates/llama_cpp)` depends on itself. Cycle:\n",
            "package `llama_cpp v0.3.2 (/content/llama_cpp-rs/crates/llama_cpp)`\n",
            "    ... which satisfies path dependency `llama_cpp` (locked to 0.3.2) of package `llama_cpp_sys v0.3.2 (/content/llama_cpp-rs/crates/llama_cpp_sys)`\n",
            "    ... which satisfies path dependency `llama_cpp_sys` (locked to 0.3.2) of package `llama_cpp v0.3.2 (/content/llama_cpp-rs/crates/llama_cpp)`\n"
          ]
        }
      ]
    },
    {
      "source": [
        "!cargo remove llama_cpp --package llama_cpp"
      ],
      "cell_type": "code",
      "metadata": {
        "colab": {
          "base_uri": "https://localhost:8080/"
        },
        "id": "WVmRrW4tOQlQ",
        "outputId": "bc114d00-d656-435e-ff46-28a87b2fc93f"
      },
      "execution_count": 7,
      "outputs": [
        {
          "output_type": "stream",
          "name": "stdout",
          "text": [
            "\u001b[1m\u001b[32m    Removing\u001b[0m llama_cpp from dependencies\n",
            "\u001b[1m\u001b[31merror\u001b[0m\u001b[1m:\u001b[0m the dependency `llama_cpp` could not be found in `dependencies`\n"
          ]
        }
      ]
    },
    {
      "source": [
        "!cargo build --release\n",
        ""
      ],
      "cell_type": "code",
      "metadata": {
        "colab": {
          "base_uri": "https://localhost:8080/"
        },
        "id": "ZIJg-c_FOUus",
        "outputId": "1642bca5-acf2-412a-831e-9ba7a818cb90"
      },
      "execution_count": 8,
      "outputs": [
        {
          "output_type": "stream",
          "name": "stdout",
          "text": [
            "\u001b[1m\u001b[31merror\u001b[0m\u001b[1m:\u001b[0m cyclic package dependency: package `llama_cpp v0.3.2 (/content/llama_cpp-rs/crates/llama_cpp)` depends on itself. Cycle:\n",
            "package `llama_cpp v0.3.2 (/content/llama_cpp-rs/crates/llama_cpp)`\n",
            "    ... which satisfies path dependency `llama_cpp` (locked to 0.3.2) of package `llama_cpp_sys v0.3.2 (/content/llama_cpp-rs/crates/llama_cpp_sys)`\n",
            "    ... which satisfies path dependency `llama_cpp_sys` (locked to 0.3.2) of package `llama_cpp v0.3.2 (/content/llama_cpp-rs/crates/llama_cpp)`\n"
          ]
        }
      ]
    },
    {
      "source": [
        "!rm -rf target"
      ],
      "cell_type": "code",
      "metadata": {
        "id": "9_4dGRaBOad4"
      },
      "execution_count": 9,
      "outputs": []
    },
    {
      "source": [
        "!cargo build --release"
      ],
      "cell_type": "code",
      "metadata": {
        "colab": {
          "base_uri": "https://localhost:8080/"
        },
        "id": "_OIZphMoObwC",
        "outputId": "87a1dc06-b43a-4f0c-c99c-35edd47fecb0"
      },
      "execution_count": 10,
      "outputs": [
        {
          "output_type": "stream",
          "name": "stdout",
          "text": [
            "\u001b[1m\u001b[31merror\u001b[0m\u001b[1m:\u001b[0m cyclic package dependency: package `llama_cpp v0.3.2 (/content/llama_cpp-rs/crates/llama_cpp)` depends on itself. Cycle:\n",
            "package `llama_cpp v0.3.2 (/content/llama_cpp-rs/crates/llama_cpp)`\n",
            "    ... which satisfies path dependency `llama_cpp` (locked to 0.3.2) of package `llama_cpp_sys v0.3.2 (/content/llama_cpp-rs/crates/llama_cpp_sys)`\n",
            "    ... which satisfies path dependency `llama_cpp_sys` (locked to 0.3.2) of package `llama_cpp v0.3.2 (/content/llama_cpp-rs/crates/llama_cpp)`\n"
          ]
        }
      ]
    },
    {
      "source": [
        "!cargo update -p llama_cpp\n",
        "!cargo update -p llama_cpp_sys\n"
      ],
      "cell_type": "code",
      "metadata": {
        "colab": {
          "base_uri": "https://localhost:8080/"
        },
        "id": "0e5tmsAZOlKi",
        "outputId": "395f56ea-3509-43ef-b795-7e408032c598"
      },
      "execution_count": 11,
      "outputs": [
        {
          "output_type": "stream",
          "name": "stdout",
          "text": [
            "\u001b[1m\u001b[31merror\u001b[0m\u001b[1m:\u001b[0m cyclic package dependency: package `llama_cpp v0.3.2 (/content/llama_cpp-rs/crates/llama_cpp)` depends on itself. Cycle:\n",
            "package `llama_cpp v0.3.2 (/content/llama_cpp-rs/crates/llama_cpp)`\n",
            "    ... which satisfies path dependency `llama_cpp` (locked to 0.3.2) of package `llama_cpp_sys v0.3.2 (/content/llama_cpp-rs/crates/llama_cpp_sys)`\n",
            "    ... which satisfies path dependency `llama_cpp_sys` (locked to 0.3.2) of package `llama_cpp v0.3.2 (/content/llama_cpp-rs/crates/llama_cpp)`\n",
            "\u001b[1m\u001b[31merror\u001b[0m\u001b[1m:\u001b[0m cyclic package dependency: package `llama_cpp v0.3.2 (/content/llama_cpp-rs/crates/llama_cpp)` depends on itself. Cycle:\n",
            "package `llama_cpp v0.3.2 (/content/llama_cpp-rs/crates/llama_cpp)`\n",
            "    ... which satisfies path dependency `llama_cpp` (locked to 0.3.2) of package `llama_cpp_sys v0.3.2 (/content/llama_cpp-rs/crates/llama_cpp_sys)`\n",
            "    ... which satisfies path dependency `llama_cpp_sys` (locked to 0.3.2) of package `llama_cpp v0.3.2 (/content/llama_cpp-rs/crates/llama_cpp)`\n"
          ]
        }
      ]
    },
    {
      "source": [
        "!rm -rf target\n",
        "!rm -rf ~/.cargo/registry/cache ~/.cargo/git/db"
      ],
      "cell_type": "code",
      "metadata": {
        "id": "MholhC2VO7c4"
      },
      "execution_count": 12,
      "outputs": []
    },
    {
      "source": [
        "!rm Cargo.lock"
      ],
      "cell_type": "code",
      "metadata": {
        "id": "BJvNY0UNO9UU"
      },
      "execution_count": 13,
      "outputs": []
    },
    {
      "source": [
        "!cargo update -p llama_cpp\n",
        "!cargo update -p llama_cpp_sys\n"
      ],
      "cell_type": "code",
      "metadata": {
        "colab": {
          "base_uri": "https://localhost:8080/"
        },
        "id": "K4Cc90KtO-Hh",
        "outputId": "cdc4c503-17a8-4c5d-cf12-b3ad6e5fbe82"
      },
      "execution_count": 14,
      "outputs": [
        {
          "output_type": "stream",
          "name": "stdout",
          "text": [
            "\u001b[1m\u001b[32m    Updating\u001b[0m crates.io index\n",
            "\u001b[1m\u001b[31merror\u001b[0m\u001b[1m:\u001b[0m cyclic package dependency: package `llama_cpp v0.3.2 (/content/llama_cpp-rs/crates/llama_cpp)` depends on itself. Cycle:\n",
            "package `llama_cpp v0.3.2 (/content/llama_cpp-rs/crates/llama_cpp)`\n",
            "    ... which satisfies path dependency `llama_cpp` of package `llama_cpp_sys v0.3.2 (/content/llama_cpp-rs/crates/llama_cpp_sys)`\n",
            "    ... which satisfies path dependency `llama_cpp_sys` of package `llama_cpp v0.3.2 (/content/llama_cpp-rs/crates/llama_cpp)`\n",
            "\u001b[1m\u001b[32m    Updating\u001b[0m crates.io index\n",
            "\u001b[1m\u001b[31merror\u001b[0m\u001b[1m:\u001b[0m cyclic package dependency: package `llama_cpp v0.3.2 (/content/llama_cpp-rs/crates/llama_cpp)` depends on itself. Cycle:\n",
            "package `llama_cpp v0.3.2 (/content/llama_cpp-rs/crates/llama_cpp)`\n",
            "    ... which satisfies path dependency `llama_cpp` of package `llama_cpp_sys v0.3.2 (/content/llama_cpp-rs/crates/llama_cpp_sys)`\n",
            "    ... which satisfies path dependency `llama_cpp_sys` of package `llama_cpp v0.3.2 (/content/llama_cpp-rs/crates/llama_cpp)`\n"
          ]
        }
      ]
    },
    {
      "source": [
        "!cargo clean\n",
        "!cargo build --release"
      ],
      "cell_type": "code",
      "metadata": {
        "colab": {
          "base_uri": "https://localhost:8080/"
        },
        "id": "CNwxT11QPyPC",
        "outputId": "7c594329-bae4-4c06-ec1d-2c8d392b4d87"
      },
      "execution_count": 15,
      "outputs": [
        {
          "output_type": "stream",
          "name": "stdout",
          "text": [
            "\u001b[1m\u001b[91merror\u001b[0m: \u001b[1mduplicate key `llama_cpp_sys` in table `dependencies`\u001b[0m\n",
            "  \u001b[1m\u001b[94m-->\u001b[0m crates/llama_cpp/Cargo.toml:23:1\n",
            "   \u001b[1m\u001b[94m|\u001b[0m\n",
            "\u001b[1m\u001b[94m23 |\u001b[0m llama_cpp_sys = \"0.3.2\"\n",
            "   \u001b[1m\u001b[94m|\u001b[0m \u001b[1m\u001b[91m^\u001b[0m\n",
            "   \u001b[1m\u001b[94m|\u001b[0m\n",
            "\u001b[1m\u001b[31merror\u001b[0m\u001b[1m:\u001b[0m failed to load manifest for workspace member `/content/llama_cpp-rs/crates/llama_cpp_sys`\n",
            "referenced by workspace at `/content/llama_cpp-rs/Cargo.toml`\n",
            "\n",
            "Caused by:\n",
            "  failed to load manifest for dependency `llama_cpp`\n",
            "\u001b[1m\u001b[91merror\u001b[0m: \u001b[1mduplicate key `llama_cpp_sys` in table `dependencies`\u001b[0m\n",
            "  \u001b[1m\u001b[94m-->\u001b[0m crates/llama_cpp/Cargo.toml:23:1\n",
            "   \u001b[1m\u001b[94m|\u001b[0m\n",
            "\u001b[1m\u001b[94m23 |\u001b[0m llama_cpp_sys = \"0.3.2\"\n",
            "   \u001b[1m\u001b[94m|\u001b[0m \u001b[1m\u001b[91m^\u001b[0m\n",
            "   \u001b[1m\u001b[94m|\u001b[0m\n",
            "\u001b[1m\u001b[31merror\u001b[0m\u001b[1m:\u001b[0m failed to load manifest for workspace member `/content/llama_cpp-rs/crates/llama_cpp_sys`\n",
            "referenced by workspace at `/content/llama_cpp-rs/Cargo.toml`\n",
            "\n",
            "Caused by:\n",
            "  failed to load manifest for dependency `llama_cpp`\n"
          ]
        }
      ]
    },
    {
      "cell_type": "code",
      "source": [],
      "metadata": {
        "id": "1SWpPwm8N29A"
      },
      "execution_count": null,
      "outputs": []
    }
  ]
}