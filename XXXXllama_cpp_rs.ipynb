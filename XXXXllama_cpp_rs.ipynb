{
  "nbformat": 4,
  "nbformat_minor": 0,
  "metadata": {
    "colab": {
      "provenance": []
    },
    "kernelspec": {
      "name": "python3",
      "display_name": "Python 3"
    },
    "language_info": {
      "name": "python"
    }
  },
  "cells": [
    {
      "cell_type": "code",
      "execution_count": null,
      "metadata": {
        "id": "ll1m8QrfP3Iy"
      },
      "outputs": [],
      "source": []
    },
    {
      "cell_type": "code",
      "source": [],
      "metadata": {
        "id": "A4T4OiD0P6WL"
      },
      "execution_count": null,
      "outputs": []
    },
    {
      "cell_type": "code",
      "source": [],
      "metadata": {
        "id": "Vqz8BZL7P6ZJ"
      },
      "execution_count": null,
      "outputs": []
    },
    {
      "cell_type": "code",
      "source": [
        "\n",
        "!curl --proto '=https' --tlsv1.2 -sSf https://sh.rustup.rs | sh -s -- -y\n",
        "\n",
        "import os\n",
        "os.environ['PATH'] += \":/root/.cargo/bin\"\n",
        "\n",
        "!cargo --version"
      ],
      "metadata": {
        "colab": {
          "base_uri": "https://localhost:8080/"
        },
        "id": "0MhCZF_SP6bo",
        "outputId": "f8c0a779-4288-4d1b-d3fe-69b9b5a97978"
      },
      "execution_count": 1,
      "outputs": [
        {
          "output_type": "stream",
          "name": "stdout",
          "text": [
            "\u001b[1minfo:\u001b[0m downloading installer\n",
            "\u001b[0m\u001b[1minfo: \u001b[0mprofile set to 'default'\n",
            "\u001b[0m\u001b[1minfo: \u001b[0mdefault host triple is x86_64-unknown-linux-gnu\n",
            "\u001b[0m\u001b[1minfo: \u001b[0msyncing channel updates for 'stable-x86_64-unknown-linux-gnu'\n",
            "\u001b[0m\u001b[1minfo: \u001b[0mlatest update on 2025-04-03, rust version 1.86.0 (05f9846f8 2025-03-31)\n",
            "\u001b[0m\u001b[1minfo: \u001b[0mdownloading component 'cargo'\n",
            "\u001b[0m\u001b[1minfo: \u001b[0mdownloading component 'clippy'\n",
            "\u001b[0m\u001b[1minfo: \u001b[0mdownloading component 'rust-docs'\n",
            "\u001b[0m\u001b[1minfo: \u001b[0mdownloading component 'rust-std'\n",
            " 27.1 MiB /  27.1 MiB (100 %)  25.2 MiB/s in  1s\n",
            "\u001b[0m\u001b[1minfo: \u001b[0mdownloading component 'rustc'\n",
            " 72.8 MiB /  72.8 MiB (100 %)  35.8 MiB/s in  1s\n",
            "\u001b[0m\u001b[1minfo: \u001b[0mdownloading component 'rustfmt'\n",
            "\u001b[0m\u001b[1minfo: \u001b[0minstalling component 'cargo'\n",
            "  8.8 MiB /   8.8 MiB (100 %)   7.4 MiB/s in  1s\n",
            "\u001b[0m\u001b[1minfo: \u001b[0minstalling component 'clippy'\n",
            "\u001b[0m\u001b[1minfo: \u001b[0minstalling component 'rust-docs'\n",
            " 21.2 MiB /  21.2 MiB (100 %)   2.6 MiB/s in  8s\n",
            "\u001b[0m\u001b[1minfo: \u001b[0minstalling component 'rust-std'\n",
            " 27.1 MiB /  27.1 MiB (100 %)   6.1 MiB/s in  4s\n",
            "\u001b[0m\u001b[1minfo: \u001b[0minstalling component 'rustc'\n",
            " 72.8 MiB /  72.8 MiB (100 %)   7.6 MiB/s in  9s\n",
            "\u001b[0m\u001b[1minfo: \u001b[0minstalling component 'rustfmt'\n",
            "\u001b[0m\u001b[1minfo: \u001b[0mdefault toolchain set to 'stable-x86_64-unknown-linux-gnu'\n",
            "\n",
            "  \u001b[0m\u001b[1m\u001b[0m\u001b[1m\u001b[32mstable-x86_64-unknown-linux-gnu installed\u001b[0m - rustc 1.86.0 (05f9846f8 2025-03-31)\n",
            "\n",
            "\u001b[0m\u001b[1m\n",
            "Rust is installed now. Great!\n",
            "\u001b[0m\n",
            "To get started you may need to restart your current shell.\n",
            "This would reload your \u001b[0m\u001b[1mPATH\u001b[0m environment variable to include\n",
            "Cargo's bin directory ($HOME/.cargo/bin).\n",
            "\n",
            "To configure your current shell, you need to source\n",
            "the corresponding \u001b[0m\u001b[1menv\u001b[0m file under $HOME/.cargo.\n",
            "\n",
            "This is usually done by running one of the following (note the leading DOT):\n",
            ". \"$HOME/.cargo/env\"            # For sh/bash/zsh/ash/dash/pdksh\n",
            "source \"$HOME/.cargo/env.fish\"  # For fish\n",
            "source $\"($nu.home-path)/.cargo/env.nu\"  # For nushell\n",
            "cargo 1.86.0 (adf9b6ad1 2025-02-28)\n"
          ]
        }
      ]
    },
    {
      "cell_type": "code",
      "source": [
        "!git clone https://github.com/edgenai/llama_cpp-rs.git"
      ],
      "metadata": {
        "colab": {
          "base_uri": "https://localhost:8080/"
        },
        "id": "wQA1GQSzP62r",
        "outputId": "f6608dcd-b17c-477a-9cb1-c54d3e34ec88"
      },
      "execution_count": 2,
      "outputs": [
        {
          "output_type": "stream",
          "name": "stdout",
          "text": [
            "Cloning into 'llama_cpp-rs'...\n",
            "remote: Enumerating objects: 1886, done.\u001b[K\n",
            "remote: Counting objects: 100% (185/185), done.\u001b[K\n",
            "remote: Compressing objects: 100% (105/105), done.\u001b[K\n",
            "remote: Total 1886 (delta 90), reused 80 (delta 80), pack-reused 1701 (from 2)\u001b[K\n",
            "Receiving objects: 100% (1886/1886), 405.43 KiB | 5.26 MiB/s, done.\n",
            "Resolving deltas: 100% (977/977), done.\n"
          ]
        }
      ]
    },
    {
      "cell_type": "code",
      "source": [
        "!cargo new llama_model_runner\n",
        "%cd llama_model_runner"
      ],
      "metadata": {
        "colab": {
          "base_uri": "https://localhost:8080/"
        },
        "id": "gFC1pgqcQOjx",
        "outputId": "92d1f199-1393-40d1-ca4f-b7b8dfbc1f55"
      },
      "execution_count": 4,
      "outputs": [
        {
          "output_type": "stream",
          "name": "stdout",
          "text": [
            "\u001b[1m\u001b[32m    Creating\u001b[0m binary (application) `llama_model_runner` package\n",
            "\u001b[1m\u001b[36mnote\u001b[0m\u001b[1m:\u001b[0m see more `Cargo.toml` keys and their definitions at https://doc.rust-lang.org/cargo/reference/manifest.html\n",
            "/content/llama_model_runner\n"
          ]
        }
      ]
    },
    {
      "cell_type": "code",
      "source": [
        "[package]\n",
        "name = \"llama_model_runner\"\n",
        "version = \"0.1.0\"\n",
        "edition = \"2021\"\n",
        "\n",
        "[dependencies]\n",
        "# اضبط المسار بما يتناسب مع موقع الكود على جهازك\n",
        "llama_cpp = { path = \"/content/llama_cpp-rs/crates/llama_cpp\", features = [\"default\"] }"
      ],
      "metadata": {
        "id": "T7M3HCtkQxHr"
      },
      "execution_count": null,
      "outputs": []
    },
    {
      "cell_type": "code",
      "source": [
        "use llama_cpp::{\n",
        "    context::params::LlamaContextParams,\n",
        "    model::params::LlamaModelParams,\n",
        "    LlamaContext, LlamaModel, LlamaTokenizer,\n",
        "};\n",
        "\n",
        "fn main() -> Result<(), Box<dyn std::error::Error>> {\n",
        "    // مسار لملف النموذج GGUF\n",
        "    let model_path = \"/content/mistral-7b-instruct-v0.2.Q2_K.gguf\";\n",
        "\n",
        "    // إعداد معلمات النموذج\n",
        "    let model_params = LlamaModelParams::default()\n",
        "        .n_gpu_layers(0); // ضبط عدد طبقات GPU المستخدمة (0 للـ CPU فقط)\n",
        "\n",
        "    // تحميل النموذج\n",
        "    let model = LlamaModel::load_from_file(model_path, model_params)?;\n",
        "\n",
        "    // إعداد معلمات السياق\n",
        "    let ctx_params = LlamaContextParams::default()\n",
        "        .n_ctx(2048)  // حجم النافذة السياقية\n",
        "        .n_threads(4); // عدد الخيوط\n",
        "\n",
        "    // إنشاء السياق\n",
        "    let mut ctx = LlamaContext::new(model, ctx_params)?;\n",
        "\n",
        "    // استخدام النموذج للتوليد\n",
        "    let prompt = \"أكمل الجملة التالية: الذكاء الاصطناعي سوف\";\n",
        "\n",
        "    // المعلمات الأساسية للتوليد\n",
        "    let temperature = 0.7;\n",
        "    let top_p = 0.9;\n",
        "    let max_tokens = 128;\n",
        "\n",
        "    // توليد النص\n",
        "    let output = ctx.generate(\n",
        "        prompt,\n",
        "        temperature,\n",
        "        top_p,\n",
        "        max_tokens,\n",
        "        |_token| { true }, // استمر في التوليد\n",
        "        |text| { print!(\"{}\", text); }, // طباعة النص المولد\n",
        "    )?;\n",
        "\n",
        "    println!(\"\\n\\nالنص المولد الكامل: {}\", output);\n",
        "\n",
        "    Ok(())\n",
        "}"
      ],
      "metadata": {
        "id": "0cNpNjj7RKbp"
      },
      "execution_count": null,
      "outputs": []
    },
    {
      "cell_type": "code",
      "source": [
        "%cd /content\n",
        "!wget https://huggingface.co/TheBloke/Mistral-7B-Instruct-v0.2-GGUF/resolve/main/mistral-7b-instruct-v0.2.Q2_K.gguf"
      ],
      "metadata": {
        "colab": {
          "base_uri": "https://localhost:8080/"
        },
        "id": "UdHasn69Rbx6",
        "outputId": "fb097f1d-3b00-4dc8-a731-8ca7fc20f902"
      },
      "execution_count": 5,
      "outputs": [
        {
          "output_type": "stream",
          "name": "stdout",
          "text": [
            "/content\n",
            "--2025-05-07 01:04:44--  https://huggingface.co/TheBloke/Mistral-7B-Instruct-v0.2-GGUF/resolve/main/mistral-7b-instruct-v0.2.Q2_K.gguf\n",
            "Resolving huggingface.co (huggingface.co)... 18.239.50.49, 18.239.50.16, 18.239.50.80, ...\n",
            "Connecting to huggingface.co (huggingface.co)|18.239.50.49|:443... connected.\n",
            "HTTP request sent, awaiting response... 302 Found\n",
            "Location: https://cdn-lfs-us-1.hf.co/repos/72/62/726219e98582d16c24a66629a4dec1b0761b91c918e15dea2625b4293c134a92/6d52a37032d25bc879691b0e870da12ffd5788e6f4dd2eea1b5d9a7020091f71?response-content-disposition=inline%3B+filename*%3DUTF-8%27%27mistral-7b-instruct-v0.2.Q2_K.gguf%3B+filename%3D%22mistral-7b-instruct-v0.2.Q2_K.gguf%22%3B&Expires=1746583484&Policy=eyJTdGF0ZW1lbnQiOlt7IkNvbmRpdGlvbiI6eyJEYXRlTGVzc1RoYW4iOnsiQVdTOkVwb2NoVGltZSI6MTc0NjU4MzQ4NH19LCJSZXNvdXJjZSI6Imh0dHBzOi8vY2RuLWxmcy11cy0xLmhmLmNvL3JlcG9zLzcyLzYyLzcyNjIxOWU5ODU4MmQxNmMyNGE2NjYyOWE0ZGVjMWIwNzYxYjkxYzkxOGUxNWRlYTI2MjViNDI5M2MxMzRhOTIvNmQ1MmEzNzAzMmQyNWJjODc5NjkxYjBlODcwZGExMmZmZDU3ODhlNmY0ZGQyZWVhMWI1ZDlhNzAyMDA5MWY3MT9yZXNwb25zZS1jb250ZW50LWRpc3Bvc2l0aW9uPSoifV19&Signature=BSXdHXxD4saYejqc27uPf4R%7EU7YOTIDLTsXqkSP-XPZa9L6jYSW35zqwxESY31KedZ6vHcgSPqZeZ4j-8OLknSfzi4uxqH-u9B0d7LOC7J19y2ij4XfHrBF7eX3dHCNMvA37fdujOLX6NsTVWaFINi213GhZy55igCqOy0wwNFxF0IaVNj9MuNRsU9NVuopVRBlicfjCG5yDIGoyF4GfTjQUXHrApWfrTpVkka52Vv6sE0zd%7EmeisPyP6BD0LNguZvdNcjczE5sG1GcVbUSFJeqWE%7EBchx5DWuL2h9CaiEGn06St--YB75kInMtwD3pAQYPtf7RR9l1-3a02%7E5DxWQ__&Key-Pair-Id=K24J24Z295AEI9 [following]\n",
            "--2025-05-07 01:04:44--  https://cdn-lfs-us-1.hf.co/repos/72/62/726219e98582d16c24a66629a4dec1b0761b91c918e15dea2625b4293c134a92/6d52a37032d25bc879691b0e870da12ffd5788e6f4dd2eea1b5d9a7020091f71?response-content-disposition=inline%3B+filename*%3DUTF-8%27%27mistral-7b-instruct-v0.2.Q2_K.gguf%3B+filename%3D%22mistral-7b-instruct-v0.2.Q2_K.gguf%22%3B&Expires=1746583484&Policy=eyJTdGF0ZW1lbnQiOlt7IkNvbmRpdGlvbiI6eyJEYXRlTGVzc1RoYW4iOnsiQVdTOkVwb2NoVGltZSI6MTc0NjU4MzQ4NH19LCJSZXNvdXJjZSI6Imh0dHBzOi8vY2RuLWxmcy11cy0xLmhmLmNvL3JlcG9zLzcyLzYyLzcyNjIxOWU5ODU4MmQxNmMyNGE2NjYyOWE0ZGVjMWIwNzYxYjkxYzkxOGUxNWRlYTI2MjViNDI5M2MxMzRhOTIvNmQ1MmEzNzAzMmQyNWJjODc5NjkxYjBlODcwZGExMmZmZDU3ODhlNmY0ZGQyZWVhMWI1ZDlhNzAyMDA5MWY3MT9yZXNwb25zZS1jb250ZW50LWRpc3Bvc2l0aW9uPSoifV19&Signature=BSXdHXxD4saYejqc27uPf4R%7EU7YOTIDLTsXqkSP-XPZa9L6jYSW35zqwxESY31KedZ6vHcgSPqZeZ4j-8OLknSfzi4uxqH-u9B0d7LOC7J19y2ij4XfHrBF7eX3dHCNMvA37fdujOLX6NsTVWaFINi213GhZy55igCqOy0wwNFxF0IaVNj9MuNRsU9NVuopVRBlicfjCG5yDIGoyF4GfTjQUXHrApWfrTpVkka52Vv6sE0zd%7EmeisPyP6BD0LNguZvdNcjczE5sG1GcVbUSFJeqWE%7EBchx5DWuL2h9CaiEGn06St--YB75kInMtwD3pAQYPtf7RR9l1-3a02%7E5DxWQ__&Key-Pair-Id=K24J24Z295AEI9\n",
            "Resolving cdn-lfs-us-1.hf.co (cdn-lfs-us-1.hf.co)... 108.156.60.36, 108.156.60.74, 108.156.60.94, ...\n",
            "Connecting to cdn-lfs-us-1.hf.co (cdn-lfs-us-1.hf.co)|108.156.60.36|:443... connected.\n",
            "HTTP request sent, awaiting response... 200 OK\n",
            "Length: 3083098400 (2.9G) [binary/octet-stream]\n",
            "Saving to: ‘mistral-7b-instruct-v0.2.Q2_K.gguf’\n",
            "\n",
            "mistral-7b-instruct 100%[===================>]   2.87G   255MB/s    in 20s     \n",
            "\n",
            "2025-05-07 01:05:04 (147 MB/s) - ‘mistral-7b-instruct-v0.2.Q2_K.gguf’ saved [3083098400/3083098400]\n",
            "\n"
          ]
        }
      ]
    },
    {
      "cell_type": "code",
      "source": [
        "%%bash\n",
        "# تثبيت متطلبات البناء\n",
        "apt-get update && apt-get install -y build-essential cmake clang"
      ],
      "metadata": {
        "colab": {
          "base_uri": "https://localhost:8080/"
        },
        "id": "9mFw-acuRw7K",
        "outputId": "179b339c-4715-42e4-cc81-d108c8ff57aa"
      },
      "execution_count": 6,
      "outputs": [
        {
          "output_type": "stream",
          "name": "stdout",
          "text": [
            "Hit:1 http://archive.ubuntu.com/ubuntu jammy InRelease\n",
            "Get:2 http://archive.ubuntu.com/ubuntu jammy-updates InRelease [128 kB]\n",
            "Get:3 http://security.ubuntu.com/ubuntu jammy-security InRelease [129 kB]\n",
            "Get:4 http://archive.ubuntu.com/ubuntu jammy-backports InRelease [127 kB]\n",
            "Hit:5 https://developer.download.nvidia.com/compute/cuda/repos/ubuntu2204/x86_64  InRelease\n",
            "Get:6 https://cloud.r-project.org/bin/linux/ubuntu jammy-cran40/ InRelease [3,632 B]\n",
            "Hit:7 https://ppa.launchpadcontent.net/deadsnakes/ppa/ubuntu jammy InRelease\n",
            "Hit:8 https://ppa.launchpadcontent.net/graphics-drivers/ppa/ubuntu jammy InRelease\n",
            "Hit:9 https://ppa.launchpadcontent.net/ubuntugis/ppa/ubuntu jammy InRelease\n",
            "Get:10 http://security.ubuntu.com/ubuntu jammy-security/main amd64 Packages [2,894 kB]\n",
            "Get:11 https://r2u.stat.illinois.edu/ubuntu jammy InRelease [6,555 B]\n",
            "Get:12 http://security.ubuntu.com/ubuntu jammy-security/restricted amd64 Packages [4,266 kB]\n",
            "Get:13 http://security.ubuntu.com/ubuntu jammy-security/universe amd64 Packages [1,245 kB]\n",
            "Get:14 http://security.ubuntu.com/ubuntu jammy-security/multiverse amd64 Packages [47.7 kB]\n",
            "Get:15 http://archive.ubuntu.com/ubuntu jammy-updates/universe amd64 Packages [1,545 kB]\n",
            "Get:16 http://archive.ubuntu.com/ubuntu jammy-updates/restricted amd64 Packages [4,428 kB]\n",
            "Get:17 http://archive.ubuntu.com/ubuntu jammy-updates/main amd64 Packages [3,208 kB]\n",
            "Get:18 http://archive.ubuntu.com/ubuntu jammy-backports/main amd64 Packages [83.2 kB]\n",
            "Get:19 https://r2u.stat.illinois.edu/ubuntu jammy/main all Packages [8,909 kB]\n",
            "Get:20 https://r2u.stat.illinois.edu/ubuntu jammy/main amd64 Packages [2,715 kB]\n",
            "Fetched 29.7 MB in 4s (7,367 kB/s)\n",
            "Reading package lists...\n",
            "Reading package lists...\n",
            "Building dependency tree...\n",
            "Reading state information...\n",
            "build-essential is already the newest version (12.9ubuntu3).\n",
            "clang is already the newest version (1:14.0-55~exp2).\n",
            "cmake is already the newest version (3.22.1-1ubuntu1.22.04.2).\n",
            "0 upgraded, 0 newly installed, 0 to remove and 38 not upgraded.\n"
          ]
        },
        {
          "output_type": "stream",
          "name": "stderr",
          "text": [
            "W: Skipping acquire of configured file 'main/source/Sources' as repository 'https://r2u.stat.illinois.edu/ubuntu jammy InRelease' does not seem to provide it (sources.list entry misspelt?)\n"
          ]
        }
      ]
    },
    {
      "cell_type": "code",
      "source": [
        "%%bash\n",
        "# تثبيت متطلبات البناء\n",
        "apt-get update && apt-get install -y build-essential cmake clang\n",
        "\n",
        "# تثبيت Rust\n",
        "curl --proto '=https' --tlsv1.2 -sSf https://sh.rustup.rs | sh -s -- -y\n",
        "source $HOME/.cargo/env"
      ],
      "metadata": {
        "id": "a4Ph9ntaRghD"
      },
      "execution_count": null,
      "outputs": []
    },
    {
      "cell_type": "code",
      "source": [
        "%%bash\n",
        "\n",
        "# إذا لم يكن المشروع موجودًا بالفعل\n",
        "if [ ! -d \"/content/llama_cpp-rs\" ]; then\n",
        "  git clone https://github.com/edgenai/llama_cpp-rs.git /content/llama_cpp-rs\n",
        "fi"
      ],
      "metadata": {
        "colab": {
          "base_uri": "https://localhost:8080/"
        },
        "id": "pSw1yEwHR03R",
        "outputId": "6c002aab-b3aa-404b-a593-7d5baba12ba8"
      },
      "execution_count": 7,
      "outputs": [
        {
          "output_type": "stream",
          "name": "stderr",
          "text": [
            "Cloning into '/content/llama_cpp-rs'...\n"
          ]
        }
      ]
    },
    {
      "cell_type": "code",
      "source": [
        "%%writefile /content/llama_runner/src/main.rs\n",
        "use llama_cpp::{\n",
        "    context::params::LlamaContextParams,\n",
        "    model::params::LlamaModelParams,\n",
        "    LlamaContext, LlamaModel,\n",
        "};\n",
        "\n",
        "fn main() -> Result<(), Box<dyn std::error::Error>> {\n",
        "    // طريق النموذج - تأكد من تحديثه إذا استخدمت نموذجًا مختلفًا\n",
        "    let model_path = \"/content/models/phi-2.Q4_K_M.gguf\";\n",
        "\n",
        "    println!(\"تحميل النموذج من: {}\", model_path);\n",
        "\n",
        "    // إعداد معلمات النموذج للـ CPU\n",
        "    let model_params = LlamaModelParams::default()\n",
        "        .n_gpu_layers(0)       // تعطيل GPU\n",
        "        .use_mmap(true)        // استخدام mmap لتوفير الذاكرة\n",
        "        .use_mlock(false);     // عدم قفل الذاكرة\n",
        "\n",
        "    // تحميل النموذج\n",
        "    let model = match LlamaModel::load_from_file(model_path, model_params) {\n",
        "        Ok(model) => {\n",
        "            println!(\"تم تحميل النموذج بنجاح!\");\n",
        "            model\n",
        "        },\n",
        "        Err(e) => {\n",
        "            println!(\"خطأ في تحميل النموذج: {}\", e);\n",
        "            return Err(e.into());\n",
        "        }\n",
        "    };\n",
        "\n",
        "    // تكوين معلمات السياق\n",
        "    let ctx_params = LlamaContextParams::default()\n",
        "        .n_ctx(512)            // حجم نافذة سياقية صغير للتوفير في الذاكرة\n",
        "        .n_batch(64)           // حجم دفعة صغير\n",
        "        .n_threads(2);         // يمكن زيادته حسب عدد وحدات المعالجة المركزية المتاحة في Colab\n",
        "\n",
        "    // إنشاء السياق\n",
        "    let mut ctx = match LlamaContext::new(model, ctx_params) {\n",
        "        Ok(ctx) => {\n",
        "            println!(\"تم إنشاء السياق بنجاح!\");\n",
        "            ctx\n",
        "        },\n",
        "        Err(e) => {\n",
        "            println!(\"خطأ في إنشاء السياق: {}\", e);\n",
        "            return Err(e.into());\n",
        "        }\n",
        "    };\n",
        "\n",
        "    // المطالبة - استخدم مطالبة بسيطة لاختبار النموذج\n",
        "    let prompt = \"اكتب جملة قصيرة عن الذكاء الاصطناعي:\";\n",
        "    println!(\"المطالبة: {}\", prompt);\n",
        "\n",
        "    // معلمات التوليد\n",
        "    let temperature = 0.7;\n",
        "    let top_p = 0.9;\n",
        "    let max_tokens = 50;  // عدد الرموز المراد توليدها\n",
        "\n",
        "    println!(\"بدء التوليد...\");\n",
        "\n",
        "    // توليد النص\n",
        "    let output = ctx.generate(\n",
        "        prompt,\n",
        "        temperature,\n",
        "        top_p,\n",
        "        max_tokens,\n",
        "        |_token| { true },  // استمر في التوليد\n",
        "        |text| { print!(\"{}\", text); }, // طباعة مباشرة للنص المولد\n",
        "    )?;\n",
        "\n",
        "    println!(\"\\n\\nالنص المولد الكامل: {}\", output);\n",
        "\n",
        "    Ok(())\n",
        "}"
      ],
      "metadata": {
        "colab": {
          "base_uri": "https://localhost:8080/"
        },
        "id": "GiknqbKdSe2C",
        "outputId": "42139b07-04bc-413c-84b1-b735dcfa6a83"
      },
      "execution_count": 8,
      "outputs": [
        {
          "output_type": "stream",
          "name": "stdout",
          "text": [
            "Writing /content/llama_runner/src/main.rs\n"
          ]
        }
      ]
    },
    {
      "cell_type": "code",
      "source": [
        "%%bash\n",
        "cd /content/llama_runner\n",
        "cargo build --release\n",
        "./target/release/llama_runner"
      ],
      "metadata": {
        "colab": {
          "base_uri": "https://localhost:8080/",
          "height": 1000
        },
        "id": "2oOAlhgGSfXD",
        "outputId": "e5fc7bd1-11f7-4513-fb75-0fb87f87a01f"
      },
      "execution_count": 9,
      "outputs": [
        {
          "output_type": "stream",
          "name": "stderr",
          "text": [
            "    Updating crates.io index\n",
            "     Locking 84 packages to latest compatible versions\n",
            " Downloading crates ...\n",
            "  Downloaded autocfg v1.4.0\n",
            "  Downloaded convert_case v0.4.0\n",
            "  Downloaded cfg-if v1.0.0\n",
            "  Downloaded cexpr v0.6.0\n",
            "  Downloaded link-cplusplus v1.0.10\n",
            "  Downloaded which v4.4.2\n",
            "  Downloaded thiserror v1.0.69\n",
            "  Downloaded unicode-ident v1.0.18\n",
            "  Downloaded tracing-core v0.1.33\n",
            "  Downloaded tracing v0.1.41\n",
            "  Downloaded prettyplease v0.2.32\n",
            "  Downloaded minimal-lexical v0.2.1\n",
            "  Downloaded nom v7.1.3\n",
            "  Downloaded itertools v0.12.1\n",
            "  Downloaded aho-corasick v1.1.3\n",
            "  Downloaded futures-util v0.3.31\n",
            "  Downloaded bindgen v0.69.5\n",
            "  Downloaded memchr v2.7.4\n",
            "  Downloaded cc v1.2.21\n",
            "  Downloaded regex v1.11.1\n",
            "  Downloaded once_cell v1.21.3\n",
            "  Downloaded syn v2.0.101\n",
            "  Downloaded log v0.4.27\n",
            "  Downloaded futures v0.3.31\n",
            "  Downloaded regex-syntax v0.8.5\n",
            "  Downloaded rustix v0.38.44\n",
            "  Downloaded derive_more v0.99.20\n",
            "  Downloaded tracing-attributes v0.1.28\n",
            "  Downloaded thiserror-impl v1.0.69\n",
            "  Downloaded quote v1.0.40\n",
            "  Downloaded proc-macro2 v1.0.95\n",
            "  Downloaded pin-project-lite v0.2.16\n",
            "  Downloaded libloading v0.8.6\n",
            "  Downloaded jobserver v0.1.33\n",
            "  Downloaded home v0.5.11\n",
            "  Downloaded glob v0.3.2\n",
            "  Downloaded futures-executor v0.3.31\n",
            "  Downloaded regex-automata v0.4.9\n",
            "  Downloaded futures-channel v0.3.31\n",
            "  Downloaded either v1.15.0\n",
            "  Downloaded slab v0.4.9\n",
            "  Downloaded semver v1.0.26\n",
            "  Downloaded rustc-hash v1.1.0\n",
            "  Downloaded pin-utils v0.1.0\n",
            "  Downloaded lazycell v1.3.0\n",
            "  Downloaded futures-macro v0.3.31\n",
            "  Downloaded futures-core v0.3.31\n",
            "  Downloaded shlex v1.3.0\n",
            "  Downloaded tokio v1.45.0\n",
            "  Downloaded libc v0.2.172\n",
            "  Downloaded rustc_version v0.4.1\n",
            "  Downloaded num_cpus v1.16.0\n",
            "  Downloaded lazy_static v1.5.0\n",
            "  Downloaded futures-task v0.3.31\n",
            "  Downloaded futures-sink v0.3.31\n",
            "  Downloaded futures-io v0.3.31\n",
            "  Downloaded errno v0.3.11\n",
            "  Downloaded clang-sys v1.8.1\n",
            "  Downloaded bitflags v2.9.0\n",
            "  Downloaded linux-raw-sys v0.4.15\n",
            "   Compiling proc-macro2 v1.0.95\n",
            "   Compiling unicode-ident v1.0.18\n",
            "   Compiling libc v0.2.172\n",
            "   Compiling quote v1.0.40\n",
            "   Compiling glob v0.3.2\n",
            "   Compiling syn v2.0.101\n",
            "   Compiling shlex v1.3.0\n",
            "   Compiling clang-sys v1.8.1\n",
            "   Compiling jobserver v0.1.33\n",
            "   Compiling prettyplease v0.2.32\n",
            "   Compiling rustix v0.38.44\n",
            "   Compiling cc v1.2.21\n",
            "   Compiling cfg-if v1.0.0\n",
            "   Compiling bitflags v2.9.0\n",
            "   Compiling regex-syntax v0.8.5\n",
            "   Compiling minimal-lexical v0.2.1\n",
            "   Compiling autocfg v1.4.0\n",
            "   Compiling either v1.15.0\n",
            "   Compiling memchr v2.7.4\n",
            "   Compiling linux-raw-sys v0.4.15\n",
            "   Compiling nom v7.1.3\n",
            "   Compiling slab v0.4.9\n",
            "   Compiling regex-automata v0.4.9\n",
            "   Compiling libloading v0.8.6\n",
            "   Compiling pin-project-lite v0.2.16\n",
            "   Compiling home v0.5.11\n",
            "   Compiling bindgen v0.69.5\n",
            "   Compiling which v4.4.2\n",
            "   Compiling regex v1.11.1\n",
            "   Compiling cexpr v0.6.0\n",
            "   Compiling itertools v0.12.1\n",
            "   Compiling link-cplusplus v1.0.10\n",
            "   Compiling rustc-hash v1.1.0\n",
            "   Compiling futures-sink v0.3.31\n",
            "   Compiling lazycell v1.3.0\n",
            "   Compiling lazy_static v1.5.0\n",
            "   Compiling log v0.4.27\n",
            "   Compiling futures-core v0.3.31\n",
            "   Compiling futures-channel v0.3.31\n",
            "   Compiling futures-macro v0.3.31\n",
            "   Compiling futures-io v0.3.31\n",
            "   Compiling once_cell v1.21.3\n",
            "   Compiling futures-task v0.3.31\n",
            "   Compiling pin-utils v0.1.0\n",
            "   Compiling futures-util v0.3.31\n",
            "   Compiling llama_cpp_sys v0.3.2 (/content/llama_cpp-rs/crates/llama_cpp_sys)\n",
            "warning: unexpected `cfg` condition value: `opencl`\n",
            "   --> /content/llama_cpp-rs/crates/llama_cpp_sys/build.rs:647:20\n",
            "    |\n",
            "647 |     } else if cfg!(feature = \"opencl\") {\n",
            "    |                    ^^^^^^^^^^^^^^^^^^\n",
            "    |\n",
            "    = note: expected values for `feature` are: `accel`, `avx`, `avx2`, `avx512`, `avx512_vmbi`, `avx512_vnni`, `blas`, `clblast`, `compat`, `cuda`, `cuda_dmmv`, `cuda_f16`, `cuda_mmq`, `default`, `f16c`, `fma`, `hipblas`, `metal`, `mpi`, `native`, and `vulkan`\n",
            "    = help: consider adding `opencl` as a feature in `Cargo.toml`\n",
            "    = note: see <https://doc.rust-lang.org/nightly/rustc/check-cfg/cargo-specifics.html> for more information about checking conditional configuration\n",
            "    = note: `#[warn(unexpected_cfgs)]` on by default\n",
            "\n",
            "warning: unexpected `cfg` condition value: `openblas`\n",
            "   --> /content/llama_cpp-rs/crates/llama_cpp_sys/build.rs:650:20\n",
            "    |\n",
            "650 |     } else if cfg!(feature = \"openblas\") {\n",
            "    |                    ^^^^^^^^^^^^^^^^^^^^\n",
            "    |\n",
            "    = note: expected values for `feature` are: `accel`, `avx`, `avx2`, `avx512`, `avx512_vmbi`, `avx512_vnni`, `blas`, `clblast`, `compat`, `cuda`, `cuda_dmmv`, `cuda_f16`, `cuda_mmq`, `default`, `f16c`, `fma`, `hipblas`, `metal`, `mpi`, `native`, and `vulkan`\n",
            "    = help: consider adding `openblas` as a feature in `Cargo.toml`\n",
            "    = note: see <https://doc.rust-lang.org/nightly/rustc/check-cfg/cargo-specifics.html> for more information about checking conditional configuration\n",
            "\n",
            "warning: unexpected `cfg` condition value: `blis`\n",
            "   --> /content/llama_cpp-rs/crates/llama_cpp_sys/build.rs:653:20\n",
            "    |\n",
            "653 |     } else if cfg!(feature = \"blis\") {\n",
            "    |                    ^^^^^^^^^^------\n",
            "    |                              |\n",
            "    |                              help: there is a expected value with a similar name: `\"blas\"`\n",
            "    |\n",
            "    = note: expected values for `feature` are: `accel`, `avx`, `avx2`, `avx512`, `avx512_vmbi`, `avx512_vnni`, `blas`, `clblast`, `compat`, `cuda`, `cuda_dmmv`, `cuda_f16`, `cuda_mmq`, `default`, `f16c`, `fma`, `hipblas`, `metal`, `mpi`, `native`, and `vulkan`\n",
            "    = help: consider adding `blis` as a feature in `Cargo.toml`\n",
            "    = note: see <https://doc.rust-lang.org/nightly/rustc/check-cfg/cargo-specifics.html> for more information about checking conditional configuration\n",
            "\n",
            "warning: variable does not need to be mutable\n",
            "   --> /content/llama_cpp-rs/crates/llama_cpp_sys/build.rs:498:9\n",
            "    |\n",
            "498 |     let mut output_file = File::create(&ggml_metal_shader_out_path).expect(\"Failed to create output file\");\n",
            "    |         ----^^^^^^^^^^^\n",
            "    |         |\n",
            "    |         help: remove this `mut`\n",
            "    |\n",
            "    = note: `#[warn(unused_mut)]` on by default\n",
            "\n",
            "   Compiling thiserror v1.0.69\n",
            "   Compiling tracing-core v0.1.33\n",
            "warning: `llama_cpp_sys` (build script) generated 4 warnings\n",
            "error: failed to run custom build command for `llama_cpp_sys v0.3.2 (/content/llama_cpp-rs/crates/llama_cpp_sys)`\n",
            "\n",
            "Caused by:\n",
            "  process didn't exit successfully: `/content/llama_runner/target/release/build/llama_cpp_sys-97fbbd6582831024/build-script-build` (exit status: 101)\n",
            "  --- stdout\n",
            "  cargo:rerun-if-changed=./thirdparty/llama.cpp\n",
            "  Generating bindings..\n",
            "\n",
            "  --- stderr\n",
            "\n",
            "  thread 'main' panicked at /content/llama_cpp-rs/crates/llama_cpp_sys/build.rs:117:40:\n",
            "  Unable to generate bindings: NotExist(\"./thirdparty/llama.cpp/llama.h\")\n",
            "  note: run with `RUST_BACKTRACE=1` environment variable to display a backtrace\n",
            "warning: build failed, waiting for other jobs to finish...\n",
            "bash: line 3: ./target/release/llama_runner: No such file or directory\n"
          ]
        },
        {
          "output_type": "error",
          "ename": "CalledProcessError",
          "evalue": "Command 'b'cd /content/llama_runner\\ncargo build --release\\n./target/release/llama_runner\\n'' returned non-zero exit status 127.",
          "traceback": [
            "\u001b[0;31m---------------------------------------------------------------------------\u001b[0m",
            "\u001b[0;31mCalledProcessError\u001b[0m                        Traceback (most recent call last)",
            "\u001b[0;32m<ipython-input-9-5fac7afef785>\u001b[0m in \u001b[0;36m<cell line: 0>\u001b[0;34m()\u001b[0m\n\u001b[0;32m----> 1\u001b[0;31m \u001b[0mget_ipython\u001b[0m\u001b[0;34m(\u001b[0m\u001b[0;34m)\u001b[0m\u001b[0;34m.\u001b[0m\u001b[0mrun_cell_magic\u001b[0m\u001b[0;34m(\u001b[0m\u001b[0;34m'bash'\u001b[0m\u001b[0;34m,\u001b[0m \u001b[0;34m''\u001b[0m\u001b[0;34m,\u001b[0m \u001b[0;34m'cd /content/llama_runner\\ncargo build --release\\n./target/release/llama_runner\\n'\u001b[0m\u001b[0;34m)\u001b[0m\u001b[0;34m\u001b[0m\u001b[0;34m\u001b[0m\u001b[0m\n\u001b[0m",
            "\u001b[0;32m/usr/local/lib/python3.11/dist-packages/google/colab/_shell.py\u001b[0m in \u001b[0;36mrun_cell_magic\u001b[0;34m(self, magic_name, line, cell)\u001b[0m\n\u001b[1;32m    356\u001b[0m     \u001b[0;32mif\u001b[0m \u001b[0mline\u001b[0m \u001b[0;32mand\u001b[0m \u001b[0;32mnot\u001b[0m \u001b[0mcell\u001b[0m\u001b[0;34m:\u001b[0m\u001b[0;34m\u001b[0m\u001b[0;34m\u001b[0m\u001b[0m\n\u001b[1;32m    357\u001b[0m       \u001b[0mcell\u001b[0m \u001b[0;34m=\u001b[0m \u001b[0;34m' '\u001b[0m\u001b[0;34m\u001b[0m\u001b[0;34m\u001b[0m\u001b[0m\n\u001b[0;32m--> 358\u001b[0;31m     \u001b[0;32mreturn\u001b[0m \u001b[0msuper\u001b[0m\u001b[0;34m(\u001b[0m\u001b[0;34m)\u001b[0m\u001b[0;34m.\u001b[0m\u001b[0mrun_cell_magic\u001b[0m\u001b[0;34m(\u001b[0m\u001b[0mmagic_name\u001b[0m\u001b[0;34m,\u001b[0m \u001b[0mline\u001b[0m\u001b[0;34m,\u001b[0m \u001b[0mcell\u001b[0m\u001b[0;34m)\u001b[0m\u001b[0;34m\u001b[0m\u001b[0;34m\u001b[0m\u001b[0m\n\u001b[0m\u001b[1;32m    359\u001b[0m \u001b[0;34m\u001b[0m\u001b[0m\n\u001b[1;32m    360\u001b[0m \u001b[0;34m\u001b[0m\u001b[0m\n",
            "\u001b[0;32m/usr/local/lib/python3.11/dist-packages/IPython/core/interactiveshell.py\u001b[0m in \u001b[0;36mrun_cell_magic\u001b[0;34m(self, magic_name, line, cell)\u001b[0m\n\u001b[1;32m   2471\u001b[0m             \u001b[0;32mwith\u001b[0m \u001b[0mself\u001b[0m\u001b[0;34m.\u001b[0m\u001b[0mbuiltin_trap\u001b[0m\u001b[0;34m:\u001b[0m\u001b[0;34m\u001b[0m\u001b[0;34m\u001b[0m\u001b[0m\n\u001b[1;32m   2472\u001b[0m                 \u001b[0margs\u001b[0m \u001b[0;34m=\u001b[0m \u001b[0;34m(\u001b[0m\u001b[0mmagic_arg_s\u001b[0m\u001b[0;34m,\u001b[0m \u001b[0mcell\u001b[0m\u001b[0;34m)\u001b[0m\u001b[0;34m\u001b[0m\u001b[0;34m\u001b[0m\u001b[0m\n\u001b[0;32m-> 2473\u001b[0;31m                 \u001b[0mresult\u001b[0m \u001b[0;34m=\u001b[0m \u001b[0mfn\u001b[0m\u001b[0;34m(\u001b[0m\u001b[0;34m*\u001b[0m\u001b[0margs\u001b[0m\u001b[0;34m,\u001b[0m \u001b[0;34m**\u001b[0m\u001b[0mkwargs\u001b[0m\u001b[0;34m)\u001b[0m\u001b[0;34m\u001b[0m\u001b[0;34m\u001b[0m\u001b[0m\n\u001b[0m\u001b[1;32m   2474\u001b[0m             \u001b[0;32mreturn\u001b[0m \u001b[0mresult\u001b[0m\u001b[0;34m\u001b[0m\u001b[0;34m\u001b[0m\u001b[0m\n\u001b[1;32m   2475\u001b[0m \u001b[0;34m\u001b[0m\u001b[0m\n",
            "\u001b[0;32m/usr/local/lib/python3.11/dist-packages/IPython/core/magics/script.py\u001b[0m in \u001b[0;36mnamed_script_magic\u001b[0;34m(line, cell)\u001b[0m\n\u001b[1;32m    140\u001b[0m             \u001b[0;32melse\u001b[0m\u001b[0;34m:\u001b[0m\u001b[0;34m\u001b[0m\u001b[0;34m\u001b[0m\u001b[0m\n\u001b[1;32m    141\u001b[0m                 \u001b[0mline\u001b[0m \u001b[0;34m=\u001b[0m \u001b[0mscript\u001b[0m\u001b[0;34m\u001b[0m\u001b[0;34m\u001b[0m\u001b[0m\n\u001b[0;32m--> 142\u001b[0;31m             \u001b[0;32mreturn\u001b[0m \u001b[0mself\u001b[0m\u001b[0;34m.\u001b[0m\u001b[0mshebang\u001b[0m\u001b[0;34m(\u001b[0m\u001b[0mline\u001b[0m\u001b[0;34m,\u001b[0m \u001b[0mcell\u001b[0m\u001b[0;34m)\u001b[0m\u001b[0;34m\u001b[0m\u001b[0;34m\u001b[0m\u001b[0m\n\u001b[0m\u001b[1;32m    143\u001b[0m \u001b[0;34m\u001b[0m\u001b[0m\n\u001b[1;32m    144\u001b[0m         \u001b[0;31m# write a basic docstring:\u001b[0m\u001b[0;34m\u001b[0m\u001b[0;34m\u001b[0m\u001b[0m\n",
            "\u001b[0;32m<decorator-gen-103>\u001b[0m in \u001b[0;36mshebang\u001b[0;34m(self, line, cell)\u001b[0m\n",
            "\u001b[0;32m/usr/local/lib/python3.11/dist-packages/IPython/core/magic.py\u001b[0m in \u001b[0;36m<lambda>\u001b[0;34m(f, *a, **k)\u001b[0m\n\u001b[1;32m    185\u001b[0m     \u001b[0;31m# but it's overkill for just that one bit of state.\u001b[0m\u001b[0;34m\u001b[0m\u001b[0;34m\u001b[0m\u001b[0m\n\u001b[1;32m    186\u001b[0m     \u001b[0;32mdef\u001b[0m \u001b[0mmagic_deco\u001b[0m\u001b[0;34m(\u001b[0m\u001b[0marg\u001b[0m\u001b[0;34m)\u001b[0m\u001b[0;34m:\u001b[0m\u001b[0;34m\u001b[0m\u001b[0;34m\u001b[0m\u001b[0m\n\u001b[0;32m--> 187\u001b[0;31m         \u001b[0mcall\u001b[0m \u001b[0;34m=\u001b[0m \u001b[0;32mlambda\u001b[0m \u001b[0mf\u001b[0m\u001b[0;34m,\u001b[0m \u001b[0;34m*\u001b[0m\u001b[0ma\u001b[0m\u001b[0;34m,\u001b[0m \u001b[0;34m**\u001b[0m\u001b[0mk\u001b[0m\u001b[0;34m:\u001b[0m \u001b[0mf\u001b[0m\u001b[0;34m(\u001b[0m\u001b[0;34m*\u001b[0m\u001b[0ma\u001b[0m\u001b[0;34m,\u001b[0m \u001b[0;34m**\u001b[0m\u001b[0mk\u001b[0m\u001b[0;34m)\u001b[0m\u001b[0;34m\u001b[0m\u001b[0;34m\u001b[0m\u001b[0m\n\u001b[0m\u001b[1;32m    188\u001b[0m \u001b[0;34m\u001b[0m\u001b[0m\n\u001b[1;32m    189\u001b[0m         \u001b[0;32mif\u001b[0m \u001b[0mcallable\u001b[0m\u001b[0;34m(\u001b[0m\u001b[0marg\u001b[0m\u001b[0;34m)\u001b[0m\u001b[0;34m:\u001b[0m\u001b[0;34m\u001b[0m\u001b[0;34m\u001b[0m\u001b[0m\n",
            "\u001b[0;32m/usr/local/lib/python3.11/dist-packages/IPython/core/magics/script.py\u001b[0m in \u001b[0;36mshebang\u001b[0;34m(self, line, cell)\u001b[0m\n\u001b[1;32m    243\u001b[0m             \u001b[0msys\u001b[0m\u001b[0;34m.\u001b[0m\u001b[0mstderr\u001b[0m\u001b[0;34m.\u001b[0m\u001b[0mflush\u001b[0m\u001b[0;34m(\u001b[0m\u001b[0;34m)\u001b[0m\u001b[0;34m\u001b[0m\u001b[0;34m\u001b[0m\u001b[0m\n\u001b[1;32m    244\u001b[0m         \u001b[0;32mif\u001b[0m \u001b[0margs\u001b[0m\u001b[0;34m.\u001b[0m\u001b[0mraise_error\u001b[0m \u001b[0;32mand\u001b[0m \u001b[0mp\u001b[0m\u001b[0;34m.\u001b[0m\u001b[0mreturncode\u001b[0m\u001b[0;34m!=\u001b[0m\u001b[0;36m0\u001b[0m\u001b[0;34m:\u001b[0m\u001b[0;34m\u001b[0m\u001b[0;34m\u001b[0m\u001b[0m\n\u001b[0;32m--> 245\u001b[0;31m             \u001b[0;32mraise\u001b[0m \u001b[0mCalledProcessError\u001b[0m\u001b[0;34m(\u001b[0m\u001b[0mp\u001b[0m\u001b[0;34m.\u001b[0m\u001b[0mreturncode\u001b[0m\u001b[0;34m,\u001b[0m \u001b[0mcell\u001b[0m\u001b[0;34m,\u001b[0m \u001b[0moutput\u001b[0m\u001b[0;34m=\u001b[0m\u001b[0mout\u001b[0m\u001b[0;34m,\u001b[0m \u001b[0mstderr\u001b[0m\u001b[0;34m=\u001b[0m\u001b[0merr\u001b[0m\u001b[0;34m)\u001b[0m\u001b[0;34m\u001b[0m\u001b[0;34m\u001b[0m\u001b[0m\n\u001b[0m\u001b[1;32m    246\u001b[0m \u001b[0;34m\u001b[0m\u001b[0m\n\u001b[1;32m    247\u001b[0m     \u001b[0;32mdef\u001b[0m \u001b[0m_run_script\u001b[0m\u001b[0;34m(\u001b[0m\u001b[0mself\u001b[0m\u001b[0;34m,\u001b[0m \u001b[0mp\u001b[0m\u001b[0;34m,\u001b[0m \u001b[0mcell\u001b[0m\u001b[0;34m,\u001b[0m \u001b[0mto_close\u001b[0m\u001b[0;34m)\u001b[0m\u001b[0;34m:\u001b[0m\u001b[0;34m\u001b[0m\u001b[0;34m\u001b[0m\u001b[0m\n",
            "\u001b[0;31mCalledProcessError\u001b[0m: Command 'b'cd /content/llama_runner\\ncargo build --release\\n./target/release/llama_runner\\n'' returned non-zero exit status 127."
          ]
        }
      ]
    },
    {
      "cell_type": "code",
      "source": [
        "%%bash\n",
        "# حذف المجلد الحالي إذا كان موجوداً\n",
        "rm -rf /content/llama_cpp-rs\n",
        "\n",
        "# استنساخ المستودع مع المستودعات الفرعية\n",
        "git clone --recursive https://github.com/edgenai/llama_cpp-rs.git /content/llama_cpp-rs\n",
        "\n",
        "# إذا كان المستودع موجودًا بالفعل ولكن بدون تحميل المستودعات الفرعية\n",
        "cd /content/llama_cpp-rs\n",
        "git submodule update --init --recursive"
      ],
      "metadata": {
        "colab": {
          "base_uri": "https://localhost:8080/"
        },
        "id": "X4lVHhBrSk5R",
        "outputId": "57d14f53-d3b7-47ff-b5df-b1acc5313d60"
      },
      "execution_count": 10,
      "outputs": [
        {
          "output_type": "stream",
          "name": "stdout",
          "text": [
            "Submodule path 'crates/llama_cpp_sys/thirdparty/Vulkan-Headers': checked out '46dc0f6e514f5730784bb2cac2a7c731636839e8'\n",
            "Submodule path 'crates/llama_cpp_sys/thirdparty/llama.cpp': checked out '60cdf40cc32f0ad4cb11e0ca8fd38f3b93d8d640'\n",
            "Submodule path 'crates/llama_cpp_sys/thirdparty/llama.cpp/kompute': checked out '4565194ed7c32d1d2efa32ceab4d3c6cae006306'\n"
          ]
        },
        {
          "output_type": "stream",
          "name": "stderr",
          "text": [
            "Cloning into '/content/llama_cpp-rs'...\n",
            "Submodule 'crates/llama_cpp_sys/thirdparty/Vulkan-Headers' (https://github.com/KhronosGroup/Vulkan-Headers.git) registered for path 'crates/llama_cpp_sys/thirdparty/Vulkan-Headers'\n",
            "Submodule 'crates/llama_cpp_sys/thirdparty/llama.cpp' (https://github.com/ggerganov/llama.cpp.git) registered for path 'crates/llama_cpp_sys/thirdparty/llama.cpp'\n",
            "Cloning into '/content/llama_cpp-rs/crates/llama_cpp_sys/thirdparty/Vulkan-Headers'...\n",
            "Cloning into '/content/llama_cpp-rs/crates/llama_cpp_sys/thirdparty/llama.cpp'...\n",
            "Submodule 'kompute' (https://github.com/nomic-ai/kompute.git) registered for path 'crates/llama_cpp_sys/thirdparty/llama.cpp/kompute'\n",
            "Cloning into '/content/llama_cpp-rs/crates/llama_cpp_sys/thirdparty/llama.cpp/kompute'...\n"
          ]
        }
      ]
    },
    {
      "cell_type": "code",
      "source": [
        "%%bash\n",
        "# التحقق من وجود ملف llama.h\n",
        "ls -la /content/llama_cpp-rs/crates/llama_cpp_sys/thirdparty/llama.cpp/llama.h\n",
        "\n",
        "# إذا لم يكن الملف موجودًا، فتأكد من وجود المجلد\n",
        "ls -la /content/llama_cpp-rs/crates/llama_cpp_sys/thirdparty/"
      ],
      "metadata": {
        "colab": {
          "base_uri": "https://localhost:8080/"
        },
        "id": "DOekfpILTLUy",
        "outputId": "837ef0f5-e723-4678-d7f5-bcf3914158f1"
      },
      "execution_count": 11,
      "outputs": [
        {
          "output_type": "stream",
          "name": "stdout",
          "text": [
            "-rw-r--r-- 1 root root 47240 May  7 01:12 /content/llama_cpp-rs/crates/llama_cpp_sys/thirdparty/llama.cpp/llama.h\n",
            "total 16\n",
            "drwxr-xr-x  4 root root 4096 May  7 01:11 .\n",
            "drwxr-xr-x  5 root root 4096 May  7 01:11 ..\n",
            "drwxr-xr-x 22 root root 4096 May  7 01:12 llama.cpp\n",
            "drwxr-xr-x  8 root root 4096 May  7 01:12 Vulkan-Headers\n"
          ]
        }
      ]
    },
    {
      "cell_type": "code",
      "source": [
        "%%bash\n",
        "# إنشاء مجلد للمشروع الخاص بك (أو إعادة إنشائه)\n",
        "rm -rf /content/llama_runner\n",
        "mkdir -p /content/llama_runner\n",
        "cd /content/llama_runner\n",
        "\n",
        "# إنشاء مشروع Rust جديد\n",
        "cargo init --bin"
      ],
      "metadata": {
        "colab": {
          "base_uri": "https://localhost:8080/"
        },
        "id": "p5jOF94CTbCy",
        "outputId": "7e3cbed2-001e-4a9f-e620-9c05c253ef82"
      },
      "execution_count": 12,
      "outputs": [
        {
          "output_type": "stream",
          "name": "stderr",
          "text": [
            "    Creating binary (application) package\n",
            "note: see more `Cargo.toml` keys and their definitions at https://doc.rust-lang.org/cargo/reference/manifest.html\n"
          ]
        }
      ]
    },
    {
      "cell_type": "code",
      "source": [
        "%%writefile /content/llama_runner/Cargo.toml\n",
        "[package]\n",
        "name = \"llama_runner\"\n",
        "version = \"0.1.0\"\n",
        "edition = \"2021\"\n",
        "\n",
        "[dependencies]\n",
        "# استخدام مكتبة llama_cpp المحلية مع تفعيل الميزات الأساسية فقط\n",
        "llama_cpp = { path = \"/content/llama_cpp-rs/crates/llama_cpp\", default-features = false, features = [\"native\"] }"
      ],
      "metadata": {
        "colab": {
          "base_uri": "https://localhost:8080/"
        },
        "id": "tzDQzvr9Tbey",
        "outputId": "20603bd9-8699-46bd-a19f-ef514d74939a"
      },
      "execution_count": 13,
      "outputs": [
        {
          "output_type": "stream",
          "name": "stdout",
          "text": [
            "Overwriting /content/llama_runner/Cargo.toml\n"
          ]
        }
      ]
    },
    {
      "cell_type": "code",
      "source": [
        "%%writefile /content/llama_runner/src/main.rs\n",
        "// كود بسيط للتحقق من أن المكتبة تعمل بشكل صحيح\n",
        "fn main() {\n",
        "    println!(\"بدء تشغيل تطبيق llama_runner\");\n",
        "\n",
        "    // طباعة معلومات عن المكتبة\n",
        "    println!(\"محاولة استخدام مكتبة llama_cpp...\");\n",
        "\n",
        "    // اختبار بسيط لمعرفة ما إذا كانت المكتبة متاحة\n",
        "    match llama_cpp::LlamaModel::list_available_models() {\n",
        "        Ok(models) => {\n",
        "            println!(\"النماذج المتاحة: {:?}\", models);\n",
        "        },\n",
        "        Err(e) => {\n",
        "            println!(\"خطأ في استدعاء المكتبة: {}\", e);\n",
        "        }\n",
        "    }\n",
        "\n",
        "    println!(\"انتهاء التنفيذ\");\n",
        "}"
      ],
      "metadata": {
        "colab": {
          "base_uri": "https://localhost:8080/"
        },
        "id": "kMEYobhOTiBi",
        "outputId": "6a0e5e07-b7bd-4a77-c14e-e530f83e89ca"
      },
      "execution_count": 14,
      "outputs": [
        {
          "output_type": "stream",
          "name": "stdout",
          "text": [
            "Overwriting /content/llama_runner/src/main.rs\n"
          ]
        }
      ]
    },
    {
      "cell_type": "code",
      "source": [],
      "metadata": {
        "id": "-yaeGciiTkSy"
      },
      "execution_count": null,
      "outputs": []
    },
    {
      "cell_type": "code",
      "source": [
        "%%bash\n",
        "cd /content/llama_runner\n",
        "# بناء المشروع مع مستوى تشخيص أعلى\n",
        "RUST_LOG=debug cargo build -v"
      ],
      "metadata": {
        "colab": {
          "base_uri": "https://localhost:8080/",
          "height": 1000
        },
        "id": "s5u-svc9TnXi",
        "outputId": "b6854329-d2ad-46b6-e73d-47f1b34949d5"
      },
      "execution_count": 15,
      "outputs": [
        {
          "output_type": "stream",
          "name": "stderr",
          "text": [
            "    Updating crates.io index\n",
            "     Locking 84 packages to latest compatible versions\n",
            "   Compiling proc-macro2 v1.0.95\n",
            "   Compiling unicode-ident v1.0.18\n",
            "     Running `/root/.rustup/toolchains/stable-x86_64-unknown-linux-gnu/bin/rustc --crate-name build_script_build --edition=2021 /root/.cargo/registry/src/index.crates.io-1949cf8c6b5b557f/proc-macro2-1.0.95/build.rs --error-format=json --json=diagnostic-rendered-ansi,artifacts,future-incompat --crate-type bin --emit=dep-info,link -C embed-bitcode=no --cfg 'feature=\"default\"' --cfg 'feature=\"proc-macro\"' --check-cfg 'cfg(docsrs,test)' --check-cfg 'cfg(feature, values(\"default\", \"nightly\", \"proc-macro\", \"span-locations\"))' -C metadata=b3397f274477117c -C extra-filename=-623611f8ef0176fe --out-dir /content/llama_runner/target/debug/build/proc-macro2-623611f8ef0176fe -L dependency=/content/llama_runner/target/debug/deps --cap-lints allow`\n",
            "     Running `/root/.rustup/toolchains/stable-x86_64-unknown-linux-gnu/bin/rustc --crate-name unicode_ident --edition=2018 /root/.cargo/registry/src/index.crates.io-1949cf8c6b5b557f/unicode-ident-1.0.18/src/lib.rs --error-format=json --json=diagnostic-rendered-ansi,artifacts,future-incompat --crate-type lib --emit=dep-info,metadata,link -C embed-bitcode=no --check-cfg 'cfg(docsrs,test)' --check-cfg 'cfg(feature, values())' -C metadata=5352a2af0a57c5aa -C extra-filename=-5783d1ad3b24ccf6 --out-dir /content/llama_runner/target/debug/deps -L dependency=/content/llama_runner/target/debug/deps --cap-lints allow`\n",
            "   Compiling libc v0.2.172\n",
            "     Running `/root/.rustup/toolchains/stable-x86_64-unknown-linux-gnu/bin/rustc --crate-name build_script_build --edition=2021 /root/.cargo/registry/src/index.crates.io-1949cf8c6b5b557f/libc-0.2.172/build.rs --error-format=json --json=diagnostic-rendered-ansi,artifacts,future-incompat --crate-type bin --emit=dep-info,link -C embed-bitcode=no --cfg 'feature=\"default\"' --cfg 'feature=\"std\"' --check-cfg 'cfg(docsrs,test)' --check-cfg 'cfg(feature, values(\"align\", \"const-extern-fn\", \"default\", \"extra_traits\", \"rustc-dep-of-std\", \"rustc-std-workspace-core\", \"std\", \"use_std\"))' -C metadata=16b00cccdcab1295 -C extra-filename=-1b7b988c457f722d --out-dir /content/llama_runner/target/debug/build/libc-1b7b988c457f722d -L dependency=/content/llama_runner/target/debug/deps --cap-lints allow`\n",
            "     Running `/content/llama_runner/target/debug/build/proc-macro2-623611f8ef0176fe/build-script-build`\n",
            "     Running `/root/.rustup/toolchains/stable-x86_64-unknown-linux-gnu/bin/rustc --crate-name proc_macro2 --edition=2021 /root/.cargo/registry/src/index.crates.io-1949cf8c6b5b557f/proc-macro2-1.0.95/src/lib.rs --error-format=json --json=diagnostic-rendered-ansi,artifacts,future-incompat --crate-type lib --emit=dep-info,metadata,link -C embed-bitcode=no --cfg 'feature=\"default\"' --cfg 'feature=\"proc-macro\"' --check-cfg 'cfg(docsrs,test)' --check-cfg 'cfg(feature, values(\"default\", \"nightly\", \"proc-macro\", \"span-locations\"))' -C metadata=0f269d01f24fe324 -C extra-filename=-9b72563e7d353b25 --out-dir /content/llama_runner/target/debug/deps -L dependency=/content/llama_runner/target/debug/deps --extern unicode_ident=/content/llama_runner/target/debug/deps/libunicode_ident-5783d1ad3b24ccf6.rmeta --cap-lints allow --cfg wrap_proc_macro --check-cfg 'cfg(fuzzing)' --check-cfg 'cfg(no_is_available)' --check-cfg 'cfg(no_literal_byte_character)' --check-cfg 'cfg(no_literal_c_string)' --check-cfg 'cfg(no_source_text)' --check-cfg 'cfg(proc_macro_span)' --check-cfg 'cfg(procmacro2_backtrace)' --check-cfg 'cfg(procmacro2_nightly_testing)' --check-cfg 'cfg(procmacro2_semver_exempt)' --check-cfg 'cfg(randomize_layout)' --check-cfg 'cfg(span_locations)' --check-cfg 'cfg(super_unstable)' --check-cfg 'cfg(wrap_proc_macro)'`\n",
            "     Running `/content/llama_runner/target/debug/build/libc-1b7b988c457f722d/build-script-build`\n",
            "     Running `/root/.rustup/toolchains/stable-x86_64-unknown-linux-gnu/bin/rustc --crate-name libc --edition=2021 /root/.cargo/registry/src/index.crates.io-1949cf8c6b5b557f/libc-0.2.172/src/lib.rs --error-format=json --json=diagnostic-rendered-ansi,artifacts,future-incompat --crate-type lib --emit=dep-info,metadata,link -C embed-bitcode=no -C debuginfo=2 --cfg 'feature=\"default\"' --cfg 'feature=\"std\"' --check-cfg 'cfg(docsrs,test)' --check-cfg 'cfg(feature, values(\"align\", \"const-extern-fn\", \"default\", \"extra_traits\", \"rustc-dep-of-std\", \"rustc-std-workspace-core\", \"std\", \"use_std\"))' -C metadata=55b3c505e033a9be -C extra-filename=-b1c52a7bcf14e644 --out-dir /content/llama_runner/target/debug/deps -L dependency=/content/llama_runner/target/debug/deps --cap-lints allow --cfg freebsd11 --cfg libc_const_extern_fn --check-cfg 'cfg(emscripten_old_stat_abi)' --check-cfg 'cfg(espidf_time32)' --check-cfg 'cfg(freebsd10)' --check-cfg 'cfg(freebsd11)' --check-cfg 'cfg(freebsd12)' --check-cfg 'cfg(freebsd13)' --check-cfg 'cfg(freebsd14)' --check-cfg 'cfg(freebsd15)' --check-cfg 'cfg(gnu_file_offset_bits64)' --check-cfg 'cfg(libc_const_extern_fn)' --check-cfg 'cfg(libc_deny_warnings)' --check-cfg 'cfg(libc_thread_local)' --check-cfg 'cfg(libc_ctest)' --check-cfg 'cfg(linux_time_bits64)' --check-cfg 'cfg(target_os,values(\"switch\",\"aix\",\"ohos\",\"hurd\",\"rtems\",\"visionos\",\"nuttx\",\"cygwin\"))' --check-cfg 'cfg(target_env,values(\"illumos\",\"wasi\",\"aix\",\"ohos\",\"nto71_iosock\",\"nto80\"))' --check-cfg 'cfg(target_arch,values(\"loongarch64\",\"mips32r6\",\"mips64r6\",\"csky\"))'`\n",
            "   Compiling quote v1.0.40\n",
            "     Running `/root/.rustup/toolchains/stable-x86_64-unknown-linux-gnu/bin/rustc --crate-name quote --edition=2018 /root/.cargo/registry/src/index.crates.io-1949cf8c6b5b557f/quote-1.0.40/src/lib.rs --error-format=json --json=diagnostic-rendered-ansi,artifacts,future-incompat --crate-type lib --emit=dep-info,metadata,link -C embed-bitcode=no --cfg 'feature=\"default\"' --cfg 'feature=\"proc-macro\"' --check-cfg 'cfg(docsrs,test)' --check-cfg 'cfg(feature, values(\"default\", \"proc-macro\"))' -C metadata=f903111ba3e5a7af -C extra-filename=-ae401e1e951ce75b --out-dir /content/llama_runner/target/debug/deps -L dependency=/content/llama_runner/target/debug/deps --extern proc_macro2=/content/llama_runner/target/debug/deps/libproc_macro2-9b72563e7d353b25.rmeta --cap-lints allow`\n",
            "   Compiling shlex v1.3.0\n",
            "     Running `/root/.rustup/toolchains/stable-x86_64-unknown-linux-gnu/bin/rustc --crate-name shlex --edition=2015 /root/.cargo/registry/src/index.crates.io-1949cf8c6b5b557f/shlex-1.3.0/src/lib.rs --error-format=json --json=diagnostic-rendered-ansi,artifacts,future-incompat --crate-type lib --emit=dep-info,metadata,link -C embed-bitcode=no --cfg 'feature=\"default\"' --cfg 'feature=\"std\"' --check-cfg 'cfg(docsrs,test)' --check-cfg 'cfg(feature, values(\"default\", \"std\"))' -C metadata=23f0c413e40623bf -C extra-filename=-a0e5d10e827cd16a --out-dir /content/llama_runner/target/debug/deps -L dependency=/content/llama_runner/target/debug/deps --cap-lints allow`\n",
            "   Compiling syn v2.0.101\n",
            "     Running `/root/.rustup/toolchains/stable-x86_64-unknown-linux-gnu/bin/rustc --crate-name syn --edition=2021 /root/.cargo/registry/src/index.crates.io-1949cf8c6b5b557f/syn-2.0.101/src/lib.rs --error-format=json --json=diagnostic-rendered-ansi,artifacts,future-incompat --crate-type lib --emit=dep-info,metadata,link -C embed-bitcode=no --cfg 'feature=\"clone-impls\"' --cfg 'feature=\"default\"' --cfg 'feature=\"derive\"' --cfg 'feature=\"extra-traits\"' --cfg 'feature=\"full\"' --cfg 'feature=\"parsing\"' --cfg 'feature=\"printing\"' --cfg 'feature=\"proc-macro\"' --cfg 'feature=\"visit-mut\"' --check-cfg 'cfg(docsrs,test)' --check-cfg 'cfg(feature, values(\"clone-impls\", \"default\", \"derive\", \"extra-traits\", \"fold\", \"full\", \"parsing\", \"printing\", \"proc-macro\", \"test\", \"visit\", \"visit-mut\"))' -C metadata=b46882472727dc40 -C extra-filename=-3e4a3c8f08cb55eb --out-dir /content/llama_runner/target/debug/deps -L dependency=/content/llama_runner/target/debug/deps --extern proc_macro2=/content/llama_runner/target/debug/deps/libproc_macro2-9b72563e7d353b25.rmeta --extern quote=/content/llama_runner/target/debug/deps/libquote-ae401e1e951ce75b.rmeta --extern unicode_ident=/content/llama_runner/target/debug/deps/libunicode_ident-5783d1ad3b24ccf6.rmeta --cap-lints allow`\n",
            "   Compiling glob v0.3.2\n",
            "     Running `/root/.rustup/toolchains/stable-x86_64-unknown-linux-gnu/bin/rustc --crate-name glob --edition=2015 /root/.cargo/registry/src/index.crates.io-1949cf8c6b5b557f/glob-0.3.2/src/lib.rs --error-format=json --json=diagnostic-rendered-ansi,artifacts,future-incompat --crate-type lib --emit=dep-info,metadata,link -C embed-bitcode=no --check-cfg 'cfg(docsrs,test)' --check-cfg 'cfg(feature, values())' -C metadata=76176ee35104d192 -C extra-filename=-f6c5b2ae5d218149 --out-dir /content/llama_runner/target/debug/deps -L dependency=/content/llama_runner/target/debug/deps --cap-lints allow`\n",
            "   Compiling clang-sys v1.8.1\n",
            "     Running `/root/.rustup/toolchains/stable-x86_64-unknown-linux-gnu/bin/rustc --crate-name build_script_build --edition=2021 /root/.cargo/registry/src/index.crates.io-1949cf8c6b5b557f/clang-sys-1.8.1/build.rs --error-format=json --json=diagnostic-rendered-ansi,artifacts,future-incompat --crate-type bin --emit=dep-info,link -C embed-bitcode=no --cfg 'feature=\"clang_3_5\"' --cfg 'feature=\"clang_3_6\"' --cfg 'feature=\"clang_3_7\"' --cfg 'feature=\"clang_3_8\"' --cfg 'feature=\"clang_3_9\"' --cfg 'feature=\"clang_4_0\"' --cfg 'feature=\"clang_5_0\"' --cfg 'feature=\"clang_6_0\"' --cfg 'feature=\"libloading\"' --cfg 'feature=\"runtime\"' --check-cfg 'cfg(docsrs,test)' --check-cfg 'cfg(feature, values(\"clang_10_0\", \"clang_11_0\", \"clang_12_0\", \"clang_13_0\", \"clang_14_0\", \"clang_15_0\", \"clang_16_0\", \"clang_17_0\", \"clang_18_0\", \"clang_3_5\", \"clang_3_6\", \"clang_3_7\", \"clang_3_8\", \"clang_3_9\", \"clang_4_0\", \"clang_5_0\", \"clang_6_0\", \"clang_7_0\", \"clang_8_0\", \"clang_9_0\", \"libcpp\", \"libloading\", \"runtime\", \"static\"))' -C metadata=5687b4788b671f5c -C extra-filename=-1f98642339c501fe --out-dir /content/llama_runner/target/debug/build/clang-sys-1f98642339c501fe -L dependency=/content/llama_runner/target/debug/deps --extern glob=/content/llama_runner/target/debug/deps/libglob-f6c5b2ae5d218149.rlib --cap-lints allow`\n",
            "   Compiling jobserver v0.1.33\n",
            "     Running `/root/.rustup/toolchains/stable-x86_64-unknown-linux-gnu/bin/rustc --crate-name jobserver --edition=2021 /root/.cargo/registry/src/index.crates.io-1949cf8c6b5b557f/jobserver-0.1.33/src/lib.rs --error-format=json --json=diagnostic-rendered-ansi,artifacts,future-incompat --crate-type lib --emit=dep-info,metadata,link -C embed-bitcode=no --check-cfg 'cfg(docsrs,test)' --check-cfg 'cfg(feature, values())' -C metadata=0d6ad315e5478b75 -C extra-filename=-d67be8b927c0cf16 --out-dir /content/llama_runner/target/debug/deps -L dependency=/content/llama_runner/target/debug/deps --extern libc=/content/llama_runner/target/debug/deps/liblibc-b1c52a7bcf14e644.rmeta --cap-lints allow`\n",
            "   Compiling prettyplease v0.2.32\n",
            "     Running `/root/.rustup/toolchains/stable-x86_64-unknown-linux-gnu/bin/rustc --crate-name build_script_build --edition=2021 /root/.cargo/registry/src/index.crates.io-1949cf8c6b5b557f/prettyplease-0.2.32/build.rs --error-format=json --json=diagnostic-rendered-ansi,artifacts,future-incompat --crate-type bin --emit=dep-info,link -C embed-bitcode=no --cfg 'feature=\"verbatim\"' --check-cfg 'cfg(docsrs,test)' --check-cfg 'cfg(feature, values(\"verbatim\"))' -C metadata=2ff9b3fb699a31bb -C extra-filename=-ac7c581ca5d45539 --out-dir /content/llama_runner/target/debug/build/prettyplease-ac7c581ca5d45539 -L dependency=/content/llama_runner/target/debug/deps --cap-lints allow`\n",
            "   Compiling rustix v0.38.44\n",
            "     Running `/root/.rustup/toolchains/stable-x86_64-unknown-linux-gnu/bin/rustc --crate-name build_script_build --edition=2021 /root/.cargo/registry/src/index.crates.io-1949cf8c6b5b557f/rustix-0.38.44/build.rs --error-format=json --json=diagnostic-rendered-ansi,artifacts,future-incompat --crate-type bin --emit=dep-info,link -C embed-bitcode=no --warn=unexpected_cfgs --check-cfg 'cfg(alloc_c_string)' --check-cfg 'cfg(alloc_ffi)' --check-cfg 'cfg(apple)' --check-cfg 'cfg(asm_experimental_arch)' --check-cfg 'cfg(bsd)' --check-cfg 'cfg(core_c_str)' --check-cfg 'cfg(core_ffi_c)' --check-cfg 'cfg(core_intrinsics)' --check-cfg 'cfg(criterion)' --check-cfg 'cfg(document_experimental_runtime_api)' --check-cfg 'cfg(fix_y2038)' --check-cfg 'cfg(freebsdlike)' --check-cfg 'cfg(libc)' --check-cfg 'cfg(linux_kernel)' --check-cfg 'cfg(linux_like)' --check-cfg 'cfg(linux_raw)' --check-cfg 'cfg(netbsdlike)' --check-cfg 'cfg(rustc_attrs)' --check-cfg 'cfg(solarish)' --check-cfg 'cfg(staged_api)' --check-cfg 'cfg(static_assertions)' --check-cfg 'cfg(thumb_mode)' --check-cfg 'cfg(wasi)' --check-cfg 'cfg(wasi_ext)' --check-cfg 'cfg(target_arch, values(\"xtensa\"))' --cfg 'feature=\"alloc\"' --cfg 'feature=\"fs\"' --cfg 'feature=\"libc-extra-traits\"' --cfg 'feature=\"std\"' --check-cfg 'cfg(docsrs,test)' --check-cfg 'cfg(feature, values(\"all-apis\", \"alloc\", \"cc\", \"compiler_builtins\", \"core\", \"default\", \"event\", \"fs\", \"io_uring\", \"itoa\", \"libc\", \"libc-extra-traits\", \"libc_errno\", \"linux_4_11\", \"linux_latest\", \"mm\", \"mount\", \"net\", \"once_cell\", \"param\", \"pipe\", \"process\", \"procfs\", \"pty\", \"rand\", \"runtime\", \"rustc-dep-of-std\", \"rustc-std-workspace-alloc\", \"shm\", \"std\", \"stdio\", \"system\", \"termios\", \"thread\", \"time\", \"try_close\", \"use-explicitly-provided-auxv\", \"use-libc\", \"use-libc-auxv\"))' -C metadata=3fea9196ec25fb45 -C extra-filename=-00551176f83dbe5e --out-dir /content/llama_runner/target/debug/build/rustix-00551176f83dbe5e -L dependency=/content/llama_runner/target/debug/deps --cap-lints allow`\n",
            "     Running `/content/llama_runner/target/debug/build/rustix-00551176f83dbe5e/build-script-build`\n",
            "     Running `/content/llama_runner/target/debug/build/prettyplease-ac7c581ca5d45539/build-script-build`\n",
            "   Compiling cc v1.2.21\n",
            "     Running `/root/.rustup/toolchains/stable-x86_64-unknown-linux-gnu/bin/rustc --crate-name cc --edition=2018 /root/.cargo/registry/src/index.crates.io-1949cf8c6b5b557f/cc-1.2.21/src/lib.rs --error-format=json --json=diagnostic-rendered-ansi,artifacts,future-incompat --crate-type lib --emit=dep-info,metadata,link -C embed-bitcode=no --cfg 'feature=\"parallel\"' --check-cfg 'cfg(docsrs,test)' --check-cfg 'cfg(feature, values(\"jobserver\", \"parallel\"))' -C metadata=0d4295f1ecd39d6a -C extra-filename=-da524e43297b9fac --out-dir /content/llama_runner/target/debug/deps -L dependency=/content/llama_runner/target/debug/deps --extern jobserver=/content/llama_runner/target/debug/deps/libjobserver-d67be8b927c0cf16.rmeta --extern libc=/content/llama_runner/target/debug/deps/liblibc-b1c52a7bcf14e644.rmeta --extern shlex=/content/llama_runner/target/debug/deps/libshlex-a0e5d10e827cd16a.rmeta --cap-lints allow`\n",
            "     Running `/content/llama_runner/target/debug/build/clang-sys-1f98642339c501fe/build-script-build`\n",
            "   Compiling linux-raw-sys v0.4.15\n",
            "     Running `/root/.rustup/toolchains/stable-x86_64-unknown-linux-gnu/bin/rustc --crate-name linux_raw_sys --edition=2021 /root/.cargo/registry/src/index.crates.io-1949cf8c6b5b557f/linux-raw-sys-0.4.15/src/lib.rs --error-format=json --json=diagnostic-rendered-ansi,artifacts,future-incompat --crate-type lib --emit=dep-info,metadata,link -C embed-bitcode=no --warn=unexpected_cfgs --check-cfg 'cfg(target_arch, values(\"xtensa\"))' --cfg 'feature=\"elf\"' --cfg 'feature=\"errno\"' --cfg 'feature=\"general\"' --cfg 'feature=\"ioctl\"' --cfg 'feature=\"no_std\"' --check-cfg 'cfg(docsrs,test)' --check-cfg 'cfg(feature, values(\"bootparam\", \"btrfs\", \"compiler_builtins\", \"core\", \"default\", \"elf\", \"elf_uapi\", \"errno\", \"general\", \"if_arp\", \"if_ether\", \"if_packet\", \"io_uring\", \"ioctl\", \"landlock\", \"loop_device\", \"mempolicy\", \"net\", \"netlink\", \"no_std\", \"prctl\", \"ptrace\", \"rustc-dep-of-std\", \"std\", \"system\", \"xdp\"))' -C metadata=ae3f41ccf334c06b -C extra-filename=-b63cfc05db877b5c --out-dir /content/llama_runner/target/debug/deps -L dependency=/content/llama_runner/target/debug/deps --cap-lints allow`\n",
            "   Compiling either v1.15.0\n",
            "     Running `/root/.rustup/toolchains/stable-x86_64-unknown-linux-gnu/bin/rustc --crate-name either --edition=2021 /root/.cargo/registry/src/index.crates.io-1949cf8c6b5b557f/either-1.15.0/src/lib.rs --error-format=json --json=diagnostic-rendered-ansi,artifacts,future-incompat --crate-type lib --emit=dep-info,metadata,link -C embed-bitcode=no --cfg 'feature=\"default\"' --cfg 'feature=\"std\"' --check-cfg 'cfg(docsrs,test)' --check-cfg 'cfg(feature, values(\"default\", \"serde\", \"std\", \"use_std\"))' -C metadata=f22a53fef2bf5b4f -C extra-filename=-b8b9fae15624a74b --out-dir /content/llama_runner/target/debug/deps -L dependency=/content/llama_runner/target/debug/deps --cap-lints allow`\n",
            "   Compiling bitflags v2.9.0\n",
            "     Running `/root/.rustup/toolchains/stable-x86_64-unknown-linux-gnu/bin/rustc --crate-name bitflags --edition=2021 /root/.cargo/registry/src/index.crates.io-1949cf8c6b5b557f/bitflags-2.9.0/src/lib.rs --error-format=json --json=diagnostic-rendered-ansi,artifacts,future-incompat --crate-type lib --emit=dep-info,metadata,link -C embed-bitcode=no --cfg 'feature=\"std\"' --check-cfg 'cfg(docsrs,test)' --check-cfg 'cfg(feature, values(\"arbitrary\", \"bytemuck\", \"compiler_builtins\", \"core\", \"example_generated\", \"rustc-dep-of-std\", \"serde\", \"std\"))' -C metadata=6326b5ed9073a2d7 -C extra-filename=-1dbb0567ddc4bf4a --out-dir /content/llama_runner/target/debug/deps -L dependency=/content/llama_runner/target/debug/deps --cap-lints allow`\n",
            "   Compiling cfg-if v1.0.0\n",
            "     Running `/root/.rustup/toolchains/stable-x86_64-unknown-linux-gnu/bin/rustc --crate-name cfg_if --edition=2018 /root/.cargo/registry/src/index.crates.io-1949cf8c6b5b557f/cfg-if-1.0.0/src/lib.rs --error-format=json --json=diagnostic-rendered-ansi,artifacts,future-incompat --crate-type lib --emit=dep-info,metadata,link -C embed-bitcode=no --check-cfg 'cfg(docsrs,test)' --check-cfg 'cfg(feature, values(\"compiler_builtins\", \"core\", \"rustc-dep-of-std\"))' -C metadata=b4057cc6c6000369 -C extra-filename=-eb0fb150bed86629 --out-dir /content/llama_runner/target/debug/deps -L dependency=/content/llama_runner/target/debug/deps --cap-lints allow`\n",
            "   Compiling memchr v2.7.4\n",
            "     Running `/root/.rustup/toolchains/stable-x86_64-unknown-linux-gnu/bin/rustc --crate-name memchr --edition=2021 /root/.cargo/registry/src/index.crates.io-1949cf8c6b5b557f/memchr-2.7.4/src/lib.rs --error-format=json --json=diagnostic-rendered-ansi,artifacts,future-incompat --crate-type lib --emit=dep-info,metadata,link -C embed-bitcode=no --cfg 'feature=\"alloc\"' --cfg 'feature=\"std\"' --check-cfg 'cfg(docsrs,test)' --check-cfg 'cfg(feature, values(\"alloc\", \"compiler_builtins\", \"core\", \"default\", \"libc\", \"logging\", \"rustc-dep-of-std\", \"std\", \"use_std\"))' -C metadata=0ffd4b902f9211ec -C extra-filename=-ca246fd106a80a79 --out-dir /content/llama_runner/target/debug/deps -L dependency=/content/llama_runner/target/debug/deps --cap-lints allow`\n",
            "   Compiling autocfg v1.4.0\n",
            "     Running `/root/.rustup/toolchains/stable-x86_64-unknown-linux-gnu/bin/rustc --crate-name autocfg --edition=2015 /root/.cargo/registry/src/index.crates.io-1949cf8c6b5b557f/autocfg-1.4.0/src/lib.rs --error-format=json --json=diagnostic-rendered-ansi,artifacts,future-incompat --crate-type lib --emit=dep-info,metadata,link -C embed-bitcode=no --check-cfg 'cfg(docsrs,test)' --check-cfg 'cfg(feature, values())' -C metadata=ab4898bca9678b53 -C extra-filename=-33a18d854aead0c6 --out-dir /content/llama_runner/target/debug/deps -L dependency=/content/llama_runner/target/debug/deps --cap-lints allow`\n",
            "   Compiling minimal-lexical v0.2.1\n",
            "     Running `/root/.rustup/toolchains/stable-x86_64-unknown-linux-gnu/bin/rustc --crate-name minimal_lexical --edition=2018 /root/.cargo/registry/src/index.crates.io-1949cf8c6b5b557f/minimal-lexical-0.2.1/src/lib.rs --error-format=json --json=diagnostic-rendered-ansi,artifacts,future-incompat --crate-type lib --emit=dep-info,metadata,link -C embed-bitcode=no --cfg 'feature=\"std\"' --check-cfg 'cfg(docsrs,test)' --check-cfg 'cfg(feature, values(\"alloc\", \"compact\", \"default\", \"lint\", \"nightly\", \"std\"))' -C metadata=c7586aca09b0bdfc -C extra-filename=-3309dcaac5678087 --out-dir /content/llama_runner/target/debug/deps -L dependency=/content/llama_runner/target/debug/deps --cap-lints allow`\n",
            "   Compiling regex-syntax v0.8.5\n",
            "     Running `/root/.rustup/toolchains/stable-x86_64-unknown-linux-gnu/bin/rustc --crate-name regex_syntax --edition=2021 /root/.cargo/registry/src/index.crates.io-1949cf8c6b5b557f/regex-syntax-0.8.5/src/lib.rs --error-format=json --json=diagnostic-rendered-ansi,artifacts,future-incompat --crate-type lib --emit=dep-info,metadata,link -C embed-bitcode=no --cfg 'feature=\"std\"' --cfg 'feature=\"unicode-perl\"' --check-cfg 'cfg(docsrs,test)' --check-cfg 'cfg(feature, values(\"arbitrary\", \"default\", \"std\", \"unicode\", \"unicode-age\", \"unicode-bool\", \"unicode-case\", \"unicode-gencat\", \"unicode-perl\", \"unicode-script\", \"unicode-segment\"))' -C metadata=d69b9df289755325 -C extra-filename=-4b68dafe5bc0480c --out-dir /content/llama_runner/target/debug/deps -L dependency=/content/llama_runner/target/debug/deps --cap-lints allow`\n",
            "   Compiling nom v7.1.3\n",
            "     Running `/root/.rustup/toolchains/stable-x86_64-unknown-linux-gnu/bin/rustc --crate-name nom --edition=2018 /root/.cargo/registry/src/index.crates.io-1949cf8c6b5b557f/nom-7.1.3/src/lib.rs --error-format=json --json=diagnostic-rendered-ansi,artifacts,future-incompat --crate-type lib --emit=dep-info,metadata,link -C embed-bitcode=no --cfg 'feature=\"alloc\"' --cfg 'feature=\"std\"' --check-cfg 'cfg(docsrs,test)' --check-cfg 'cfg(feature, values(\"alloc\", \"default\", \"docsrs\", \"std\"))' -C metadata=c398a60ca3d35f0d -C extra-filename=-1310071d20caa619 --out-dir /content/llama_runner/target/debug/deps -L dependency=/content/llama_runner/target/debug/deps --extern memchr=/content/llama_runner/target/debug/deps/libmemchr-ca246fd106a80a79.rmeta --extern minimal_lexical=/content/llama_runner/target/debug/deps/libminimal_lexical-3309dcaac5678087.rmeta --cap-lints allow`\n",
            "   Compiling regex-automata v0.4.9\n",
            "     Running `/root/.rustup/toolchains/stable-x86_64-unknown-linux-gnu/bin/rustc --crate-name regex_automata --edition=2021 /root/.cargo/registry/src/index.crates.io-1949cf8c6b5b557f/regex-automata-0.4.9/src/lib.rs --error-format=json --json=diagnostic-rendered-ansi,artifacts,future-incompat --crate-type lib --emit=dep-info,metadata,link -C embed-bitcode=no --cfg 'feature=\"alloc\"' --cfg 'feature=\"meta\"' --cfg 'feature=\"nfa-pikevm\"' --cfg 'feature=\"nfa-thompson\"' --cfg 'feature=\"std\"' --cfg 'feature=\"syntax\"' --cfg 'feature=\"unicode-perl\"' --cfg 'feature=\"unicode-word-boundary\"' --check-cfg 'cfg(docsrs,test)' --check-cfg 'cfg(feature, values(\"alloc\", \"default\", \"dfa\", \"dfa-build\", \"dfa-onepass\", \"dfa-search\", \"hybrid\", \"internal-instrument\", \"internal-instrument-pikevm\", \"logging\", \"meta\", \"nfa\", \"nfa-backtrack\", \"nfa-pikevm\", \"nfa-thompson\", \"perf\", \"perf-inline\", \"perf-literal\", \"perf-literal-multisubstring\", \"perf-literal-substring\", \"std\", \"syntax\", \"unicode\", \"unicode-age\", \"unicode-bool\", \"unicode-case\", \"unicode-gencat\", \"unicode-perl\", \"unicode-script\", \"unicode-segment\", \"unicode-word-boundary\"))' -C metadata=030b9190396b7f89 -C extra-filename=-3d246e65a6ecbe7b --out-dir /content/llama_runner/target/debug/deps -L dependency=/content/llama_runner/target/debug/deps --extern regex_syntax=/content/llama_runner/target/debug/deps/libregex_syntax-4b68dafe5bc0480c.rmeta --cap-lints allow`\n",
            "   Compiling slab v0.4.9\n",
            "     Running `/root/.rustup/toolchains/stable-x86_64-unknown-linux-gnu/bin/rustc --crate-name build_script_build --edition=2018 /root/.cargo/registry/src/index.crates.io-1949cf8c6b5b557f/slab-0.4.9/build.rs --error-format=json --json=diagnostic-rendered-ansi,artifacts,future-incompat --crate-type bin --emit=dep-info,link -C embed-bitcode=no --cfg 'feature=\"default\"' --cfg 'feature=\"std\"' --check-cfg 'cfg(docsrs,test)' --check-cfg 'cfg(feature, values(\"default\", \"serde\", \"std\"))' -C metadata=670556817b2eab65 -C extra-filename=-1af00ce4eacc30a0 --out-dir /content/llama_runner/target/debug/build/slab-1af00ce4eacc30a0 -L dependency=/content/llama_runner/target/debug/deps --extern autocfg=/content/llama_runner/target/debug/deps/libautocfg-33a18d854aead0c6.rlib --cap-lints allow`\n",
            "   Compiling libloading v0.8.6\n",
            "     Running `/root/.rustup/toolchains/stable-x86_64-unknown-linux-gnu/bin/rustc --crate-name libloading --edition=2015 /root/.cargo/registry/src/index.crates.io-1949cf8c6b5b557f/libloading-0.8.6/src/lib.rs --error-format=json --json=diagnostic-rendered-ansi,artifacts,future-incompat --crate-type lib --emit=dep-info,metadata,link -C embed-bitcode=no --warn=unexpected_cfgs --check-cfg 'cfg(docsrs,test)' --check-cfg 'cfg(feature, values())' -C metadata=9388669b6fae06ab -C extra-filename=-28cc9a93ef05b387 --out-dir /content/llama_runner/target/debug/deps -L dependency=/content/llama_runner/target/debug/deps --extern cfg_if=/content/llama_runner/target/debug/deps/libcfg_if-eb0fb150bed86629.rmeta --cap-lints allow`\n",
            "     Running `/root/.rustup/toolchains/stable-x86_64-unknown-linux-gnu/bin/rustc --crate-name rustix --edition=2021 /root/.cargo/registry/src/index.crates.io-1949cf8c6b5b557f/rustix-0.38.44/src/lib.rs --error-format=json --json=diagnostic-rendered-ansi,artifacts,future-incompat --crate-type lib --emit=dep-info,metadata,link -C embed-bitcode=no --warn=unexpected_cfgs --check-cfg 'cfg(alloc_c_string)' --check-cfg 'cfg(alloc_ffi)' --check-cfg 'cfg(apple)' --check-cfg 'cfg(asm_experimental_arch)' --check-cfg 'cfg(bsd)' --check-cfg 'cfg(core_c_str)' --check-cfg 'cfg(core_ffi_c)' --check-cfg 'cfg(core_intrinsics)' --check-cfg 'cfg(criterion)' --check-cfg 'cfg(document_experimental_runtime_api)' --check-cfg 'cfg(fix_y2038)' --check-cfg 'cfg(freebsdlike)' --check-cfg 'cfg(libc)' --check-cfg 'cfg(linux_kernel)' --check-cfg 'cfg(linux_like)' --check-cfg 'cfg(linux_raw)' --check-cfg 'cfg(netbsdlike)' --check-cfg 'cfg(rustc_attrs)' --check-cfg 'cfg(solarish)' --check-cfg 'cfg(staged_api)' --check-cfg 'cfg(static_assertions)' --check-cfg 'cfg(thumb_mode)' --check-cfg 'cfg(wasi)' --check-cfg 'cfg(wasi_ext)' --check-cfg 'cfg(target_arch, values(\"xtensa\"))' --cfg 'feature=\"alloc\"' --cfg 'feature=\"fs\"' --cfg 'feature=\"libc-extra-traits\"' --cfg 'feature=\"std\"' --check-cfg 'cfg(docsrs,test)' --check-cfg 'cfg(feature, values(\"all-apis\", \"alloc\", \"cc\", \"compiler_builtins\", \"core\", \"default\", \"event\", \"fs\", \"io_uring\", \"itoa\", \"libc\", \"libc-extra-traits\", \"libc_errno\", \"linux_4_11\", \"linux_latest\", \"mm\", \"mount\", \"net\", \"once_cell\", \"param\", \"pipe\", \"process\", \"procfs\", \"pty\", \"rand\", \"runtime\", \"rustc-dep-of-std\", \"rustc-std-workspace-alloc\", \"shm\", \"std\", \"stdio\", \"system\", \"termios\", \"thread\", \"time\", \"try_close\", \"use-explicitly-provided-auxv\", \"use-libc\", \"use-libc-auxv\"))' -C metadata=6681f2c3d512c267 -C extra-filename=-3daab246d9d167bf --out-dir /content/llama_runner/target/debug/deps -L dependency=/content/llama_runner/target/debug/deps --extern bitflags=/content/llama_runner/target/debug/deps/libbitflags-1dbb0567ddc4bf4a.rmeta --extern linux_raw_sys=/content/llama_runner/target/debug/deps/liblinux_raw_sys-b63cfc05db877b5c.rmeta --cap-lints allow --cfg static_assertions --cfg linux_raw --cfg linux_like --cfg linux_kernel`\n",
            "   Compiling once_cell v1.21.3\n",
            "     Running `/root/.rustup/toolchains/stable-x86_64-unknown-linux-gnu/bin/rustc --crate-name once_cell --edition=2021 /root/.cargo/registry/src/index.crates.io-1949cf8c6b5b557f/once_cell-1.21.3/src/lib.rs --error-format=json --json=diagnostic-rendered-ansi,artifacts,future-incompat --crate-type lib --emit=dep-info,metadata,link -C embed-bitcode=no -C debuginfo=2 --cfg 'feature=\"alloc\"' --cfg 'feature=\"default\"' --cfg 'feature=\"race\"' --cfg 'feature=\"std\"' --check-cfg 'cfg(docsrs,test)' --check-cfg 'cfg(feature, values(\"alloc\", \"atomic-polyfill\", \"critical-section\", \"default\", \"parking_lot\", \"portable-atomic\", \"race\", \"std\", \"unstable\"))' -C metadata=4b119c4534e7f8b1 -C extra-filename=-e8d785443e198b06 --out-dir /content/llama_runner/target/debug/deps -L dependency=/content/llama_runner/target/debug/deps --cap-lints allow`\n",
            "   Compiling bindgen v0.69.5\n",
            "     Running `/root/.rustup/toolchains/stable-x86_64-unknown-linux-gnu/bin/rustc --crate-name build_script_build --edition=2018 /root/.cargo/registry/src/index.crates.io-1949cf8c6b5b557f/bindgen-0.69.5/build.rs --error-format=json --json=diagnostic-rendered-ansi,artifacts,future-incompat --crate-type bin --emit=dep-info,link -C embed-bitcode=no --cfg 'feature=\"default\"' --cfg 'feature=\"logging\"' --cfg 'feature=\"prettyplease\"' --cfg 'feature=\"runtime\"' --cfg 'feature=\"which-rustfmt\"' --check-cfg 'cfg(docsrs,test)' --check-cfg 'cfg(feature, values(\"__cli\", \"__testing_only_extra_assertions\", \"__testing_only_libclang_16\", \"__testing_only_libclang_9\", \"default\", \"experimental\", \"logging\", \"prettyplease\", \"runtime\", \"static\", \"which-rustfmt\"))' -C metadata=0b958af23282072f -C extra-filename=-2bdd77ddfba5a658 --out-dir /content/llama_runner/target/debug/build/bindgen-2bdd77ddfba5a658 -L dependency=/content/llama_runner/target/debug/deps --cap-lints allow`\n",
            "   Compiling home v0.5.11\n",
            "     Running `/root/.rustup/toolchains/stable-x86_64-unknown-linux-gnu/bin/rustc --crate-name home --edition=2021 /root/.cargo/registry/src/index.crates.io-1949cf8c6b5b557f/home-0.5.11/src/lib.rs --error-format=json --json=diagnostic-rendered-ansi,artifacts,future-incompat --crate-type lib --emit=dep-info,metadata,link -C embed-bitcode=no '--allow=clippy::all' '--warn=clippy::correctness' '--warn=clippy::self_named_module_files' --warn=rust_2018_idioms '--allow=rustdoc::private_intra_doc_links' '--warn=clippy::print_stdout' '--warn=clippy::print_stderr' '--warn=clippy::disallowed_methods' '--warn=clippy::dbg_macro' --check-cfg 'cfg(docsrs,test)' --check-cfg 'cfg(feature, values())' -C metadata=5172be4c675051f9 -C extra-filename=-1bcd50219b549eea --out-dir /content/llama_runner/target/debug/deps -L dependency=/content/llama_runner/target/debug/deps --cap-lints allow`\n",
            "   Compiling pin-project-lite v0.2.16\n",
            "     Running `/root/.rustup/toolchains/stable-x86_64-unknown-linux-gnu/bin/rustc --crate-name pin_project_lite --edition=2018 /root/.cargo/registry/src/index.crates.io-1949cf8c6b5b557f/pin-project-lite-0.2.16/src/lib.rs --error-format=json --json=diagnostic-rendered-ansi,artifacts,future-incompat --crate-type lib --emit=dep-info,metadata,link -C embed-bitcode=no -C debuginfo=2 --warn=unreachable_pub --warn=unexpected_cfgs '--warn=clippy::undocumented_unsafe_blocks' '--warn=clippy::transmute_undefined_repr' '--warn=clippy::trailing_empty_array' --warn=single_use_lifetimes --warn=rust_2018_idioms '--warn=clippy::pedantic' --warn=non_ascii_idents '--warn=clippy::inline_asm_x86_att_syntax' --warn=improper_ctypes_definitions --warn=improper_ctypes --warn=deprecated_safe '--warn=clippy::default_union_representation' '--warn=clippy::as_underscore' '--warn=clippy::as_ptr_cast_mut' '--warn=clippy::all' '--allow=clippy::unreadable_literal' '--allow=clippy::type_complexity' '--allow=clippy::too_many_lines' '--allow=clippy::too_many_arguments' '--allow=clippy::struct_field_names' '--allow=clippy::struct_excessive_bools' '--allow=clippy::single_match_else' '--allow=clippy::single_match' '--allow=clippy::similar_names' '--allow=clippy::range_plus_one' '--allow=clippy::nonminimal_bool' '--allow=clippy::naive_bytecount' '--allow=clippy::module_name_repetitions' '--allow=clippy::missing_errors_doc' '--allow=clippy::manual_range_contains' '--allow=clippy::manual_assert' '--allow=clippy::lint_groups_priority' '--allow=clippy::incompatible_msrv' '--allow=clippy::float_cmp' '--allow=clippy::doc_markdown' '--allow=clippy::declare_interior_mutable_const' '--allow=clippy::cast_lossless' '--allow=clippy::borrow_as_ptr' '--allow=clippy::bool_assert_comparison' --check-cfg 'cfg(docsrs,test)' --check-cfg 'cfg(feature, values())' -C metadata=d81eb902d5b71884 -C extra-filename=-3786854cc47c19bc --out-dir /content/llama_runner/target/debug/deps -L dependency=/content/llama_runner/target/debug/deps --cap-lints allow`\n",
            "   Compiling which v4.4.2\n",
            "     Running `/root/.rustup/toolchains/stable-x86_64-unknown-linux-gnu/bin/rustc --crate-name which --edition=2021 /root/.cargo/registry/src/index.crates.io-1949cf8c6b5b557f/which-4.4.2/src/lib.rs --error-format=json --json=diagnostic-rendered-ansi,artifacts,future-incompat --crate-type lib --emit=dep-info,metadata,link -C embed-bitcode=no --check-cfg 'cfg(docsrs,test)' --check-cfg 'cfg(feature, values(\"regex\"))' -C metadata=2b6109a51f38ec0b -C extra-filename=-038ee3089a9847d1 --out-dir /content/llama_runner/target/debug/deps -L dependency=/content/llama_runner/target/debug/deps --extern either=/content/llama_runner/target/debug/deps/libeither-b8b9fae15624a74b.rmeta --extern home=/content/llama_runner/target/debug/deps/libhome-1bcd50219b549eea.rmeta --extern rustix=/content/llama_runner/target/debug/deps/librustix-3daab246d9d167bf.rmeta --cap-lints allow`\n",
            "     Running `/content/llama_runner/target/debug/build/bindgen-2bdd77ddfba5a658/build-script-build`\n",
            "   Compiling regex v1.11.1\n",
            "     Running `/root/.rustup/toolchains/stable-x86_64-unknown-linux-gnu/bin/rustc --crate-name regex --edition=2021 /root/.cargo/registry/src/index.crates.io-1949cf8c6b5b557f/regex-1.11.1/src/lib.rs --error-format=json --json=diagnostic-rendered-ansi,artifacts,future-incompat --crate-type lib --emit=dep-info,metadata,link -C embed-bitcode=no --cfg 'feature=\"std\"' --cfg 'feature=\"unicode-perl\"' --check-cfg 'cfg(docsrs,test)' --check-cfg 'cfg(feature, values(\"default\", \"logging\", \"pattern\", \"perf\", \"perf-backtrack\", \"perf-cache\", \"perf-dfa\", \"perf-dfa-full\", \"perf-inline\", \"perf-literal\", \"perf-onepass\", \"std\", \"unicode\", \"unicode-age\", \"unicode-bool\", \"unicode-case\", \"unicode-gencat\", \"unicode-perl\", \"unicode-script\", \"unicode-segment\", \"unstable\", \"use_std\"))' -C metadata=e970e34ef39ad91e -C extra-filename=-edf57ee75277b8c4 --out-dir /content/llama_runner/target/debug/deps -L dependency=/content/llama_runner/target/debug/deps --extern regex_automata=/content/llama_runner/target/debug/deps/libregex_automata-3d246e65a6ecbe7b.rmeta --extern regex_syntax=/content/llama_runner/target/debug/deps/libregex_syntax-4b68dafe5bc0480c.rmeta --cap-lints allow`\n",
            "     Running `/root/.rustup/toolchains/stable-x86_64-unknown-linux-gnu/bin/rustc --crate-name clang_sys --edition=2021 /root/.cargo/registry/src/index.crates.io-1949cf8c6b5b557f/clang-sys-1.8.1/src/lib.rs --error-format=json --json=diagnostic-rendered-ansi,artifacts,future-incompat --crate-type lib --emit=dep-info,metadata,link -C embed-bitcode=no --cfg 'feature=\"clang_3_5\"' --cfg 'feature=\"clang_3_6\"' --cfg 'feature=\"clang_3_7\"' --cfg 'feature=\"clang_3_8\"' --cfg 'feature=\"clang_3_9\"' --cfg 'feature=\"clang_4_0\"' --cfg 'feature=\"clang_5_0\"' --cfg 'feature=\"clang_6_0\"' --cfg 'feature=\"libloading\"' --cfg 'feature=\"runtime\"' --check-cfg 'cfg(docsrs,test)' --check-cfg 'cfg(feature, values(\"clang_10_0\", \"clang_11_0\", \"clang_12_0\", \"clang_13_0\", \"clang_14_0\", \"clang_15_0\", \"clang_16_0\", \"clang_17_0\", \"clang_18_0\", \"clang_3_5\", \"clang_3_6\", \"clang_3_7\", \"clang_3_8\", \"clang_3_9\", \"clang_4_0\", \"clang_5_0\", \"clang_6_0\", \"clang_7_0\", \"clang_8_0\", \"clang_9_0\", \"libcpp\", \"libloading\", \"runtime\", \"static\"))' -C metadata=d3487f874a7ece4c -C extra-filename=-48886f581c287175 --out-dir /content/llama_runner/target/debug/deps -L dependency=/content/llama_runner/target/debug/deps --extern glob=/content/llama_runner/target/debug/deps/libglob-f6c5b2ae5d218149.rmeta --extern libc=/content/llama_runner/target/debug/deps/liblibc-b1c52a7bcf14e644.rmeta --extern libloading=/content/llama_runner/target/debug/deps/liblibloading-28cc9a93ef05b387.rmeta --cap-lints allow`\n",
            "     Running `/content/llama_runner/target/debug/build/slab-1af00ce4eacc30a0/build-script-build`\n",
            "   Compiling cexpr v0.6.0\n",
            "     Running `/root/.rustup/toolchains/stable-x86_64-unknown-linux-gnu/bin/rustc --crate-name cexpr --edition=2018 /root/.cargo/registry/src/index.crates.io-1949cf8c6b5b557f/cexpr-0.6.0/src/lib.rs --error-format=json --json=diagnostic-rendered-ansi,artifacts,future-incompat --crate-type lib --emit=dep-info,metadata,link -C embed-bitcode=no --check-cfg 'cfg(docsrs,test)' --check-cfg 'cfg(feature, values())' -C metadata=02add05302569012 -C extra-filename=-6b45bddb93fdbfc7 --out-dir /content/llama_runner/target/debug/deps -L dependency=/content/llama_runner/target/debug/deps --extern nom=/content/llama_runner/target/debug/deps/libnom-1310071d20caa619.rmeta --cap-lints allow`\n",
            "   Compiling itertools v0.12.1\n",
            "     Running `/root/.rustup/toolchains/stable-x86_64-unknown-linux-gnu/bin/rustc --crate-name itertools --edition=2018 /root/.cargo/registry/src/index.crates.io-1949cf8c6b5b557f/itertools-0.12.1/src/lib.rs --error-format=json --json=diagnostic-rendered-ansi,artifacts,future-incompat --crate-type lib --emit=dep-info,metadata,link -C embed-bitcode=no --check-cfg 'cfg(docsrs,test)' --check-cfg 'cfg(feature, values(\"default\", \"use_alloc\", \"use_std\"))' -C metadata=0f66ed2e46878429 -C extra-filename=-536d176f043b8e47 --out-dir /content/llama_runner/target/debug/deps -L dependency=/content/llama_runner/target/debug/deps --extern either=/content/llama_runner/target/debug/deps/libeither-b8b9fae15624a74b.rmeta --cap-lints allow`\n",
            "     Running `/root/.rustup/toolchains/stable-x86_64-unknown-linux-gnu/bin/rustc --crate-name prettyplease --edition=2021 /root/.cargo/registry/src/index.crates.io-1949cf8c6b5b557f/prettyplease-0.2.32/src/lib.rs --error-format=json --json=diagnostic-rendered-ansi,artifacts,future-incompat --crate-type lib --emit=dep-info,metadata,link -C embed-bitcode=no --cfg 'feature=\"verbatim\"' --check-cfg 'cfg(docsrs,test)' --check-cfg 'cfg(feature, values(\"verbatim\"))' -C metadata=92b0a1411f410361 -C extra-filename=-b22bc4d0de371f69 --out-dir /content/llama_runner/target/debug/deps -L dependency=/content/llama_runner/target/debug/deps --extern proc_macro2=/content/llama_runner/target/debug/deps/libproc_macro2-9b72563e7d353b25.rmeta --extern syn=/content/llama_runner/target/debug/deps/libsyn-3e4a3c8f08cb55eb.rmeta --cap-lints allow --check-cfg 'cfg(exhaustive)' --check-cfg 'cfg(prettyplease_debug)' --check-cfg 'cfg(prettyplease_debug_indent)'`\n",
            "   Compiling link-cplusplus v1.0.10\n",
            "     Running `/root/.rustup/toolchains/stable-x86_64-unknown-linux-gnu/bin/rustc --crate-name build_script_build --edition=2018 /root/.cargo/registry/src/index.crates.io-1949cf8c6b5b557f/link-cplusplus-1.0.10/build.rs --error-format=json --json=diagnostic-rendered-ansi,artifacts,future-incompat --crate-type bin --emit=dep-info,link -C embed-bitcode=no --cfg 'feature=\"default\"' --check-cfg 'cfg(docsrs,test)' --check-cfg 'cfg(feature, values(\"default\", \"libc++\", \"libcxx\", \"libstdc++\", \"libstdcxx\", \"nothing\"))' -C metadata=0a10d045470435f3 -C extra-filename=-a02cbb16c7a42186 --out-dir /content/llama_runner/target/debug/build/link-cplusplus-a02cbb16c7a42186 -L dependency=/content/llama_runner/target/debug/deps --extern cc=/content/llama_runner/target/debug/deps/libcc-da524e43297b9fac.rlib --cap-lints allow`\n",
            "   Compiling rustc-hash v1.1.0\n",
            "     Running `/root/.rustup/toolchains/stable-x86_64-unknown-linux-gnu/bin/rustc --crate-name rustc_hash --edition=2015 /root/.cargo/registry/src/index.crates.io-1949cf8c6b5b557f/rustc-hash-1.1.0/src/lib.rs --error-format=json --json=diagnostic-rendered-ansi,artifacts,future-incompat --crate-type lib --emit=dep-info,metadata,link -C embed-bitcode=no --cfg 'feature=\"default\"' --cfg 'feature=\"std\"' --check-cfg 'cfg(docsrs,test)' --check-cfg 'cfg(feature, values(\"default\", \"std\"))' -C metadata=0aa54d35f9314a11 -C extra-filename=-051f344b81ea21d9 --out-dir /content/llama_runner/target/debug/deps -L dependency=/content/llama_runner/target/debug/deps --cap-lints allow`\n",
            "   Compiling log v0.4.27\n",
            "     Running `/root/.rustup/toolchains/stable-x86_64-unknown-linux-gnu/bin/rustc --crate-name log --edition=2021 /root/.cargo/registry/src/index.crates.io-1949cf8c6b5b557f/log-0.4.27/src/lib.rs --error-format=json --json=diagnostic-rendered-ansi,artifacts,future-incompat --crate-type lib --emit=dep-info,metadata,link -C embed-bitcode=no --check-cfg 'cfg(docsrs,test)' --check-cfg 'cfg(feature, values(\"kv\", \"kv_serde\", \"kv_std\", \"kv_sval\", \"kv_unstable\", \"kv_unstable_serde\", \"kv_unstable_std\", \"kv_unstable_sval\", \"max_level_debug\", \"max_level_error\", \"max_level_info\", \"max_level_off\", \"max_level_trace\", \"max_level_warn\", \"release_max_level_debug\", \"release_max_level_error\", \"release_max_level_info\", \"release_max_level_off\", \"release_max_level_trace\", \"release_max_level_warn\", \"serde\", \"std\", \"sval\", \"sval_ref\", \"value-bag\"))' -C metadata=25fac037f3e89abd -C extra-filename=-216e2aa24ca36ec6 --out-dir /content/llama_runner/target/debug/deps -L dependency=/content/llama_runner/target/debug/deps --cap-lints allow`\n",
            "   Compiling lazy_static v1.5.0\n",
            "     Running `/root/.rustup/toolchains/stable-x86_64-unknown-linux-gnu/bin/rustc --crate-name lazy_static --edition=2015 /root/.cargo/registry/src/index.crates.io-1949cf8c6b5b557f/lazy_static-1.5.0/src/lib.rs --error-format=json --json=diagnostic-rendered-ansi,artifacts,future-incompat --crate-type lib --emit=dep-info,metadata,link -C embed-bitcode=no --check-cfg 'cfg(docsrs,test)' --check-cfg 'cfg(feature, values(\"spin\", \"spin_no_std\"))' -C metadata=dfd442af939f9696 -C extra-filename=-95846aa330bffb9d --out-dir /content/llama_runner/target/debug/deps -L dependency=/content/llama_runner/target/debug/deps --cap-lints allow`\n",
            "   Compiling futures-sink v0.3.31\n",
            "     Running `/root/.rustup/toolchains/stable-x86_64-unknown-linux-gnu/bin/rustc --crate-name futures_sink --edition=2018 /root/.cargo/registry/src/index.crates.io-1949cf8c6b5b557f/futures-sink-0.3.31/src/lib.rs --error-format=json --json=diagnostic-rendered-ansi,artifacts,future-incompat --crate-type lib --emit=dep-info,metadata,link -C embed-bitcode=no -C debuginfo=2 --warn=unreachable_pub --warn=unexpected_cfgs --warn=single_use_lifetimes --warn=rust_2018_idioms --warn=missing_debug_implementations --check-cfg 'cfg(futures_sanitizer)' --cfg 'feature=\"alloc\"' --cfg 'feature=\"std\"' --check-cfg 'cfg(docsrs,test)' --check-cfg 'cfg(feature, values(\"alloc\", \"default\", \"std\"))' -C metadata=5e1b7c28cafab4ce -C extra-filename=-b78c60087832efc6 --out-dir /content/llama_runner/target/debug/deps -L dependency=/content/llama_runner/target/debug/deps --cap-lints allow`\n",
            "   Compiling futures-core v0.3.31\n",
            "     Running `/root/.rustup/toolchains/stable-x86_64-unknown-linux-gnu/bin/rustc --crate-name futures_core --edition=2018 /root/.cargo/registry/src/index.crates.io-1949cf8c6b5b557f/futures-core-0.3.31/src/lib.rs --error-format=json --json=diagnostic-rendered-ansi,artifacts,future-incompat --crate-type lib --emit=dep-info,metadata,link -C embed-bitcode=no -C debuginfo=2 --warn=unreachable_pub --warn=unexpected_cfgs --warn=single_use_lifetimes --warn=rust_2018_idioms --warn=missing_debug_implementations --check-cfg 'cfg(futures_sanitizer)' --cfg 'feature=\"alloc\"' --cfg 'feature=\"std\"' --check-cfg 'cfg(docsrs,test)' --check-cfg 'cfg(feature, values(\"alloc\", \"cfg-target-has-atomic\", \"default\", \"portable-atomic\", \"std\", \"unstable\"))' -C metadata=c2c9a48d916cf0a8 -C extra-filename=-8258963fc4e74c9b --out-dir /content/llama_runner/target/debug/deps -L dependency=/content/llama_runner/target/debug/deps --cap-lints allow`\n",
            "   Compiling lazycell v1.3.0\n",
            "     Running `/root/.rustup/toolchains/stable-x86_64-unknown-linux-gnu/bin/rustc --crate-name lazycell --edition=2015 /root/.cargo/registry/src/index.crates.io-1949cf8c6b5b557f/lazycell-1.3.0/src/lib.rs --error-format=json --json=diagnostic-rendered-ansi,artifacts,future-incompat --crate-type lib --emit=dep-info,metadata,link -C embed-bitcode=no --check-cfg 'cfg(docsrs,test)' --check-cfg 'cfg(feature, values(\"clippy\", \"nightly\", \"nightly-testing\", \"serde\"))' -C metadata=3c87e0c9847aa2ac -C extra-filename=-4a3401d7df5aa81f --out-dir /content/llama_runner/target/debug/deps -L dependency=/content/llama_runner/target/debug/deps --cap-lints allow`\n",
            "     Running `/root/.rustup/toolchains/stable-x86_64-unknown-linux-gnu/bin/rustc --crate-name bindgen --edition=2018 /root/.cargo/registry/src/index.crates.io-1949cf8c6b5b557f/bindgen-0.69.5/lib.rs --error-format=json --json=diagnostic-rendered-ansi,artifacts,future-incompat --crate-type lib --emit=dep-info,metadata,link -C embed-bitcode=no --cfg 'feature=\"default\"' --cfg 'feature=\"logging\"' --cfg 'feature=\"prettyplease\"' --cfg 'feature=\"runtime\"' --cfg 'feature=\"which-rustfmt\"' --check-cfg 'cfg(docsrs,test)' --check-cfg 'cfg(feature, values(\"__cli\", \"__testing_only_extra_assertions\", \"__testing_only_libclang_16\", \"__testing_only_libclang_9\", \"default\", \"experimental\", \"logging\", \"prettyplease\", \"runtime\", \"static\", \"which-rustfmt\"))' -C metadata=c0099f3c4ec34e75 -C extra-filename=-c07328d9a2878932 --out-dir /content/llama_runner/target/debug/deps -L dependency=/content/llama_runner/target/debug/deps --extern bitflags=/content/llama_runner/target/debug/deps/libbitflags-1dbb0567ddc4bf4a.rmeta --extern cexpr=/content/llama_runner/target/debug/deps/libcexpr-6b45bddb93fdbfc7.rmeta --extern clang_sys=/content/llama_runner/target/debug/deps/libclang_sys-48886f581c287175.rmeta --extern itertools=/content/llama_runner/target/debug/deps/libitertools-536d176f043b8e47.rmeta --extern lazy_static=/content/llama_runner/target/debug/deps/liblazy_static-95846aa330bffb9d.rmeta --extern lazycell=/content/llama_runner/target/debug/deps/liblazycell-4a3401d7df5aa81f.rmeta --extern log=/content/llama_runner/target/debug/deps/liblog-216e2aa24ca36ec6.rmeta --extern prettyplease=/content/llama_runner/target/debug/deps/libprettyplease-b22bc4d0de371f69.rmeta --extern proc_macro2=/content/llama_runner/target/debug/deps/libproc_macro2-9b72563e7d353b25.rmeta --extern quote=/content/llama_runner/target/debug/deps/libquote-ae401e1e951ce75b.rmeta --extern regex=/content/llama_runner/target/debug/deps/libregex-edf57ee75277b8c4.rmeta --extern rustc_hash=/content/llama_runner/target/debug/deps/librustc_hash-051f344b81ea21d9.rmeta --extern shlex=/content/llama_runner/target/debug/deps/libshlex-a0e5d10e827cd16a.rmeta --extern syn=/content/llama_runner/target/debug/deps/libsyn-3e4a3c8f08cb55eb.rmeta --extern which=/content/llama_runner/target/debug/deps/libwhich-038ee3089a9847d1.rmeta --cap-lints allow`\n",
            "   Compiling futures-channel v0.3.31\n",
            "     Running `/root/.rustup/toolchains/stable-x86_64-unknown-linux-gnu/bin/rustc --crate-name futures_channel --edition=2018 /root/.cargo/registry/src/index.crates.io-1949cf8c6b5b557f/futures-channel-0.3.31/src/lib.rs --error-format=json --json=diagnostic-rendered-ansi,artifacts,future-incompat --crate-type lib --emit=dep-info,metadata,link -C embed-bitcode=no -C debuginfo=2 --warn=unreachable_pub --warn=unexpected_cfgs --warn=single_use_lifetimes --warn=rust_2018_idioms --warn=missing_debug_implementations --check-cfg 'cfg(futures_sanitizer)' --cfg 'feature=\"alloc\"' --cfg 'feature=\"futures-sink\"' --cfg 'feature=\"sink\"' --cfg 'feature=\"std\"' --check-cfg 'cfg(docsrs,test)' --check-cfg 'cfg(feature, values(\"alloc\", \"cfg-target-has-atomic\", \"default\", \"futures-sink\", \"sink\", \"std\", \"unstable\"))' -C metadata=e489cfe64e7b1214 -C extra-filename=-b1c73bbdda17b55d --out-dir /content/llama_runner/target/debug/deps -L dependency=/content/llama_runner/target/debug/deps --extern futures_core=/content/llama_runner/target/debug/deps/libfutures_core-8258963fc4e74c9b.rmeta --extern futures_sink=/content/llama_runner/target/debug/deps/libfutures_sink-b78c60087832efc6.rmeta --cap-lints allow`\n",
            "     Running `/content/llama_runner/target/debug/build/link-cplusplus-a02cbb16c7a42186/build-script-build`\n",
            "     Running `/root/.rustup/toolchains/stable-x86_64-unknown-linux-gnu/bin/rustc --crate-name slab --edition=2018 /root/.cargo/registry/src/index.crates.io-1949cf8c6b5b557f/slab-0.4.9/src/lib.rs --error-format=json --json=diagnostic-rendered-ansi,artifacts,future-incompat --crate-type lib --emit=dep-info,metadata,link -C embed-bitcode=no -C debuginfo=2 --cfg 'feature=\"default\"' --cfg 'feature=\"std\"' --check-cfg 'cfg(docsrs,test)' --check-cfg 'cfg(feature, values(\"default\", \"serde\", \"std\"))' -C metadata=626da063707ee311 -C extra-filename=-e04a6b60177a0d3a --out-dir /content/llama_runner/target/debug/deps -L dependency=/content/llama_runner/target/debug/deps --cap-lints allow`\n",
            "   Compiling futures-macro v0.3.31\n",
            "     Running `/root/.rustup/toolchains/stable-x86_64-unknown-linux-gnu/bin/rustc --crate-name futures_macro --edition=2018 /root/.cargo/registry/src/index.crates.io-1949cf8c6b5b557f/futures-macro-0.3.31/src/lib.rs --error-format=json --json=diagnostic-rendered-ansi,artifacts,future-incompat --crate-type proc-macro --emit=dep-info,link -C prefer-dynamic -C embed-bitcode=no --warn=unreachable_pub --warn=unexpected_cfgs --warn=single_use_lifetimes --warn=rust_2018_idioms --warn=missing_debug_implementations --check-cfg 'cfg(futures_sanitizer)' --check-cfg 'cfg(docsrs,test)' --check-cfg 'cfg(feature, values())' -C metadata=69d61e2eb3bf814b -C extra-filename=-c915c3cf894313ff --out-dir /content/llama_runner/target/debug/deps -L dependency=/content/llama_runner/target/debug/deps --extern proc_macro2=/content/llama_runner/target/debug/deps/libproc_macro2-9b72563e7d353b25.rlib --extern quote=/content/llama_runner/target/debug/deps/libquote-ae401e1e951ce75b.rlib --extern syn=/content/llama_runner/target/debug/deps/libsyn-3e4a3c8f08cb55eb.rlib --extern proc_macro --cap-lints allow`\n",
            "   Compiling futures-task v0.3.31\n",
            "     Running `/root/.rustup/toolchains/stable-x86_64-unknown-linux-gnu/bin/rustc --crate-name futures_task --edition=2018 /root/.cargo/registry/src/index.crates.io-1949cf8c6b5b557f/futures-task-0.3.31/src/lib.rs --error-format=json --json=diagnostic-rendered-ansi,artifacts,future-incompat --crate-type lib --emit=dep-info,metadata,link -C embed-bitcode=no -C debuginfo=2 --warn=unreachable_pub --warn=unexpected_cfgs --warn=single_use_lifetimes --warn=rust_2018_idioms --warn=missing_debug_implementations --check-cfg 'cfg(futures_sanitizer)' --cfg 'feature=\"alloc\"' --cfg 'feature=\"std\"' --check-cfg 'cfg(docsrs,test)' --check-cfg 'cfg(feature, values(\"alloc\", \"cfg-target-has-atomic\", \"default\", \"std\", \"unstable\"))' -C metadata=82dd77543d32cf8a -C extra-filename=-806eb608ab62a020 --out-dir /content/llama_runner/target/debug/deps -L dependency=/content/llama_runner/target/debug/deps --cap-lints allow`\n",
            "   Compiling futures-io v0.3.31\n",
            "     Running `/root/.rustup/toolchains/stable-x86_64-unknown-linux-gnu/bin/rustc --crate-name futures_io --edition=2018 /root/.cargo/registry/src/index.crates.io-1949cf8c6b5b557f/futures-io-0.3.31/src/lib.rs --error-format=json --json=diagnostic-rendered-ansi,artifacts,future-incompat --crate-type lib --emit=dep-info,metadata,link -C embed-bitcode=no -C debuginfo=2 --warn=unreachable_pub --warn=unexpected_cfgs --warn=single_use_lifetimes --warn=rust_2018_idioms --warn=missing_debug_implementations --check-cfg 'cfg(futures_sanitizer)' --cfg 'feature=\"std\"' --check-cfg 'cfg(docsrs,test)' --check-cfg 'cfg(feature, values(\"default\", \"std\", \"unstable\"))' -C metadata=4df8f322dcdf193b -C extra-filename=-50de607dd9efc587 --out-dir /content/llama_runner/target/debug/deps -L dependency=/content/llama_runner/target/debug/deps --cap-lints allow`\n",
            "     Running `/root/.rustup/toolchains/stable-x86_64-unknown-linux-gnu/bin/rustc --crate-name memchr --edition=2021 /root/.cargo/registry/src/index.crates.io-1949cf8c6b5b557f/memchr-2.7.4/src/lib.rs --error-format=json --json=diagnostic-rendered-ansi,artifacts,future-incompat --crate-type lib --emit=dep-info,metadata,link -C embed-bitcode=no -C debuginfo=2 --cfg 'feature=\"alloc\"' --cfg 'feature=\"default\"' --cfg 'feature=\"std\"' --check-cfg 'cfg(docsrs,test)' --check-cfg 'cfg(feature, values(\"alloc\", \"compiler_builtins\", \"core\", \"default\", \"libc\", \"logging\", \"rustc-dep-of-std\", \"std\", \"use_std\"))' -C metadata=9f9a0194d3f979b1 -C extra-filename=-5cd0840582d585b1 --out-dir /content/llama_runner/target/debug/deps -L dependency=/content/llama_runner/target/debug/deps --cap-lints allow`\n",
            "   Compiling pin-utils v0.1.0\n",
            "     Running `/root/.rustup/toolchains/stable-x86_64-unknown-linux-gnu/bin/rustc --crate-name pin_utils --edition=2018 /root/.cargo/registry/src/index.crates.io-1949cf8c6b5b557f/pin-utils-0.1.0/src/lib.rs --error-format=json --json=diagnostic-rendered-ansi,artifacts,future-incompat --crate-type lib --emit=dep-info,metadata,link -C embed-bitcode=no -C debuginfo=2 --check-cfg 'cfg(docsrs,test)' --check-cfg 'cfg(feature, values())' -C metadata=bc13dcb949474ec1 -C extra-filename=-93dac4c4b85627d3 --out-dir /content/llama_runner/target/debug/deps -L dependency=/content/llama_runner/target/debug/deps --cap-lints allow`\n",
            "   Compiling futures-util v0.3.31\n",
            "     Running `/root/.rustup/toolchains/stable-x86_64-unknown-linux-gnu/bin/rustc --crate-name futures_util --edition=2018 /root/.cargo/registry/src/index.crates.io-1949cf8c6b5b557f/futures-util-0.3.31/src/lib.rs --error-format=json --json=diagnostic-rendered-ansi,artifacts,future-incompat --crate-type lib --emit=dep-info,metadata,link -C embed-bitcode=no -C debuginfo=2 --warn=unreachable_pub --warn=unexpected_cfgs --warn=single_use_lifetimes --warn=rust_2018_idioms --warn=missing_debug_implementations --check-cfg 'cfg(futures_sanitizer)' --cfg 'feature=\"alloc\"' --cfg 'feature=\"async-await\"' --cfg 'feature=\"async-await-macro\"' --cfg 'feature=\"channel\"' --cfg 'feature=\"futures-channel\"' --cfg 'feature=\"futures-io\"' --cfg 'feature=\"futures-macro\"' --cfg 'feature=\"futures-sink\"' --cfg 'feature=\"io\"' --cfg 'feature=\"memchr\"' --cfg 'feature=\"sink\"' --cfg 'feature=\"slab\"' --cfg 'feature=\"std\"' --check-cfg 'cfg(docsrs,test)' --check-cfg 'cfg(feature, values(\"alloc\", \"async-await\", \"async-await-macro\", \"bilock\", \"cfg-target-has-atomic\", \"channel\", \"compat\", \"default\", \"futures-channel\", \"futures-io\", \"futures-macro\", \"futures-sink\", \"futures_01\", \"io\", \"io-compat\", \"memchr\", \"portable-atomic\", \"sink\", \"slab\", \"std\", \"tokio-io\", \"unstable\", \"write-all-vectored\"))' -C metadata=5fd99d6be51daf94 -C extra-filename=-384fc03c372d9520 --out-dir /content/llama_runner/target/debug/deps -L dependency=/content/llama_runner/target/debug/deps --extern futures_channel=/content/llama_runner/target/debug/deps/libfutures_channel-b1c73bbdda17b55d.rmeta --extern futures_core=/content/llama_runner/target/debug/deps/libfutures_core-8258963fc4e74c9b.rmeta --extern futures_io=/content/llama_runner/target/debug/deps/libfutures_io-50de607dd9efc587.rmeta --extern futures_macro=/content/llama_runner/target/debug/deps/libfutures_macro-c915c3cf894313ff.so --extern futures_sink=/content/llama_runner/target/debug/deps/libfutures_sink-b78c60087832efc6.rmeta --extern futures_task=/content/llama_runner/target/debug/deps/libfutures_task-806eb608ab62a020.rmeta --extern memchr=/content/llama_runner/target/debug/deps/libmemchr-5cd0840582d585b1.rmeta --extern pin_project_lite=/content/llama_runner/target/debug/deps/libpin_project_lite-3786854cc47c19bc.rmeta --extern pin_utils=/content/llama_runner/target/debug/deps/libpin_utils-93dac4c4b85627d3.rmeta --extern slab=/content/llama_runner/target/debug/deps/libslab-e04a6b60177a0d3a.rmeta --cap-lints allow`\n",
            "   Compiling thiserror v1.0.69\n",
            "     Running `/root/.rustup/toolchains/stable-x86_64-unknown-linux-gnu/bin/rustc --crate-name build_script_build --edition=2021 /root/.cargo/registry/src/index.crates.io-1949cf8c6b5b557f/thiserror-1.0.69/build.rs --error-format=json --json=diagnostic-rendered-ansi,artifacts,future-incompat --crate-type bin --emit=dep-info,link -C embed-bitcode=no --check-cfg 'cfg(docsrs,test)' --check-cfg 'cfg(feature, values())' -C metadata=f81640dde5d6b24c -C extra-filename=-46051189e961b4af --out-dir /content/llama_runner/target/debug/build/thiserror-46051189e961b4af -L dependency=/content/llama_runner/target/debug/deps --cap-lints allow`\n",
            "     Running `/content/llama_runner/target/debug/build/thiserror-46051189e961b4af/build-script-build`\n",
            "   Compiling futures-executor v0.3.31\n",
            "     Running `/root/.rustup/toolchains/stable-x86_64-unknown-linux-gnu/bin/rustc --crate-name futures_executor --edition=2018 /root/.cargo/registry/src/index.crates.io-1949cf8c6b5b557f/futures-executor-0.3.31/src/lib.rs --error-format=json --json=diagnostic-rendered-ansi,artifacts,future-incompat --crate-type lib --emit=dep-info,metadata,link -C embed-bitcode=no -C debuginfo=2 --warn=unreachable_pub --warn=unexpected_cfgs --warn=single_use_lifetimes --warn=rust_2018_idioms --warn=missing_debug_implementations --check-cfg 'cfg(futures_sanitizer)' --cfg 'feature=\"std\"' --check-cfg 'cfg(docsrs,test)' --check-cfg 'cfg(feature, values(\"default\", \"num_cpus\", \"std\", \"thread-pool\"))' -C metadata=a1e388df5af20f3c -C extra-filename=-6b5e8563b287dc53 --out-dir /content/llama_runner/target/debug/deps -L dependency=/content/llama_runner/target/debug/deps --extern futures_core=/content/llama_runner/target/debug/deps/libfutures_core-8258963fc4e74c9b.rmeta --extern futures_task=/content/llama_runner/target/debug/deps/libfutures_task-806eb608ab62a020.rmeta --extern futures_util=/content/llama_runner/target/debug/deps/libfutures_util-384fc03c372d9520.rmeta --cap-lints allow`\n",
            "     Running `/root/.rustup/toolchains/stable-x86_64-unknown-linux-gnu/bin/rustc --crate-name link_cplusplus --edition=2018 /root/.cargo/registry/src/index.crates.io-1949cf8c6b5b557f/link-cplusplus-1.0.10/src/lib.rs --error-format=json --json=diagnostic-rendered-ansi,artifacts,future-incompat --crate-type lib --emit=dep-info,metadata,link -C embed-bitcode=no -C debuginfo=2 --cfg 'feature=\"default\"' --check-cfg 'cfg(docsrs,test)' --check-cfg 'cfg(feature, values(\"default\", \"libc++\", \"libcxx\", \"libstdc++\", \"libstdcxx\", \"nothing\"))' -C metadata=ca6c8d75fa11a952 -C extra-filename=-a8aa3bc33b0ed113 --out-dir /content/llama_runner/target/debug/deps -L dependency=/content/llama_runner/target/debug/deps --cap-lints allow -L native=/content/llama_runner/target/debug/build/link-cplusplus-9d163b9fcbc0bbdf/out -l static=link-cplusplus -l stdc++`\n",
            "   Compiling tracing-core v0.1.33\n",
            "     Running `/root/.rustup/toolchains/stable-x86_64-unknown-linux-gnu/bin/rustc --crate-name tracing_core --edition=2018 /root/.cargo/registry/src/index.crates.io-1949cf8c6b5b557f/tracing-core-0.1.33/src/lib.rs --error-format=json --json=diagnostic-rendered-ansi,artifacts,future-incompat --crate-type lib --emit=dep-info,metadata,link -C embed-bitcode=no -C debuginfo=2 --warn=unexpected_cfgs --check-cfg 'cfg(flaky_tests)' --check-cfg 'cfg(tracing_unstable)' --cfg 'feature=\"once_cell\"' --cfg 'feature=\"std\"' --check-cfg 'cfg(docsrs,test)' --check-cfg 'cfg(feature, values(\"default\", \"once_cell\", \"std\", \"valuable\"))' -C metadata=2e4ac1ecb7d52aae -C extra-filename=-877511e1e8792adf --out-dir /content/llama_runner/target/debug/deps -L dependency=/content/llama_runner/target/debug/deps --extern once_cell=/content/llama_runner/target/debug/deps/libonce_cell-e8d785443e198b06.rmeta --cap-lints allow`\n",
            "   Compiling llama_cpp_sys v0.3.2 (/content/llama_cpp-rs/crates/llama_cpp_sys)\n",
            "     Running `/root/.rustup/toolchains/stable-x86_64-unknown-linux-gnu/bin/rustc --crate-name build_script_build --edition=2021 /content/llama_cpp-rs/crates/llama_cpp_sys/build.rs --error-format=json --json=diagnostic-rendered-ansi,artifacts,future-incompat --crate-type bin --emit=dep-info,link -C embed-bitcode=no --cfg 'feature=\"accel\"' --cfg 'feature=\"avx\"' --cfg 'feature=\"avx2\"' --cfg 'feature=\"f16c\"' --cfg 'feature=\"fma\"' --cfg 'feature=\"native\"' --check-cfg 'cfg(docsrs,test)' --check-cfg 'cfg(feature, values(\"accel\", \"avx\", \"avx2\", \"avx512\", \"avx512_vmbi\", \"avx512_vnni\", \"blas\", \"clblast\", \"compat\", \"cuda\", \"cuda_dmmv\", \"cuda_f16\", \"cuda_mmq\", \"default\", \"f16c\", \"fma\", \"hipblas\", \"metal\", \"mpi\", \"native\", \"vulkan\"))' -C metadata=67aa582872659a2f -C extra-filename=-b91cdb3c2a936d93 --out-dir /content/llama_runner/target/debug/build/llama_cpp_sys-b91cdb3c2a936d93 -C incremental=/content/llama_runner/target/debug/incremental -L dependency=/content/llama_runner/target/debug/deps --extern bindgen=/content/llama_runner/target/debug/deps/libbindgen-c07328d9a2878932.rlib --extern cc=/content/llama_runner/target/debug/deps/libcc-da524e43297b9fac.rlib --extern once_cell=/content/llama_runner/target/debug/deps/libonce_cell-e8d785443e198b06.rlib`\n",
            "warning: unused imports: `ItemInfo`, `ItemKind`, and `ParseCallbacks`\n",
            " --> /content/llama_cpp-rs/crates/llama_cpp_sys/build.rs:7:26\n",
            "  |\n",
            "7 | use bindgen::callbacks::{ItemInfo, ItemKind, ParseCallbacks};\n",
            "  |                          ^^^^^^^^  ^^^^^^^^  ^^^^^^^^^^^^^^\n",
            "  |\n",
            "  = note: `#[warn(unused_imports)]` on by default\n",
            "\n",
            "warning: unexpected `cfg` condition value: `opencl`\n",
            "   --> /content/llama_cpp-rs/crates/llama_cpp_sys/build.rs:647:20\n",
            "    |\n",
            "647 |     } else if cfg!(feature = \"opencl\") {\n",
            "    |                    ^^^^^^^^^^^^^^^^^^\n",
            "    |\n",
            "    = note: expected values for `feature` are: `accel`, `avx`, `avx2`, `avx512`, `avx512_vmbi`, `avx512_vnni`, `blas`, `clblast`, `compat`, `cuda`, `cuda_dmmv`, `cuda_f16`, `cuda_mmq`, `default`, `f16c`, `fma`, `hipblas`, `metal`, `mpi`, `native`, and `vulkan`\n",
            "    = help: consider adding `opencl` as a feature in `Cargo.toml`\n",
            "    = note: see <https://doc.rust-lang.org/nightly/rustc/check-cfg/cargo-specifics.html> for more information about checking conditional configuration\n",
            "    = note: `#[warn(unexpected_cfgs)]` on by default\n",
            "\n",
            "warning: unexpected `cfg` condition value: `openblas`\n",
            "   --> /content/llama_cpp-rs/crates/llama_cpp_sys/build.rs:650:20\n",
            "    |\n",
            "650 |     } else if cfg!(feature = \"openblas\") {\n",
            "    |                    ^^^^^^^^^^^^^^^^^^^^\n",
            "    |\n",
            "    = note: expected values for `feature` are: `accel`, `avx`, `avx2`, `avx512`, `avx512_vmbi`, `avx512_vnni`, `blas`, `clblast`, `compat`, `cuda`, `cuda_dmmv`, `cuda_f16`, `cuda_mmq`, `default`, `f16c`, `fma`, `hipblas`, `metal`, `mpi`, `native`, and `vulkan`\n",
            "    = help: consider adding `openblas` as a feature in `Cargo.toml`\n",
            "    = note: see <https://doc.rust-lang.org/nightly/rustc/check-cfg/cargo-specifics.html> for more information about checking conditional configuration\n",
            "\n",
            "warning: unexpected `cfg` condition value: `blis`\n",
            "   --> /content/llama_cpp-rs/crates/llama_cpp_sys/build.rs:653:20\n",
            "    |\n",
            "653 |     } else if cfg!(feature = \"blis\") {\n",
            "    |                    ^^^^^^^^^^------\n",
            "    |                              |\n",
            "    |                              help: there is a expected value with a similar name: `\"blas\"`\n",
            "    |\n",
            "    = note: expected values for `feature` are: `accel`, `avx`, `avx2`, `avx512`, `avx512_vmbi`, `avx512_vnni`, `blas`, `clblast`, `compat`, `cuda`, `cuda_dmmv`, `cuda_f16`, `cuda_mmq`, `default`, `f16c`, `fma`, `hipblas`, `metal`, `mpi`, `native`, and `vulkan`\n",
            "    = help: consider adding `blis` as a feature in `Cargo.toml`\n",
            "    = note: see <https://doc.rust-lang.org/nightly/rustc/check-cfg/cargo-specifics.html> for more information about checking conditional configuration\n",
            "\n",
            "warning: variable does not need to be mutable\n",
            "  --> /content/llama_cpp-rs/crates/llama_cpp_sys/build.rs:96:9\n",
            "   |\n",
            "96 |     let mut bindings = bindgen::Builder::default()\n",
            "   |         ----^^^^^^^^\n",
            "   |         |\n",
            "   |         help: remove this `mut`\n",
            "   |\n",
            "   = note: `#[warn(unused_mut)]` on by default\n",
            "\n",
            "warning: variable does not need to be mutable\n",
            "   --> /content/llama_cpp-rs/crates/llama_cpp_sys/build.rs:498:9\n",
            "    |\n",
            "498 |     let mut output_file = File::create(&ggml_metal_shader_out_path).expect(\"Failed to create output file\");\n",
            "    |         ----^^^^^^^^^^^\n",
            "    |         |\n",
            "    |         help: remove this `mut`\n",
            "\n",
            "   Compiling thiserror-impl v1.0.69\n",
            "     Running `/root/.rustup/toolchains/stable-x86_64-unknown-linux-gnu/bin/rustc --crate-name thiserror_impl --edition=2021 /root/.cargo/registry/src/index.crates.io-1949cf8c6b5b557f/thiserror-impl-1.0.69/src/lib.rs --error-format=json --json=diagnostic-rendered-ansi,artifacts,future-incompat --crate-type proc-macro --emit=dep-info,link -C prefer-dynamic -C embed-bitcode=no --check-cfg 'cfg(docsrs,test)' --check-cfg 'cfg(feature, values())' -C metadata=3c476a7aa77e3e74 -C extra-filename=-da0d13531649a241 --out-dir /content/llama_runner/target/debug/deps -L dependency=/content/llama_runner/target/debug/deps --extern proc_macro2=/content/llama_runner/target/debug/deps/libproc_macro2-9b72563e7d353b25.rlib --extern quote=/content/llama_runner/target/debug/deps/libquote-ae401e1e951ce75b.rlib --extern syn=/content/llama_runner/target/debug/deps/libsyn-3e4a3c8f08cb55eb.rlib --extern proc_macro --cap-lints allow`\n",
            "warning: unused variable: `feat_lib`\n",
            "   --> /content/llama_cpp-rs/crates/llama_cpp_sys/build.rs:643:9\n",
            "    |\n",
            "643 |     let feat_lib = if cfg!(feature = \"vulkan\") {\n",
            "    |         ^^^^^^^^ help: if this is intentional, prefix it with an underscore: `_feat_lib`\n",
            "    |\n",
            "    = note: `#[warn(unused_variables)]` on by default\n",
            "\n",
            "warning: constant `PREFIX` is never used\n",
            "  --> /content/llama_cpp-rs/crates/llama_cpp_sys/build.rs:90:7\n",
            "   |\n",
            "90 | const PREFIX: &str = \"llm_\";\n",
            "   |       ^^^^^^\n",
            "   |\n",
            "   = note: `#[warn(dead_code)]` on by default\n",
            "\n",
            "   Compiling tracing-attributes v0.1.28\n",
            "     Running `/root/.rustup/toolchains/stable-x86_64-unknown-linux-gnu/bin/rustc --crate-name tracing_attributes --edition=2018 /root/.cargo/registry/src/index.crates.io-1949cf8c6b5b557f/tracing-attributes-0.1.28/src/lib.rs --error-format=json --json=diagnostic-rendered-ansi,artifacts,future-incompat --crate-type proc-macro --emit=dep-info,link -C prefer-dynamic -C embed-bitcode=no --warn=unexpected_cfgs --check-cfg 'cfg(flaky_tests)' --check-cfg 'cfg(tracing_unstable)' --check-cfg 'cfg(docsrs,test)' --check-cfg 'cfg(feature, values(\"async-await\"))' -C metadata=aad52f6f5441c461 -C extra-filename=-af78ad01d8f66643 --out-dir /content/llama_runner/target/debug/deps -L dependency=/content/llama_runner/target/debug/deps --extern proc_macro2=/content/llama_runner/target/debug/deps/libproc_macro2-9b72563e7d353b25.rlib --extern quote=/content/llama_runner/target/debug/deps/libquote-ae401e1e951ce75b.rlib --extern syn=/content/llama_runner/target/debug/deps/libsyn-3e4a3c8f08cb55eb.rlib --extern proc_macro --cap-lints allow`\n",
            "warning: `llama_cpp_sys` (build script) generated 8 warnings\n",
            "     Running `/content/llama_runner/target/debug/build/llama_cpp_sys-b91cdb3c2a936d93/build-script-build`\n",
            "   Compiling convert_case v0.4.0\n",
            "     Running `/root/.rustup/toolchains/stable-x86_64-unknown-linux-gnu/bin/rustc --crate-name convert_case --edition=2018 /root/.cargo/registry/src/index.crates.io-1949cf8c6b5b557f/convert_case-0.4.0/src/lib.rs --error-format=json --json=diagnostic-rendered-ansi,artifacts,future-incompat --crate-type lib --emit=dep-info,metadata,link -C embed-bitcode=no --check-cfg 'cfg(docsrs,test)' --check-cfg 'cfg(feature, values(\"rand\", \"random\"))' -C metadata=53f9835af978cdf6 -C extra-filename=-28471a4b0cd2bf45 --out-dir /content/llama_runner/target/debug/deps -L dependency=/content/llama_runner/target/debug/deps --cap-lints allow`\n",
            "   Compiling derive_more v0.99.20\n",
            "     Running `/root/.rustup/toolchains/stable-x86_64-unknown-linux-gnu/bin/rustc --crate-name derive_more --edition=2018 /root/.cargo/registry/src/index.crates.io-1949cf8c6b5b557f/derive_more-0.99.20/src/lib.rs --error-format=json --json=diagnostic-rendered-ansi,artifacts,future-incompat --crate-type proc-macro --emit=dep-info,link -C prefer-dynamic -C embed-bitcode=no --cfg 'feature=\"add\"' --cfg 'feature=\"add_assign\"' --cfg 'feature=\"as_mut\"' --cfg 'feature=\"as_ref\"' --cfg 'feature=\"constructor\"' --cfg 'feature=\"convert_case\"' --cfg 'feature=\"default\"' --cfg 'feature=\"deref\"' --cfg 'feature=\"deref_mut\"' --cfg 'feature=\"display\"' --cfg 'feature=\"error\"' --cfg 'feature=\"from\"' --cfg 'feature=\"from_str\"' --cfg 'feature=\"index\"' --cfg 'feature=\"index_mut\"' --cfg 'feature=\"into\"' --cfg 'feature=\"into_iterator\"' --cfg 'feature=\"is_variant\"' --cfg 'feature=\"iterator\"' --cfg 'feature=\"mul\"' --cfg 'feature=\"mul_assign\"' --cfg 'feature=\"not\"' --cfg 'feature=\"rustc_version\"' --cfg 'feature=\"sum\"' --cfg 'feature=\"try_into\"' --cfg 'feature=\"unwrap\"' --check-cfg 'cfg(docsrs,test)' --check-cfg 'cfg(feature, values(\"add\", \"add_assign\", \"as_mut\", \"as_ref\", \"constructor\", \"convert_case\", \"default\", \"deref\", \"deref_mut\", \"display\", \"error\", \"from\", \"from_str\", \"generate-parsing-rs\", \"index\", \"index_mut\", \"into\", \"into_iterator\", \"is_variant\", \"iterator\", \"mul\", \"mul_assign\", \"nightly\", \"not\", \"peg\", \"rustc_version\", \"sum\", \"testing-helpers\", \"track-caller\", \"try_into\", \"unwrap\"))' -C metadata=918c286ca7b9817f -C extra-filename=-a9307d00ef24f258 --out-dir /content/llama_runner/target/debug/deps -L dependency=/content/llama_runner/target/debug/deps --extern convert_case=/content/llama_runner/target/debug/deps/libconvert_case-28471a4b0cd2bf45.rlib --extern proc_macro2=/content/llama_runner/target/debug/deps/libproc_macro2-9b72563e7d353b25.rlib --extern quote=/content/llama_runner/target/debug/deps/libquote-ae401e1e951ce75b.rlib --extern syn=/content/llama_runner/target/debug/deps/libsyn-3e4a3c8f08cb55eb.rlib --extern proc_macro --cap-lints allow`\n",
            "   Compiling tracing v0.1.41\n",
            "     Running `/root/.rustup/toolchains/stable-x86_64-unknown-linux-gnu/bin/rustc --crate-name tracing --edition=2018 /root/.cargo/registry/src/index.crates.io-1949cf8c6b5b557f/tracing-0.1.41/src/lib.rs --error-format=json --json=diagnostic-rendered-ansi,artifacts,future-incompat --crate-type lib --emit=dep-info,metadata,link -C embed-bitcode=no -C debuginfo=2 --warn=unexpected_cfgs --check-cfg 'cfg(flaky_tests)' --check-cfg 'cfg(tracing_unstable)' --cfg 'feature=\"attributes\"' --cfg 'feature=\"default\"' --cfg 'feature=\"std\"' --cfg 'feature=\"tracing-attributes\"' --check-cfg 'cfg(docsrs,test)' --check-cfg 'cfg(feature, values(\"async-await\", \"attributes\", \"default\", \"log\", \"log-always\", \"max_level_debug\", \"max_level_error\", \"max_level_info\", \"max_level_off\", \"max_level_trace\", \"max_level_warn\", \"release_max_level_debug\", \"release_max_level_error\", \"release_max_level_info\", \"release_max_level_off\", \"release_max_level_trace\", \"release_max_level_warn\", \"std\", \"tracing-attributes\", \"valuable\"))' -C metadata=7fdfc954eac79f50 -C extra-filename=-a0a783346840eab1 --out-dir /content/llama_runner/target/debug/deps -L dependency=/content/llama_runner/target/debug/deps --extern pin_project_lite=/content/llama_runner/target/debug/deps/libpin_project_lite-3786854cc47c19bc.rmeta --extern tracing_attributes=/content/llama_runner/target/debug/deps/libtracing_attributes-af78ad01d8f66643.so --extern tracing_core=/content/llama_runner/target/debug/deps/libtracing_core-877511e1e8792adf.rmeta --cap-lints allow`\n",
            "     Running `/root/.rustup/toolchains/stable-x86_64-unknown-linux-gnu/bin/rustc --crate-name thiserror --edition=2021 /root/.cargo/registry/src/index.crates.io-1949cf8c6b5b557f/thiserror-1.0.69/src/lib.rs --error-format=json --json=diagnostic-rendered-ansi,artifacts,future-incompat --crate-type lib --emit=dep-info,metadata,link -C embed-bitcode=no -C debuginfo=2 --check-cfg 'cfg(docsrs,test)' --check-cfg 'cfg(feature, values())' -C metadata=84ed139e2caa1055 -C extra-filename=-00a110872e073687 --out-dir /content/llama_runner/target/debug/deps -L dependency=/content/llama_runner/target/debug/deps --extern thiserror_impl=/content/llama_runner/target/debug/deps/libthiserror_impl-da0d13531649a241.so --cap-lints allow --check-cfg 'cfg(error_generic_member_access)' --check-cfg 'cfg(thiserror_nightly_testing)'`\n",
            "   Compiling futures v0.3.31\n",
            "     Running `/root/.rustup/toolchains/stable-x86_64-unknown-linux-gnu/bin/rustc --crate-name futures --edition=2018 /root/.cargo/registry/src/index.crates.io-1949cf8c6b5b557f/futures-0.3.31/src/lib.rs --error-format=json --json=diagnostic-rendered-ansi,artifacts,future-incompat --crate-type lib --emit=dep-info,metadata,link -C embed-bitcode=no -C debuginfo=2 --warn=unreachable_pub --warn=unexpected_cfgs --warn=single_use_lifetimes --warn=rust_2018_idioms --warn=missing_debug_implementations --check-cfg 'cfg(futures_sanitizer)' --cfg 'feature=\"alloc\"' --cfg 'feature=\"async-await\"' --cfg 'feature=\"default\"' --cfg 'feature=\"executor\"' --cfg 'feature=\"futures-executor\"' --cfg 'feature=\"std\"' --check-cfg 'cfg(docsrs,test)' --check-cfg 'cfg(feature, values(\"alloc\", \"async-await\", \"bilock\", \"cfg-target-has-atomic\", \"compat\", \"default\", \"executor\", \"futures-executor\", \"io-compat\", \"std\", \"thread-pool\", \"unstable\", \"write-all-vectored\"))' -C metadata=591fd0738b1f6b4d -C extra-filename=-37a24af3c98de386 --out-dir /content/llama_runner/target/debug/deps -L dependency=/content/llama_runner/target/debug/deps --extern futures_channel=/content/llama_runner/target/debug/deps/libfutures_channel-b1c73bbdda17b55d.rmeta --extern futures_core=/content/llama_runner/target/debug/deps/libfutures_core-8258963fc4e74c9b.rmeta --extern futures_executor=/content/llama_runner/target/debug/deps/libfutures_executor-6b5e8563b287dc53.rmeta --extern futures_io=/content/llama_runner/target/debug/deps/libfutures_io-50de607dd9efc587.rmeta --extern futures_sink=/content/llama_runner/target/debug/deps/libfutures_sink-b78c60087832efc6.rmeta --extern futures_task=/content/llama_runner/target/debug/deps/libfutures_task-806eb608ab62a020.rmeta --extern futures_util=/content/llama_runner/target/debug/deps/libfutures_util-384fc03c372d9520.rmeta --cap-lints allow`\n",
            "   Compiling tokio v1.45.0\n",
            "     Running `/root/.rustup/toolchains/stable-x86_64-unknown-linux-gnu/bin/rustc --crate-name tokio --edition=2021 /root/.cargo/registry/src/index.crates.io-1949cf8c6b5b557f/tokio-1.45.0/src/lib.rs --error-format=json --json=diagnostic-rendered-ansi,artifacts,future-incompat --crate-type lib --emit=dep-info,metadata,link -C embed-bitcode=no -C debuginfo=2 --warn=unexpected_cfgs --check-cfg 'cfg(fuzzing)' --check-cfg 'cfg(loom)' --check-cfg 'cfg(mio_unsupported_force_poll_poll)' --check-cfg 'cfg(tokio_allow_from_blocking_fd)' --check-cfg 'cfg(tokio_internal_mt_counters)' --check-cfg 'cfg(tokio_no_parking_lot)' --check-cfg 'cfg(tokio_no_tuning_tests)' --check-cfg 'cfg(tokio_taskdump)' --check-cfg 'cfg(tokio_unstable)' --cfg 'feature=\"default\"' --cfg 'feature=\"rt\"' --cfg 'feature=\"rt-multi-thread\"' --cfg 'feature=\"sync\"' --check-cfg 'cfg(docsrs,test)' --check-cfg 'cfg(feature, values(\"bytes\", \"default\", \"fs\", \"full\", \"io-std\", \"io-util\", \"libc\", \"macros\", \"mio\", \"net\", \"parking_lot\", \"process\", \"rt\", \"rt-multi-thread\", \"signal\", \"signal-hook-registry\", \"socket2\", \"sync\", \"test-util\", \"time\", \"tokio-macros\", \"tracing\", \"windows-sys\"))' -C metadata=035dc03e23c0855f -C extra-filename=-fd95e9b5fdde77ae --out-dir /content/llama_runner/target/debug/deps -L dependency=/content/llama_runner/target/debug/deps --extern pin_project_lite=/content/llama_runner/target/debug/deps/libpin_project_lite-3786854cc47c19bc.rmeta --cap-lints allow`\n",
            "   Compiling num_cpus v1.16.0\n",
            "     Running `/root/.rustup/toolchains/stable-x86_64-unknown-linux-gnu/bin/rustc --crate-name num_cpus --edition=2015 /root/.cargo/registry/src/index.crates.io-1949cf8c6b5b557f/num_cpus-1.16.0/src/lib.rs --error-format=json --json=diagnostic-rendered-ansi,artifacts,future-incompat --crate-type lib --emit=dep-info,metadata,link -C embed-bitcode=no -C debuginfo=2 --check-cfg 'cfg(docsrs,test)' --check-cfg 'cfg(feature, values())' -C metadata=f02a28b451ccc856 -C extra-filename=-8e591af6d846f943 --out-dir /content/llama_runner/target/debug/deps -L dependency=/content/llama_runner/target/debug/deps --extern libc=/content/llama_runner/target/debug/deps/liblibc-b1c52a7bcf14e644.rmeta --cap-lints allow`\n",
            "warning: llama_cpp_sys@0.3.2: ./thirdparty/llama.cpp/ggml.c:155: warning: \"GGML_DEBUG\" redefined\n",
            "warning: llama_cpp_sys@0.3.2:   155 | #define GGML_DEBUG 0\n",
            "warning: llama_cpp_sys@0.3.2:       |\n",
            "warning: llama_cpp_sys@0.3.2: <command-line>: note: this is the location of the previous definition\n",
            "warning: llama_cpp_sys@0.3.2: ./thirdparty/llama.cpp/ggml.c:19396:13: warning: 'ggml_opt_get_grad' defined but not used [-Wunused-function]\n",
            "warning: llama_cpp_sys@0.3.2: 19396 | static void ggml_opt_get_grad(int np, struct ggml_tensor * const ps[], float * g) {\n",
            "warning: llama_cpp_sys@0.3.2:       |             ^~~~~~~~~~~~~~~~~\n",
            "warning: llama_cpp_sys@0.3.2: ./thirdparty/llama.cpp/ggml-alloc.c:436:13: warning: 'ggml_gallocr_set_node_offset' defined but not used [-Wunused-function]\n",
            "warning: llama_cpp_sys@0.3.2:   436 | static void ggml_gallocr_set_node_offset(ggml_gallocr_t galloc, struct ggml_tensor * node, int buffer_id, size_t offset) {\n",
            "warning: llama_cpp_sys@0.3.2:       |             ^~~~~~~~~~~~~~~~~~~~~~~~~~~~\n",
            "warning: llama_cpp_sys@0.3.2: ./thirdparty/llama.cpp/ggml-backend.c:1188:13: warning: 'ggml_backend_sched_print_assignments' defined but not used [-Wunused-function]\n",
            "warning: llama_cpp_sys@0.3.2:  1188 | static void ggml_backend_sched_print_assignments(ggml_backend_sched_t sched, struct ggml_cgraph * graph) {\n",
            "warning: llama_cpp_sys@0.3.2:       |             ^~~~~~~~~~~~~~~~~~~~~~~~~~~~~~~~~~~~\n",
            "warning: llama_cpp_sys@0.3.2: ./thirdparty/llama.cpp/ggml-quants.c:11700:12: warning: 'iq1_find_best_neighbour' defined but not used [-Wunused-function]\n",
            "warning: llama_cpp_sys@0.3.2: 11700 | static int iq1_find_best_neighbour(const uint16_t * restrict neighbours, const uint64_t * restrict grid,\n",
            "warning: llama_cpp_sys@0.3.2:       |            ^~~~~~~~~~~~~~~~~~~~~~~\n",
            "warning: llama_cpp_sys@0.3.2: ./thirdparty/llama.cpp/ggml-quants.c:1447:14: warning: 'make_qkx1_quants' defined but not used [-Wunused-function]\n",
            "warning: llama_cpp_sys@0.3.2:  1447 | static float make_qkx1_quants(int n, int nmax, const float * restrict x, uint8_t * restrict L, float * restrict the_min,\n",
            "warning: llama_cpp_sys@0.3.2:       |              ^~~~~~~~~~~~~~~~\n",
            "     Running `/root/.rustup/toolchains/stable-x86_64-unknown-linux-gnu/bin/rustc --crate-name llama_cpp_sys --edition=2021 /content/llama_cpp-rs/crates/llama_cpp_sys/src/lib.rs --error-format=json --json=diagnostic-rendered-ansi,artifacts,future-incompat --crate-type lib --emit=dep-info,metadata,link -C embed-bitcode=no -C debuginfo=2 --cfg 'feature=\"accel\"' --cfg 'feature=\"avx\"' --cfg 'feature=\"avx2\"' --cfg 'feature=\"f16c\"' --cfg 'feature=\"fma\"' --cfg 'feature=\"native\"' --check-cfg 'cfg(docsrs,test)' --check-cfg 'cfg(feature, values(\"accel\", \"avx\", \"avx2\", \"avx512\", \"avx512_vmbi\", \"avx512_vnni\", \"blas\", \"clblast\", \"compat\", \"cuda\", \"cuda_dmmv\", \"cuda_f16\", \"cuda_mmq\", \"default\", \"f16c\", \"fma\", \"hipblas\", \"metal\", \"mpi\", \"native\", \"vulkan\"))' -C metadata=ee37d6534a53db53 -C extra-filename=-10d5649951160f74 --out-dir /content/llama_runner/target/debug/deps -C incremental=/content/llama_runner/target/debug/incremental -L dependency=/content/llama_runner/target/debug/deps --extern link_cplusplus=/content/llama_runner/target/debug/deps/liblink_cplusplus-a8aa3bc33b0ed113.rmeta -L native=/content/llama_runner/target/debug/build/llama_cpp_sys-f1cec6484c1a6aa2/out -L native=/content/llama_runner/target/debug/build/llama_cpp_sys-f1cec6484c1a6aa2/out -l static=ggml -l static=llama -l stdc++ -L native=/content/llama_runner/target/debug/build/link-cplusplus-9d163b9fcbc0bbdf/out`\n",
            "   Compiling llama_cpp v0.3.2 (/content/llama_cpp-rs/crates/llama_cpp)\n",
            "     Running `/root/.rustup/toolchains/stable-x86_64-unknown-linux-gnu/bin/rustc --crate-name llama_cpp --edition=2021 /content/llama_cpp-rs/crates/llama_cpp/src/lib.rs --error-format=json --json=diagnostic-rendered-ansi,artifacts,future-incompat --crate-type lib --emit=dep-info,metadata,link -C embed-bitcode=no -C debuginfo=2 --cfg 'feature=\"accel\"' --cfg 'feature=\"avx\"' --cfg 'feature=\"avx2\"' --cfg 'feature=\"f16c\"' --cfg 'feature=\"fma\"' --cfg 'feature=\"native\"' --check-cfg 'cfg(docsrs,test)' --check-cfg 'cfg(feature, values(\"accel\", \"avx\", \"avx2\", \"avx512\", \"avx512_vmbi\", \"avx512_vnni\", \"blas\", \"clblast\", \"compat\", \"cuda\", \"cuda_dmmv\", \"cuda_f16\", \"cuda_mmq\", \"default\", \"f16c\", \"fma\", \"hipblas\", \"metal\", \"mpi\", \"native\", \"sys_verbosity\", \"vulkan\"))' -C metadata=a9c21bec48bcdaac -C extra-filename=-ca2f74d9a4f7d0c6 --out-dir /content/llama_runner/target/debug/deps -C incremental=/content/llama_runner/target/debug/incremental -L dependency=/content/llama_runner/target/debug/deps --extern derive_more=/content/llama_runner/target/debug/deps/libderive_more-a9307d00ef24f258.so --extern futures=/content/llama_runner/target/debug/deps/libfutures-37a24af3c98de386.rmeta --extern llama_cpp_sys=/content/llama_runner/target/debug/deps/libllama_cpp_sys-10d5649951160f74.rmeta --extern num_cpus=/content/llama_runner/target/debug/deps/libnum_cpus-8e591af6d846f943.rmeta --extern thiserror=/content/llama_runner/target/debug/deps/libthiserror-00a110872e073687.rmeta --extern tokio=/content/llama_runner/target/debug/deps/libtokio-fd95e9b5fdde77ae.rmeta --extern tracing=/content/llama_runner/target/debug/deps/libtracing-a0a783346840eab1.rmeta -L native=/content/llama_runner/target/debug/build/llama_cpp_sys-f1cec6484c1a6aa2/out -L native=/content/llama_runner/target/debug/build/llama_cpp_sys-f1cec6484c1a6aa2/out -L native=/content/llama_runner/target/debug/build/link-cplusplus-9d163b9fcbc0bbdf/out`\n",
            "   Compiling llama_runner v0.1.0 (/content/llama_runner)\n",
            "     Running `/root/.rustup/toolchains/stable-x86_64-unknown-linux-gnu/bin/rustc --crate-name llama_runner --edition=2021 src/main.rs --error-format=json --json=diagnostic-rendered-ansi,artifacts,future-incompat --crate-type bin --emit=dep-info,link -C embed-bitcode=no -C debuginfo=2 --check-cfg 'cfg(docsrs,test)' --check-cfg 'cfg(feature, values())' -C metadata=4afb9c5bb9e55355 -C extra-filename=-b735ff23b29fb05e --out-dir /content/llama_runner/target/debug/deps -C incremental=/content/llama_runner/target/debug/incremental -L dependency=/content/llama_runner/target/debug/deps --extern llama_cpp=/content/llama_runner/target/debug/deps/libllama_cpp-ca2f74d9a4f7d0c6.rlib -L native=/content/llama_runner/target/debug/build/llama_cpp_sys-f1cec6484c1a6aa2/out -L native=/content/llama_runner/target/debug/build/llama_cpp_sys-f1cec6484c1a6aa2/out -L native=/content/llama_runner/target/debug/build/link-cplusplus-9d163b9fcbc0bbdf/out`\n",
            "error[E0599]: no function or associated item named `list_available_models` found for struct `LlamaModel` in the current scope\n",
            "   --> src/main.rs:9:34\n",
            "    |\n",
            "9   |     match llama_cpp::LlamaModel::list_available_models() {\n",
            "    |                                  ^^^^^^^^^^^^^^^^^^^^^ function or associated item not found in `LlamaModel`\n",
            "    |\n",
            "note: if you're trying to build a new `LlamaModel`, consider using `LlamaModel::load_from_file` which returns `Result<LlamaModel, LlamaLoadError>`\n",
            "   --> /content/llama_cpp-rs/crates/llama_cpp/src/model/mod.rs:161:5\n",
            "    |\n",
            "161 | /     pub fn load_from_file(\n",
            "162 | |         file_path: impl AsRef<Path>,\n",
            "163 | |         model_params: LlamaParams,\n",
            "164 | |     ) -> Result<Self, LlamaLoadError> {\n",
            "    | |_____________________________________^\n",
            "\n",
            "For more information about this error, try `rustc --explain E0599`.\n",
            "error: could not compile `llama_runner` (bin \"llama_runner\") due to 1 previous error\n",
            "\n",
            "Caused by:\n",
            "  process didn't exit successfully: `/root/.rustup/toolchains/stable-x86_64-unknown-linux-gnu/bin/rustc --crate-name llama_runner --edition=2021 src/main.rs --error-format=json --json=diagnostic-rendered-ansi,artifacts,future-incompat --crate-type bin --emit=dep-info,link -C embed-bitcode=no -C debuginfo=2 --check-cfg 'cfg(docsrs,test)' --check-cfg 'cfg(feature, values())' -C metadata=4afb9c5bb9e55355 -C extra-filename=-b735ff23b29fb05e --out-dir /content/llama_runner/target/debug/deps -C incremental=/content/llama_runner/target/debug/incremental -L dependency=/content/llama_runner/target/debug/deps --extern llama_cpp=/content/llama_runner/target/debug/deps/libllama_cpp-ca2f74d9a4f7d0c6.rlib -L native=/content/llama_runner/target/debug/build/llama_cpp_sys-f1cec6484c1a6aa2/out -L native=/content/llama_runner/target/debug/build/llama_cpp_sys-f1cec6484c1a6aa2/out -L native=/content/llama_runner/target/debug/build/link-cplusplus-9d163b9fcbc0bbdf/out` (exit status: 1)\n"
          ]
        },
        {
          "output_type": "error",
          "ename": "CalledProcessError",
          "evalue": "Command 'b'cd /content/llama_runner\\n# \\xd8\\xa8\\xd9\\x86\\xd8\\xa7\\xd8\\xa1 \\xd8\\xa7\\xd9\\x84\\xd9\\x85\\xd8\\xb4\\xd8\\xb1\\xd9\\x88\\xd8\\xb9 \\xd9\\x85\\xd8\\xb9 \\xd9\\x85\\xd8\\xb3\\xd8\\xaa\\xd9\\x88\\xd9\\x89 \\xd8\\xaa\\xd8\\xb4\\xd8\\xae\\xd9\\x8a\\xd8\\xb5 \\xd8\\xa3\\xd8\\xb9\\xd9\\x84\\xd9\\x89\\nRUST_LOG=debug cargo build -v\\n'' returned non-zero exit status 101.",
          "traceback": [
            "\u001b[0;31m---------------------------------------------------------------------------\u001b[0m",
            "\u001b[0;31mCalledProcessError\u001b[0m                        Traceback (most recent call last)",
            "\u001b[0;32m<ipython-input-15-6ecdf0f65db8>\u001b[0m in \u001b[0;36m<cell line: 0>\u001b[0;34m()\u001b[0m\n\u001b[0;32m----> 1\u001b[0;31m \u001b[0mget_ipython\u001b[0m\u001b[0;34m(\u001b[0m\u001b[0;34m)\u001b[0m\u001b[0;34m.\u001b[0m\u001b[0mrun_cell_magic\u001b[0m\u001b[0;34m(\u001b[0m\u001b[0;34m'bash'\u001b[0m\u001b[0;34m,\u001b[0m \u001b[0;34m''\u001b[0m\u001b[0;34m,\u001b[0m \u001b[0;34m'cd /content/llama_runner\\n# بناء المشروع مع مستوى تشخيص أعلى\\nRUST_LOG=debug cargo build -v\\n'\u001b[0m\u001b[0;34m)\u001b[0m\u001b[0;34m\u001b[0m\u001b[0;34m\u001b[0m\u001b[0m\n\u001b[0m",
            "\u001b[0;32m/usr/local/lib/python3.11/dist-packages/google/colab/_shell.py\u001b[0m in \u001b[0;36mrun_cell_magic\u001b[0;34m(self, magic_name, line, cell)\u001b[0m\n\u001b[1;32m    356\u001b[0m     \u001b[0;32mif\u001b[0m \u001b[0mline\u001b[0m \u001b[0;32mand\u001b[0m \u001b[0;32mnot\u001b[0m \u001b[0mcell\u001b[0m\u001b[0;34m:\u001b[0m\u001b[0;34m\u001b[0m\u001b[0;34m\u001b[0m\u001b[0m\n\u001b[1;32m    357\u001b[0m       \u001b[0mcell\u001b[0m \u001b[0;34m=\u001b[0m \u001b[0;34m' '\u001b[0m\u001b[0;34m\u001b[0m\u001b[0;34m\u001b[0m\u001b[0m\n\u001b[0;32m--> 358\u001b[0;31m     \u001b[0;32mreturn\u001b[0m \u001b[0msuper\u001b[0m\u001b[0;34m(\u001b[0m\u001b[0;34m)\u001b[0m\u001b[0;34m.\u001b[0m\u001b[0mrun_cell_magic\u001b[0m\u001b[0;34m(\u001b[0m\u001b[0mmagic_name\u001b[0m\u001b[0;34m,\u001b[0m \u001b[0mline\u001b[0m\u001b[0;34m,\u001b[0m \u001b[0mcell\u001b[0m\u001b[0;34m)\u001b[0m\u001b[0;34m\u001b[0m\u001b[0;34m\u001b[0m\u001b[0m\n\u001b[0m\u001b[1;32m    359\u001b[0m \u001b[0;34m\u001b[0m\u001b[0m\n\u001b[1;32m    360\u001b[0m \u001b[0;34m\u001b[0m\u001b[0m\n",
            "\u001b[0;32m/usr/local/lib/python3.11/dist-packages/IPython/core/interactiveshell.py\u001b[0m in \u001b[0;36mrun_cell_magic\u001b[0;34m(self, magic_name, line, cell)\u001b[0m\n\u001b[1;32m   2471\u001b[0m             \u001b[0;32mwith\u001b[0m \u001b[0mself\u001b[0m\u001b[0;34m.\u001b[0m\u001b[0mbuiltin_trap\u001b[0m\u001b[0;34m:\u001b[0m\u001b[0;34m\u001b[0m\u001b[0;34m\u001b[0m\u001b[0m\n\u001b[1;32m   2472\u001b[0m                 \u001b[0margs\u001b[0m \u001b[0;34m=\u001b[0m \u001b[0;34m(\u001b[0m\u001b[0mmagic_arg_s\u001b[0m\u001b[0;34m,\u001b[0m \u001b[0mcell\u001b[0m\u001b[0;34m)\u001b[0m\u001b[0;34m\u001b[0m\u001b[0;34m\u001b[0m\u001b[0m\n\u001b[0;32m-> 2473\u001b[0;31m                 \u001b[0mresult\u001b[0m \u001b[0;34m=\u001b[0m \u001b[0mfn\u001b[0m\u001b[0;34m(\u001b[0m\u001b[0;34m*\u001b[0m\u001b[0margs\u001b[0m\u001b[0;34m,\u001b[0m \u001b[0;34m**\u001b[0m\u001b[0mkwargs\u001b[0m\u001b[0;34m)\u001b[0m\u001b[0;34m\u001b[0m\u001b[0;34m\u001b[0m\u001b[0m\n\u001b[0m\u001b[1;32m   2474\u001b[0m             \u001b[0;32mreturn\u001b[0m \u001b[0mresult\u001b[0m\u001b[0;34m\u001b[0m\u001b[0;34m\u001b[0m\u001b[0m\n\u001b[1;32m   2475\u001b[0m \u001b[0;34m\u001b[0m\u001b[0m\n",
            "\u001b[0;32m/usr/local/lib/python3.11/dist-packages/IPython/core/magics/script.py\u001b[0m in \u001b[0;36mnamed_script_magic\u001b[0;34m(line, cell)\u001b[0m\n\u001b[1;32m    140\u001b[0m             \u001b[0;32melse\u001b[0m\u001b[0;34m:\u001b[0m\u001b[0;34m\u001b[0m\u001b[0;34m\u001b[0m\u001b[0m\n\u001b[1;32m    141\u001b[0m                 \u001b[0mline\u001b[0m \u001b[0;34m=\u001b[0m \u001b[0mscript\u001b[0m\u001b[0;34m\u001b[0m\u001b[0;34m\u001b[0m\u001b[0m\n\u001b[0;32m--> 142\u001b[0;31m             \u001b[0;32mreturn\u001b[0m \u001b[0mself\u001b[0m\u001b[0;34m.\u001b[0m\u001b[0mshebang\u001b[0m\u001b[0;34m(\u001b[0m\u001b[0mline\u001b[0m\u001b[0;34m,\u001b[0m \u001b[0mcell\u001b[0m\u001b[0;34m)\u001b[0m\u001b[0;34m\u001b[0m\u001b[0;34m\u001b[0m\u001b[0m\n\u001b[0m\u001b[1;32m    143\u001b[0m \u001b[0;34m\u001b[0m\u001b[0m\n\u001b[1;32m    144\u001b[0m         \u001b[0;31m# write a basic docstring:\u001b[0m\u001b[0;34m\u001b[0m\u001b[0;34m\u001b[0m\u001b[0m\n",
            "\u001b[0;32m<decorator-gen-103>\u001b[0m in \u001b[0;36mshebang\u001b[0;34m(self, line, cell)\u001b[0m\n",
            "\u001b[0;32m/usr/local/lib/python3.11/dist-packages/IPython/core/magic.py\u001b[0m in \u001b[0;36m<lambda>\u001b[0;34m(f, *a, **k)\u001b[0m\n\u001b[1;32m    185\u001b[0m     \u001b[0;31m# but it's overkill for just that one bit of state.\u001b[0m\u001b[0;34m\u001b[0m\u001b[0;34m\u001b[0m\u001b[0m\n\u001b[1;32m    186\u001b[0m     \u001b[0;32mdef\u001b[0m \u001b[0mmagic_deco\u001b[0m\u001b[0;34m(\u001b[0m\u001b[0marg\u001b[0m\u001b[0;34m)\u001b[0m\u001b[0;34m:\u001b[0m\u001b[0;34m\u001b[0m\u001b[0;34m\u001b[0m\u001b[0m\n\u001b[0;32m--> 187\u001b[0;31m         \u001b[0mcall\u001b[0m \u001b[0;34m=\u001b[0m \u001b[0;32mlambda\u001b[0m \u001b[0mf\u001b[0m\u001b[0;34m,\u001b[0m \u001b[0;34m*\u001b[0m\u001b[0ma\u001b[0m\u001b[0;34m,\u001b[0m \u001b[0;34m**\u001b[0m\u001b[0mk\u001b[0m\u001b[0;34m:\u001b[0m \u001b[0mf\u001b[0m\u001b[0;34m(\u001b[0m\u001b[0;34m*\u001b[0m\u001b[0ma\u001b[0m\u001b[0;34m,\u001b[0m \u001b[0;34m**\u001b[0m\u001b[0mk\u001b[0m\u001b[0;34m)\u001b[0m\u001b[0;34m\u001b[0m\u001b[0;34m\u001b[0m\u001b[0m\n\u001b[0m\u001b[1;32m    188\u001b[0m \u001b[0;34m\u001b[0m\u001b[0m\n\u001b[1;32m    189\u001b[0m         \u001b[0;32mif\u001b[0m \u001b[0mcallable\u001b[0m\u001b[0;34m(\u001b[0m\u001b[0marg\u001b[0m\u001b[0;34m)\u001b[0m\u001b[0;34m:\u001b[0m\u001b[0;34m\u001b[0m\u001b[0;34m\u001b[0m\u001b[0m\n",
            "\u001b[0;32m/usr/local/lib/python3.11/dist-packages/IPython/core/magics/script.py\u001b[0m in \u001b[0;36mshebang\u001b[0;34m(self, line, cell)\u001b[0m\n\u001b[1;32m    243\u001b[0m             \u001b[0msys\u001b[0m\u001b[0;34m.\u001b[0m\u001b[0mstderr\u001b[0m\u001b[0;34m.\u001b[0m\u001b[0mflush\u001b[0m\u001b[0;34m(\u001b[0m\u001b[0;34m)\u001b[0m\u001b[0;34m\u001b[0m\u001b[0;34m\u001b[0m\u001b[0m\n\u001b[1;32m    244\u001b[0m         \u001b[0;32mif\u001b[0m \u001b[0margs\u001b[0m\u001b[0;34m.\u001b[0m\u001b[0mraise_error\u001b[0m \u001b[0;32mand\u001b[0m \u001b[0mp\u001b[0m\u001b[0;34m.\u001b[0m\u001b[0mreturncode\u001b[0m\u001b[0;34m!=\u001b[0m\u001b[0;36m0\u001b[0m\u001b[0;34m:\u001b[0m\u001b[0;34m\u001b[0m\u001b[0;34m\u001b[0m\u001b[0m\n\u001b[0;32m--> 245\u001b[0;31m             \u001b[0;32mraise\u001b[0m \u001b[0mCalledProcessError\u001b[0m\u001b[0;34m(\u001b[0m\u001b[0mp\u001b[0m\u001b[0;34m.\u001b[0m\u001b[0mreturncode\u001b[0m\u001b[0;34m,\u001b[0m \u001b[0mcell\u001b[0m\u001b[0;34m,\u001b[0m \u001b[0moutput\u001b[0m\u001b[0;34m=\u001b[0m\u001b[0mout\u001b[0m\u001b[0;34m,\u001b[0m \u001b[0mstderr\u001b[0m\u001b[0;34m=\u001b[0m\u001b[0merr\u001b[0m\u001b[0;34m)\u001b[0m\u001b[0;34m\u001b[0m\u001b[0;34m\u001b[0m\u001b[0m\n\u001b[0m\u001b[1;32m    246\u001b[0m \u001b[0;34m\u001b[0m\u001b[0m\n\u001b[1;32m    247\u001b[0m     \u001b[0;32mdef\u001b[0m \u001b[0m_run_script\u001b[0m\u001b[0;34m(\u001b[0m\u001b[0mself\u001b[0m\u001b[0;34m,\u001b[0m \u001b[0mp\u001b[0m\u001b[0;34m,\u001b[0m \u001b[0mcell\u001b[0m\u001b[0;34m,\u001b[0m \u001b[0mto_close\u001b[0m\u001b[0;34m)\u001b[0m\u001b[0;34m:\u001b[0m\u001b[0;34m\u001b[0m\u001b[0;34m\u001b[0m\u001b[0m\n",
            "\u001b[0;31mCalledProcessError\u001b[0m: Command 'b'cd /content/llama_runner\\n# \\xd8\\xa8\\xd9\\x86\\xd8\\xa7\\xd8\\xa1 \\xd8\\xa7\\xd9\\x84\\xd9\\x85\\xd8\\xb4\\xd8\\xb1\\xd9\\x88\\xd8\\xb9 \\xd9\\x85\\xd8\\xb9 \\xd9\\x85\\xd8\\xb3\\xd8\\xaa\\xd9\\x88\\xd9\\x89 \\xd8\\xaa\\xd8\\xb4\\xd8\\xae\\xd9\\x8a\\xd8\\xb5 \\xd8\\xa3\\xd8\\xb9\\xd9\\x84\\xd9\\x89\\nRUST_LOG=debug cargo build -v\\n'' returned non-zero exit status 101."
          ]
        }
      ]
    },
    {
      "cell_type": "code",
      "source": [
        "%%writefile /content/llama_runner/Cargo.toml\n",
        "[package]\n",
        "name = \"llama_runner\"\n",
        "version = \"0.1.0\"\n",
        "edition = \"2021\"\n",
        "\n",
        "[dependencies]\n",
        "# استخدام الإصدار المنشور من crates.io بدلاً من المستودع المحلي\n",
        "llama_cpp = \"0.3.2\""
      ],
      "metadata": {
        "colab": {
          "base_uri": "https://localhost:8080/"
        },
        "id": "y71c6338Tn3K",
        "outputId": "b3fea8ae-84b9-4270-9026-48b393d610cd"
      },
      "execution_count": 16,
      "outputs": [
        {
          "output_type": "stream",
          "name": "stdout",
          "text": [
            "Overwriting /content/llama_runner/Cargo.toml\n"
          ]
        }
      ]
    },
    {
      "cell_type": "code",
      "source": [
        "!apt-get update && apt-get install -y build-essential cmake"
      ],
      "metadata": {
        "id": "XqsHcyqyUUik"
      },
      "execution_count": null,
      "outputs": []
    },
    {
      "cell_type": "code",
      "source": [
        "%%bash\n",
        "cd /content/llama_runner\n",
        "# بناء المشروع مع مستوى تشخيص أعلى\n",
        "RUST_LOG=debug cargo build -v"
      ],
      "metadata": {
        "id": "TrR2abxtUcV7"
      },
      "execution_count": null,
      "outputs": []
    },
    {
      "cell_type": "code",
      "source": [
        "%%bash\n",
        "cd /content/llama_runner\n",
        "cargo build"
      ],
      "metadata": {
        "colab": {
          "base_uri": "https://localhost:8080/",
          "height": 827
        },
        "id": "D4ZCYfqYUfFa",
        "outputId": "b9596454-439a-4db3-bb76-4954d2434a73"
      },
      "execution_count": 17,
      "outputs": [
        {
          "output_type": "stream",
          "name": "stderr",
          "text": [
            "    Updating crates.io index\n",
            "     Locking 2 packages to latest compatible versions\n",
            "      Adding llama_cpp v0.3.2\n",
            "      Adding llama_cpp_sys v0.3.2\n",
            " Downloading crates ...\n",
            "  Downloaded llama_cpp v0.3.2\n",
            "  Downloaded llama_cpp_sys v0.3.2\n",
            "   Compiling llama_cpp_sys v0.3.2\n",
            "   Compiling llama_cpp v0.3.2\n",
            "   Compiling llama_runner v0.1.0 (/content/llama_runner)\n",
            "error[E0599]: no function or associated item named `list_available_models` found for struct `LlamaModel` in the current scope\n",
            "   --> src/main.rs:9:34\n",
            "    |\n",
            "9   |     match llama_cpp::LlamaModel::list_available_models() {\n",
            "    |                                  ^^^^^^^^^^^^^^^^^^^^^ function or associated item not found in `LlamaModel`\n",
            "    |\n",
            "note: if you're trying to build a new `LlamaModel`, consider using `LlamaModel::load_from_file` which returns `Result<LlamaModel, LlamaLoadError>`\n",
            "   --> /root/.cargo/registry/src/index.crates.io-1949cf8c6b5b557f/llama_cpp-0.3.2/src/model/mod.rs:161:5\n",
            "    |\n",
            "161 | /     pub fn load_from_file(\n",
            "162 | |         file_path: impl AsRef<Path>,\n",
            "163 | |         model_params: LlamaParams,\n",
            "164 | |     ) -> Result<Self, LlamaLoadError> {\n",
            "    | |_____________________________________^\n",
            "\n",
            "For more information about this error, try `rustc --explain E0599`.\n",
            "error: could not compile `llama_runner` (bin \"llama_runner\") due to 1 previous error\n"
          ]
        },
        {
          "output_type": "error",
          "ename": "CalledProcessError",
          "evalue": "Command 'b'cd /content/llama_runner\\ncargo build\\n'' returned non-zero exit status 101.",
          "traceback": [
            "\u001b[0;31m---------------------------------------------------------------------------\u001b[0m",
            "\u001b[0;31mCalledProcessError\u001b[0m                        Traceback (most recent call last)",
            "\u001b[0;32m<ipython-input-17-968772ea3cec>\u001b[0m in \u001b[0;36m<cell line: 0>\u001b[0;34m()\u001b[0m\n\u001b[0;32m----> 1\u001b[0;31m \u001b[0mget_ipython\u001b[0m\u001b[0;34m(\u001b[0m\u001b[0;34m)\u001b[0m\u001b[0;34m.\u001b[0m\u001b[0mrun_cell_magic\u001b[0m\u001b[0;34m(\u001b[0m\u001b[0;34m'bash'\u001b[0m\u001b[0;34m,\u001b[0m \u001b[0;34m''\u001b[0m\u001b[0;34m,\u001b[0m \u001b[0;34m'cd /content/llama_runner\\ncargo build\\n'\u001b[0m\u001b[0;34m)\u001b[0m\u001b[0;34m\u001b[0m\u001b[0;34m\u001b[0m\u001b[0m\n\u001b[0m",
            "\u001b[0;32m/usr/local/lib/python3.11/dist-packages/google/colab/_shell.py\u001b[0m in \u001b[0;36mrun_cell_magic\u001b[0;34m(self, magic_name, line, cell)\u001b[0m\n\u001b[1;32m    356\u001b[0m     \u001b[0;32mif\u001b[0m \u001b[0mline\u001b[0m \u001b[0;32mand\u001b[0m \u001b[0;32mnot\u001b[0m \u001b[0mcell\u001b[0m\u001b[0;34m:\u001b[0m\u001b[0;34m\u001b[0m\u001b[0;34m\u001b[0m\u001b[0m\n\u001b[1;32m    357\u001b[0m       \u001b[0mcell\u001b[0m \u001b[0;34m=\u001b[0m \u001b[0;34m' '\u001b[0m\u001b[0;34m\u001b[0m\u001b[0;34m\u001b[0m\u001b[0m\n\u001b[0;32m--> 358\u001b[0;31m     \u001b[0;32mreturn\u001b[0m \u001b[0msuper\u001b[0m\u001b[0;34m(\u001b[0m\u001b[0;34m)\u001b[0m\u001b[0;34m.\u001b[0m\u001b[0mrun_cell_magic\u001b[0m\u001b[0;34m(\u001b[0m\u001b[0mmagic_name\u001b[0m\u001b[0;34m,\u001b[0m \u001b[0mline\u001b[0m\u001b[0;34m,\u001b[0m \u001b[0mcell\u001b[0m\u001b[0;34m)\u001b[0m\u001b[0;34m\u001b[0m\u001b[0;34m\u001b[0m\u001b[0m\n\u001b[0m\u001b[1;32m    359\u001b[0m \u001b[0;34m\u001b[0m\u001b[0m\n\u001b[1;32m    360\u001b[0m \u001b[0;34m\u001b[0m\u001b[0m\n",
            "\u001b[0;32m/usr/local/lib/python3.11/dist-packages/IPython/core/interactiveshell.py\u001b[0m in \u001b[0;36mrun_cell_magic\u001b[0;34m(self, magic_name, line, cell)\u001b[0m\n\u001b[1;32m   2471\u001b[0m             \u001b[0;32mwith\u001b[0m \u001b[0mself\u001b[0m\u001b[0;34m.\u001b[0m\u001b[0mbuiltin_trap\u001b[0m\u001b[0;34m:\u001b[0m\u001b[0;34m\u001b[0m\u001b[0;34m\u001b[0m\u001b[0m\n\u001b[1;32m   2472\u001b[0m                 \u001b[0margs\u001b[0m \u001b[0;34m=\u001b[0m \u001b[0;34m(\u001b[0m\u001b[0mmagic_arg_s\u001b[0m\u001b[0;34m,\u001b[0m \u001b[0mcell\u001b[0m\u001b[0;34m)\u001b[0m\u001b[0;34m\u001b[0m\u001b[0;34m\u001b[0m\u001b[0m\n\u001b[0;32m-> 2473\u001b[0;31m                 \u001b[0mresult\u001b[0m \u001b[0;34m=\u001b[0m \u001b[0mfn\u001b[0m\u001b[0;34m(\u001b[0m\u001b[0;34m*\u001b[0m\u001b[0margs\u001b[0m\u001b[0;34m,\u001b[0m \u001b[0;34m**\u001b[0m\u001b[0mkwargs\u001b[0m\u001b[0;34m)\u001b[0m\u001b[0;34m\u001b[0m\u001b[0;34m\u001b[0m\u001b[0m\n\u001b[0m\u001b[1;32m   2474\u001b[0m             \u001b[0;32mreturn\u001b[0m \u001b[0mresult\u001b[0m\u001b[0;34m\u001b[0m\u001b[0;34m\u001b[0m\u001b[0m\n\u001b[1;32m   2475\u001b[0m \u001b[0;34m\u001b[0m\u001b[0m\n",
            "\u001b[0;32m/usr/local/lib/python3.11/dist-packages/IPython/core/magics/script.py\u001b[0m in \u001b[0;36mnamed_script_magic\u001b[0;34m(line, cell)\u001b[0m\n\u001b[1;32m    140\u001b[0m             \u001b[0;32melse\u001b[0m\u001b[0;34m:\u001b[0m\u001b[0;34m\u001b[0m\u001b[0;34m\u001b[0m\u001b[0m\n\u001b[1;32m    141\u001b[0m                 \u001b[0mline\u001b[0m \u001b[0;34m=\u001b[0m \u001b[0mscript\u001b[0m\u001b[0;34m\u001b[0m\u001b[0;34m\u001b[0m\u001b[0m\n\u001b[0;32m--> 142\u001b[0;31m             \u001b[0;32mreturn\u001b[0m \u001b[0mself\u001b[0m\u001b[0;34m.\u001b[0m\u001b[0mshebang\u001b[0m\u001b[0;34m(\u001b[0m\u001b[0mline\u001b[0m\u001b[0;34m,\u001b[0m \u001b[0mcell\u001b[0m\u001b[0;34m)\u001b[0m\u001b[0;34m\u001b[0m\u001b[0;34m\u001b[0m\u001b[0m\n\u001b[0m\u001b[1;32m    143\u001b[0m \u001b[0;34m\u001b[0m\u001b[0m\n\u001b[1;32m    144\u001b[0m         \u001b[0;31m# write a basic docstring:\u001b[0m\u001b[0;34m\u001b[0m\u001b[0;34m\u001b[0m\u001b[0m\n",
            "\u001b[0;32m<decorator-gen-103>\u001b[0m in \u001b[0;36mshebang\u001b[0;34m(self, line, cell)\u001b[0m\n",
            "\u001b[0;32m/usr/local/lib/python3.11/dist-packages/IPython/core/magic.py\u001b[0m in \u001b[0;36m<lambda>\u001b[0;34m(f, *a, **k)\u001b[0m\n\u001b[1;32m    185\u001b[0m     \u001b[0;31m# but it's overkill for just that one bit of state.\u001b[0m\u001b[0;34m\u001b[0m\u001b[0;34m\u001b[0m\u001b[0m\n\u001b[1;32m    186\u001b[0m     \u001b[0;32mdef\u001b[0m \u001b[0mmagic_deco\u001b[0m\u001b[0;34m(\u001b[0m\u001b[0marg\u001b[0m\u001b[0;34m)\u001b[0m\u001b[0;34m:\u001b[0m\u001b[0;34m\u001b[0m\u001b[0;34m\u001b[0m\u001b[0m\n\u001b[0;32m--> 187\u001b[0;31m         \u001b[0mcall\u001b[0m \u001b[0;34m=\u001b[0m \u001b[0;32mlambda\u001b[0m \u001b[0mf\u001b[0m\u001b[0;34m,\u001b[0m \u001b[0;34m*\u001b[0m\u001b[0ma\u001b[0m\u001b[0;34m,\u001b[0m \u001b[0;34m**\u001b[0m\u001b[0mk\u001b[0m\u001b[0;34m:\u001b[0m \u001b[0mf\u001b[0m\u001b[0;34m(\u001b[0m\u001b[0;34m*\u001b[0m\u001b[0ma\u001b[0m\u001b[0;34m,\u001b[0m \u001b[0;34m**\u001b[0m\u001b[0mk\u001b[0m\u001b[0;34m)\u001b[0m\u001b[0;34m\u001b[0m\u001b[0;34m\u001b[0m\u001b[0m\n\u001b[0m\u001b[1;32m    188\u001b[0m \u001b[0;34m\u001b[0m\u001b[0m\n\u001b[1;32m    189\u001b[0m         \u001b[0;32mif\u001b[0m \u001b[0mcallable\u001b[0m\u001b[0;34m(\u001b[0m\u001b[0marg\u001b[0m\u001b[0;34m)\u001b[0m\u001b[0;34m:\u001b[0m\u001b[0;34m\u001b[0m\u001b[0;34m\u001b[0m\u001b[0m\n",
            "\u001b[0;32m/usr/local/lib/python3.11/dist-packages/IPython/core/magics/script.py\u001b[0m in \u001b[0;36mshebang\u001b[0;34m(self, line, cell)\u001b[0m\n\u001b[1;32m    243\u001b[0m             \u001b[0msys\u001b[0m\u001b[0;34m.\u001b[0m\u001b[0mstderr\u001b[0m\u001b[0;34m.\u001b[0m\u001b[0mflush\u001b[0m\u001b[0;34m(\u001b[0m\u001b[0;34m)\u001b[0m\u001b[0;34m\u001b[0m\u001b[0;34m\u001b[0m\u001b[0m\n\u001b[1;32m    244\u001b[0m         \u001b[0;32mif\u001b[0m \u001b[0margs\u001b[0m\u001b[0;34m.\u001b[0m\u001b[0mraise_error\u001b[0m \u001b[0;32mand\u001b[0m \u001b[0mp\u001b[0m\u001b[0;34m.\u001b[0m\u001b[0mreturncode\u001b[0m\u001b[0;34m!=\u001b[0m\u001b[0;36m0\u001b[0m\u001b[0;34m:\u001b[0m\u001b[0;34m\u001b[0m\u001b[0;34m\u001b[0m\u001b[0m\n\u001b[0;32m--> 245\u001b[0;31m             \u001b[0;32mraise\u001b[0m \u001b[0mCalledProcessError\u001b[0m\u001b[0;34m(\u001b[0m\u001b[0mp\u001b[0m\u001b[0;34m.\u001b[0m\u001b[0mreturncode\u001b[0m\u001b[0;34m,\u001b[0m \u001b[0mcell\u001b[0m\u001b[0;34m,\u001b[0m \u001b[0moutput\u001b[0m\u001b[0;34m=\u001b[0m\u001b[0mout\u001b[0m\u001b[0;34m,\u001b[0m \u001b[0mstderr\u001b[0m\u001b[0;34m=\u001b[0m\u001b[0merr\u001b[0m\u001b[0;34m)\u001b[0m\u001b[0;34m\u001b[0m\u001b[0;34m\u001b[0m\u001b[0m\n\u001b[0m\u001b[1;32m    246\u001b[0m \u001b[0;34m\u001b[0m\u001b[0m\n\u001b[1;32m    247\u001b[0m     \u001b[0;32mdef\u001b[0m \u001b[0m_run_script\u001b[0m\u001b[0;34m(\u001b[0m\u001b[0mself\u001b[0m\u001b[0;34m,\u001b[0m \u001b[0mp\u001b[0m\u001b[0;34m,\u001b[0m \u001b[0mcell\u001b[0m\u001b[0;34m,\u001b[0m \u001b[0mto_close\u001b[0m\u001b[0;34m)\u001b[0m\u001b[0;34m:\u001b[0m\u001b[0;34m\u001b[0m\u001b[0;34m\u001b[0m\u001b[0m\n",
            "\u001b[0;31mCalledProcessError\u001b[0m: Command 'b'cd /content/llama_runner\\ncargo build\\n'' returned non-zero exit status 101."
          ]
        }
      ]
    },
    {
      "cell_type": "code",
      "source": [
        "%cd /content/llama_cpp-rs/crates/llama_cpp\n",
        "!cargo build"
      ],
      "metadata": {
        "colab": {
          "base_uri": "https://localhost:8080/"
        },
        "id": "S2JajPjPUh0a",
        "outputId": "15eb8d0c-4824-408a-ff40-60e77dbaea5a"
      },
      "execution_count": 1,
      "outputs": [
        {
          "output_type": "stream",
          "name": "stdout",
          "text": [
            "/content/llama_cpp-rs/crates/llama_cpp\n",
            "/bin/bash: line 1: cargo: command not found\n"
          ]
        }
      ]
    },
    {
      "source": [
        "!apt-get install clang"
      ],
      "cell_type": "code",
      "metadata": {
        "colab": {
          "base_uri": "https://localhost:8080/"
        },
        "id": "OlC4j3I1WtaD",
        "outputId": "faf3bb96-43db-434e-de3e-5912959e2c6a"
      },
      "execution_count": 20,
      "outputs": [
        {
          "output_type": "stream",
          "name": "stdout",
          "text": [
            "Reading package lists... Done\n",
            "Building dependency tree... Done\n",
            "Reading state information... Done\n",
            "clang is already the newest version (1:14.0-55~exp2).\n",
            "0 upgraded, 0 newly installed, 0 to remove and 38 not upgraded.\n"
          ]
        }
      ]
    },
    {
      "cell_type": "code",
      "source": [
        "import os\n",
        "os.environ['PATH'] += \":/root/.cargo/bin\"\n",
        "\n",
        "!cargo --version"
      ],
      "metadata": {
        "colab": {
          "base_uri": "https://localhost:8080/"
        },
        "id": "fCvSEUIQWDQ0",
        "outputId": "97d9ac90-ddd1-465a-e015-d5d31b442571"
      },
      "execution_count": 2,
      "outputs": [
        {
          "output_type": "stream",
          "name": "stdout",
          "text": [
            "cargo 1.86.0 (adf9b6ad1 2025-02-28)\n"
          ]
        }
      ]
    },
    {
      "cell_type": "code",
      "source": [
        "! cargo run --release"
      ],
      "metadata": {
        "colab": {
          "base_uri": "https://localhost:8080/"
        },
        "id": "80wXhB3tXPcr",
        "outputId": "8ec5084b-f307-419e-a3a7-0d1f326c05ad"
      },
      "execution_count": 3,
      "outputs": [
        {
          "output_type": "stream",
          "name": "stdout",
          "text": [
            "\u001b[1m\u001b[31merror\u001b[0m\u001b[1m:\u001b[0m a bin target must be available for `cargo run`\n"
          ]
        }
      ]
    },
    {
      "cell_type": "code",
      "source": [],
      "metadata": {
        "id": "pky6MuIVXjBr"
      },
      "execution_count": null,
      "outputs": []
    },
    {
      "source": [
        "%cd llama_cpp-rs"
      ],
      "cell_type": "code",
      "metadata": {
        "colab": {
          "base_uri": "https://localhost:8080/"
        },
        "id": "R8PPVbTDXlFl",
        "outputId": "8bbf3e85-695f-49e1-8f3a-1edcad5c58eb"
      },
      "execution_count": 5,
      "outputs": [
        {
          "output_type": "stream",
          "name": "stdout",
          "text": [
            "[Errno 2] No such file or directory: 'llama_cpp-rs'\n",
            "/content/llama_cpp-rs/crates/llama_cpp\n"
          ]
        }
      ]
    },
    {
      "source": [
        "!cargo build --release"
      ],
      "cell_type": "code",
      "metadata": {
        "colab": {
          "base_uri": "https://localhost:8080/"
        },
        "id": "E3vuafeTXlSE",
        "outputId": "ef5107a3-3523-453c-8c01-e0bed38292a8"
      },
      "execution_count": 6,
      "outputs": [
        {
          "output_type": "stream",
          "name": "stdout",
          "text": [
            "\u001b[1m\u001b[32m   Compiling\u001b[0m proc-macro2 v1.0.79\n",
            "\u001b[1m\u001b[32m   Compiling\u001b[0m unicode-ident v1.0.12\n",
            "\u001b[1m\u001b[32m   Compiling\u001b[0m libc v0.2.153\n",
            "\u001b[1m\u001b[32m   Compiling\u001b[0m quote v1.0.35\n",
            "\u001b[1m\u001b[32m   Compiling\u001b[0m glob v0.3.1\n",
            "\u001b[1m\u001b[32m   Compiling\u001b[0m syn v2.0.53\n",
            "\u001b[1m\u001b[32m   Compiling\u001b[0m clang-sys v1.7.0\n",
            "\u001b[1m\u001b[32m   Compiling\u001b[0m jobserver v0.1.28\n",
            "\u001b[1m\u001b[32m   Compiling\u001b[0m rustix v0.38.32\n",
            "\u001b[1m\u001b[32m   Compiling\u001b[0m prettyplease v0.2.16\n",
            "\u001b[1m\u001b[32m   Compiling\u001b[0m cc v1.0.90\n",
            "\u001b[1m\u001b[32m   Compiling\u001b[0m autocfg v1.1.0\n",
            "\u001b[1m\u001b[32m   Compiling\u001b[0m minimal-lexical v0.2.1\n",
            "\u001b[1m\u001b[32m   Compiling\u001b[0m either v1.10.0\n",
            "\u001b[1m\u001b[32m   Compiling\u001b[0m regex-syntax v0.8.2\n",
            "\u001b[1m\u001b[32m   Compiling\u001b[0m memchr v2.7.1\n",
            "\u001b[1m\u001b[32m   Compiling\u001b[0m cfg-if v1.0.0\n",
            "\u001b[1m\u001b[32m   Compiling\u001b[0m linux-raw-sys v0.4.13\n",
            "\u001b[1m\u001b[32m   Compiling\u001b[0m bitflags v2.5.0\n",
            "\u001b[1m\u001b[32m   Compiling\u001b[0m nom v7.1.3\n",
            "\u001b[1m\u001b[32m   Compiling\u001b[0m libloading v0.8.3\n",
            "\u001b[1m\u001b[32m   Compiling\u001b[0m regex-automata v0.4.6\n",
            "\u001b[1m\u001b[32m   Compiling\u001b[0m slab v0.4.9\n",
            "\u001b[1m\u001b[32m   Compiling\u001b[0m pin-project-lite v0.2.13\n",
            "\u001b[1m\u001b[32m   Compiling\u001b[0m home v0.5.9\n",
            "\u001b[1m\u001b[32m   Compiling\u001b[0m bindgen v0.69.4\n",
            "\u001b[1m\u001b[32m   Compiling\u001b[0m which v4.4.2\n",
            "\u001b[1m\u001b[32m   Compiling\u001b[0m regex v1.10.3\n",
            "\u001b[1m\u001b[32m   Compiling\u001b[0m cexpr v0.6.0\n",
            "\u001b[1m\u001b[32m   Compiling\u001b[0m itertools v0.12.1\n",
            "\u001b[1m\u001b[32m   Compiling\u001b[0m link-cplusplus v1.0.9\n",
            "\u001b[1m\u001b[32m   Compiling\u001b[0m futures-sink v0.3.30\n",
            "\u001b[1m\u001b[32m   Compiling\u001b[0m lazycell v1.3.0\n",
            "\u001b[1m\u001b[32m   Compiling\u001b[0m shlex v1.3.0\n",
            "\u001b[1m\u001b[32m   Compiling\u001b[0m log v0.4.21\n",
            "\u001b[1m\u001b[32m   Compiling\u001b[0m futures-core v0.3.30\n",
            "\u001b[1m\u001b[32m   Compiling\u001b[0m lazy_static v1.4.0\n",
            "\u001b[1m\u001b[32m   Compiling\u001b[0m rustc-hash v1.1.0\n",
            "\u001b[1m\u001b[32m   Compiling\u001b[0m futures-channel v0.3.30\n",
            "\u001b[1m\u001b[32m   Compiling\u001b[0m futures-macro v0.3.30\n",
            "\u001b[1m\u001b[32m   Compiling\u001b[0m futures-task v0.3.30\n",
            "\u001b[1m\u001b[32m   Compiling\u001b[0m once_cell v1.19.0\n",
            "\u001b[1m\u001b[32m   Compiling\u001b[0m futures-io v0.3.30\n",
            "\u001b[1m\u001b[32m   Compiling\u001b[0m pin-utils v0.1.0\n",
            "\u001b[1m\u001b[32m   Compiling\u001b[0m syn v1.0.109\n",
            "\u001b[1m\u001b[32m   Compiling\u001b[0m futures-util v0.3.30\n",
            "\u001b[1m\u001b[32m   Compiling\u001b[0m llama_cpp_sys v0.3.2 (/content/llama_cpp-rs/crates/llama_cpp_sys)\n",
            "\u001b[0m\u001b[1m\u001b[33mwarning\u001b[0m\u001b[0m\u001b[1m: unexpected `cfg` condition value: `opencl`\u001b[0m\n",
            "\u001b[0m   \u001b[0m\u001b[0m\u001b[1m\u001b[38;5;12m--> \u001b[0m\u001b[0mcrates/llama_cpp_sys/build.rs:647:20\u001b[0m\n",
            "\u001b[0m    \u001b[0m\u001b[0m\u001b[1m\u001b[38;5;12m|\u001b[0m\n",
            "\u001b[0m\u001b[1m\u001b[38;5;12m647\u001b[0m\u001b[0m \u001b[0m\u001b[0m\u001b[1m\u001b[38;5;12m|\u001b[0m\u001b[0m \u001b[0m\u001b[0m    } else if cfg!(feature = \"opencl\") {\u001b[0m\n",
            "\u001b[0m    \u001b[0m\u001b[0m\u001b[1m\u001b[38;5;12m|\u001b[0m\u001b[0m                    \u001b[0m\u001b[0m\u001b[1m\u001b[33m^^^^^^^^^^^^^^^^^^\u001b[0m\n",
            "\u001b[0m    \u001b[0m\u001b[0m\u001b[1m\u001b[38;5;12m|\u001b[0m\n",
            "\u001b[0m    \u001b[0m\u001b[0m\u001b[1m\u001b[38;5;12m= \u001b[0m\u001b[0m\u001b[1mnote\u001b[0m\u001b[0m: expected values for `feature` are: `accel`, `avx`, `avx2`, `avx512`, `avx512_vmbi`, `avx512_vnni`, `blas`, `clblast`, `compat`, `cuda`, `cuda_dmmv`, `cuda_f16`, `cuda_mmq`, `default`, `f16c`, `fma`, `hipblas`, `metal`, `mpi`, `native`, and `vulkan`\u001b[0m\n",
            "\u001b[0m    \u001b[0m\u001b[0m\u001b[1m\u001b[38;5;12m= \u001b[0m\u001b[0m\u001b[1mhelp\u001b[0m\u001b[0m: consider adding `opencl` as a feature in `Cargo.toml`\u001b[0m\n",
            "\u001b[0m    \u001b[0m\u001b[0m\u001b[1m\u001b[38;5;12m= \u001b[0m\u001b[0m\u001b[1mnote\u001b[0m\u001b[0m: see <https://doc.rust-lang.org/nightly/rustc/check-cfg/cargo-specifics.html> for more information about checking conditional configuration\u001b[0m\n",
            "\u001b[0m    \u001b[0m\u001b[0m\u001b[1m\u001b[38;5;12m= \u001b[0m\u001b[0m\u001b[1mnote\u001b[0m\u001b[0m: `#[warn(unexpected_cfgs)]` on by default\u001b[0m\n",
            "\n",
            "\u001b[0m\u001b[1m\u001b[33mwarning\u001b[0m\u001b[0m\u001b[1m: unexpected `cfg` condition value: `openblas`\u001b[0m\n",
            "\u001b[0m   \u001b[0m\u001b[0m\u001b[1m\u001b[38;5;12m--> \u001b[0m\u001b[0mcrates/llama_cpp_sys/build.rs:650:20\u001b[0m\n",
            "\u001b[0m    \u001b[0m\u001b[0m\u001b[1m\u001b[38;5;12m|\u001b[0m\n",
            "\u001b[0m\u001b[1m\u001b[38;5;12m650\u001b[0m\u001b[0m \u001b[0m\u001b[0m\u001b[1m\u001b[38;5;12m|\u001b[0m\u001b[0m \u001b[0m\u001b[0m    } else if cfg!(feature = \"openblas\") {\u001b[0m\n",
            "\u001b[0m    \u001b[0m\u001b[0m\u001b[1m\u001b[38;5;12m|\u001b[0m\u001b[0m                    \u001b[0m\u001b[0m\u001b[1m\u001b[33m^^^^^^^^^^^^^^^^^^^^\u001b[0m\n",
            "\u001b[0m    \u001b[0m\u001b[0m\u001b[1m\u001b[38;5;12m|\u001b[0m\n",
            "\u001b[0m    \u001b[0m\u001b[0m\u001b[1m\u001b[38;5;12m= \u001b[0m\u001b[0m\u001b[1mnote\u001b[0m\u001b[0m: expected values for `feature` are: `accel`, `avx`, `avx2`, `avx512`, `avx512_vmbi`, `avx512_vnni`, `blas`, `clblast`, `compat`, `cuda`, `cuda_dmmv`, `cuda_f16`, `cuda_mmq`, `default`, `f16c`, `fma`, `hipblas`, `metal`, `mpi`, `native`, and `vulkan`\u001b[0m\n",
            "\u001b[0m    \u001b[0m\u001b[0m\u001b[1m\u001b[38;5;12m= \u001b[0m\u001b[0m\u001b[1mhelp\u001b[0m\u001b[0m: consider adding `openblas` as a feature in `Cargo.toml`\u001b[0m\n",
            "\u001b[0m    \u001b[0m\u001b[0m\u001b[1m\u001b[38;5;12m= \u001b[0m\u001b[0m\u001b[1mnote\u001b[0m\u001b[0m: see <https://doc.rust-lang.org/nightly/rustc/check-cfg/cargo-specifics.html> for more information about checking conditional configuration\u001b[0m\n",
            "\n",
            "\u001b[0m\u001b[1m\u001b[33mwarning\u001b[0m\u001b[0m\u001b[1m: unexpected `cfg` condition value: `blis`\u001b[0m\n",
            "\u001b[0m   \u001b[0m\u001b[0m\u001b[1m\u001b[38;5;12m--> \u001b[0m\u001b[0mcrates/llama_cpp_sys/build.rs:653:20\u001b[0m\n",
            "\u001b[0m    \u001b[0m\u001b[0m\u001b[1m\u001b[38;5;12m|\u001b[0m\n",
            "\u001b[0m\u001b[1m\u001b[38;5;12m653\u001b[0m\u001b[0m \u001b[0m\u001b[0m\u001b[1m\u001b[38;5;12m|\u001b[0m\u001b[0m \u001b[0m\u001b[0m    } else if cfg!(feature = \"blis\") {\u001b[0m\n",
            "\u001b[0m    \u001b[0m\u001b[0m\u001b[1m\u001b[38;5;12m|\u001b[0m\u001b[0m                    \u001b[0m\u001b[0m\u001b[1m\u001b[33m^^^^^^^^^^\u001b[0m\u001b[0m\u001b[1m\u001b[38;5;12m------\u001b[0m\n",
            "\u001b[0m    \u001b[0m\u001b[0m\u001b[1m\u001b[38;5;12m|\u001b[0m\u001b[0m                              \u001b[0m\u001b[0m\u001b[1m\u001b[38;5;12m|\u001b[0m\n",
            "\u001b[0m    \u001b[0m\u001b[0m\u001b[1m\u001b[38;5;12m|\u001b[0m\u001b[0m                              \u001b[0m\u001b[0m\u001b[1m\u001b[38;5;12mhelp: there is a expected value with a similar name: `\"blas\"`\u001b[0m\n",
            "\u001b[0m    \u001b[0m\u001b[0m\u001b[1m\u001b[38;5;12m|\u001b[0m\n",
            "\u001b[0m    \u001b[0m\u001b[0m\u001b[1m\u001b[38;5;12m= \u001b[0m\u001b[0m\u001b[1mnote\u001b[0m\u001b[0m: expected values for `feature` are: `accel`, `avx`, `avx2`, `avx512`, `avx512_vmbi`, `avx512_vnni`, `blas`, `clblast`, `compat`, `cuda`, `cuda_dmmv`, `cuda_f16`, `cuda_mmq`, `default`, `f16c`, `fma`, `hipblas`, `metal`, `mpi`, `native`, and `vulkan`\u001b[0m\n",
            "\u001b[0m    \u001b[0m\u001b[0m\u001b[1m\u001b[38;5;12m= \u001b[0m\u001b[0m\u001b[1mhelp\u001b[0m\u001b[0m: consider adding `blis` as a feature in `Cargo.toml`\u001b[0m\n",
            "\u001b[0m    \u001b[0m\u001b[0m\u001b[1m\u001b[38;5;12m= \u001b[0m\u001b[0m\u001b[1mnote\u001b[0m\u001b[0m: see <https://doc.rust-lang.org/nightly/rustc/check-cfg/cargo-specifics.html> for more information about checking conditional configuration\u001b[0m\n",
            "\n",
            "\u001b[0m\u001b[1m\u001b[33mwarning\u001b[0m\u001b[0m\u001b[1m: variable does not need to be mutable\u001b[0m\n",
            "\u001b[0m   \u001b[0m\u001b[0m\u001b[1m\u001b[38;5;12m--> \u001b[0m\u001b[0mcrates/llama_cpp_sys/build.rs:498:9\u001b[0m\n",
            "\u001b[0m    \u001b[0m\u001b[0m\u001b[1m\u001b[38;5;12m|\u001b[0m\n",
            "\u001b[0m\u001b[1m\u001b[38;5;12m498\u001b[0m\u001b[0m \u001b[0m\u001b[0m\u001b[1m\u001b[38;5;12m|\u001b[0m\u001b[0m \u001b[0m\u001b[0m    let mut output_file = File::create(&ggml_metal_shader_out_path).expect(\"Failed to create output file\");\u001b[0m\n",
            "\u001b[0m    \u001b[0m\u001b[0m\u001b[1m\u001b[38;5;12m|\u001b[0m\u001b[0m         \u001b[0m\u001b[0m\u001b[1m\u001b[38;5;12m----\u001b[0m\u001b[0m\u001b[1m\u001b[33m^^^^^^^^^^^\u001b[0m\n",
            "\u001b[0m    \u001b[0m\u001b[0m\u001b[1m\u001b[38;5;12m|\u001b[0m\u001b[0m         \u001b[0m\u001b[0m\u001b[1m\u001b[38;5;12m|\u001b[0m\n",
            "\u001b[0m    \u001b[0m\u001b[0m\u001b[1m\u001b[38;5;12m|\u001b[0m\u001b[0m         \u001b[0m\u001b[0m\u001b[1m\u001b[38;5;12mhelp: remove this `mut`\u001b[0m\n",
            "\u001b[0m    \u001b[0m\u001b[0m\u001b[1m\u001b[38;5;12m|\u001b[0m\n",
            "\u001b[0m    \u001b[0m\u001b[0m\u001b[1m\u001b[38;5;12m= \u001b[0m\u001b[0m\u001b[1mnote\u001b[0m\u001b[0m: `#[warn(unused_mut)]` on by default\u001b[0m\n",
            "\n",
            "\u001b[1m\u001b[32m   Compiling\u001b[0m thiserror v1.0.58\n",
            "\u001b[1m\u001b[32m   Compiling\u001b[0m tracing-core v0.1.32\n",
            "\u001b[1m\u001b[33mwarning\u001b[0m\u001b[1m:\u001b[0m `llama_cpp_sys` (build script) generated 4 warnings\n",
            "\u001b[1m\u001b[32m   Compiling\u001b[0m num_cpus v1.16.0\n",
            "\u001b[1m\u001b[32m   Compiling\u001b[0m futures-executor v0.3.30\n",
            "\u001b[1m\u001b[32m   Compiling\u001b[0m thiserror-impl v1.0.58\n",
            "\u001b[1m\u001b[32m   Compiling\u001b[0m tracing-attributes v0.1.27\n",
            "\u001b[1m\u001b[32m   Compiling\u001b[0m convert_case v0.4.0\n",
            "\u001b[1m\u001b[32m   Compiling\u001b[0m derive_more v0.99.17\n",
            "\u001b[1m\u001b[32m   Compiling\u001b[0m tracing v0.1.40\n",
            "\u001b[1m\u001b[32m   Compiling\u001b[0m futures v0.3.30\n",
            "\u001b[1m\u001b[32m   Compiling\u001b[0m tokio v1.36.0\n",
            "\u001b[1m\u001b[33mwarning\u001b[0m\u001b[1m:\u001b[0m llama_cpp_sys@0.3.2: Compiler version doesn't include clang or GCC: \"cc\" \"--version\"\n",
            "\u001b[1m\u001b[33mwarning\u001b[0m\u001b[1m:\u001b[0m llama_cpp_sys@0.3.2: ./thirdparty/llama.cpp/ggml.c:19396:13: warning: ‘ggml_opt_get_grad’ defined but not used [-Wunused-function]\n",
            "\u001b[1m\u001b[33mwarning\u001b[0m\u001b[1m:\u001b[0m llama_cpp_sys@0.3.2: 19396 | static void ggml_opt_get_grad(int np, struct ggml_tensor * const ps[], float * g) {\n",
            "\u001b[1m\u001b[33mwarning\u001b[0m\u001b[1m:\u001b[0m llama_cpp_sys@0.3.2:       |             ^~~~~~~~~~~~~~~~~\n",
            "\u001b[1m\u001b[33mwarning\u001b[0m\u001b[1m:\u001b[0m llama_cpp_sys@0.3.2: ./thirdparty/llama.cpp/ggml-alloc.c:436:13: warning: ‘ggml_gallocr_set_node_offset’ defined but not used [-Wunused-function]\n",
            "\u001b[1m\u001b[33mwarning\u001b[0m\u001b[1m:\u001b[0m llama_cpp_sys@0.3.2:   436 | static void ggml_gallocr_set_node_offset(ggml_gallocr_t galloc, struct ggml_tensor * node, int buffer_id, size_t offset) {\n",
            "\u001b[1m\u001b[33mwarning\u001b[0m\u001b[1m:\u001b[0m llama_cpp_sys@0.3.2:       |             ^~~~~~~~~~~~~~~~~~~~~~~~~~~~\n",
            "\u001b[1m\u001b[33mwarning\u001b[0m\u001b[1m:\u001b[0m llama_cpp_sys@0.3.2: ./thirdparty/llama.cpp/ggml-backend.c:1188:13: warning: ‘ggml_backend_sched_print_assignments’ defined but not used [-Wunused-function]\n",
            "\u001b[1m\u001b[33mwarning\u001b[0m\u001b[1m:\u001b[0m llama_cpp_sys@0.3.2:  1188 | static void ggml_backend_sched_print_assignments(ggml_backend_sched_t sched, struct ggml_cgraph * graph) {\n",
            "\u001b[1m\u001b[33mwarning\u001b[0m\u001b[1m:\u001b[0m llama_cpp_sys@0.3.2:       |             ^~~~~~~~~~~~~~~~~~~~~~~~~~~~~~~~~~~~\n",
            "\u001b[1m\u001b[33mwarning\u001b[0m\u001b[1m:\u001b[0m llama_cpp_sys@0.3.2: ./thirdparty/llama.cpp/ggml-quants.c:11700:12: warning: ‘iq1_find_best_neighbour’ defined but not used [-Wunused-function]\n",
            "\u001b[1m\u001b[33mwarning\u001b[0m\u001b[1m:\u001b[0m llama_cpp_sys@0.3.2: 11700 | static int iq1_find_best_neighbour(const uint16_t * restrict neighbours, const uint64_t * restrict grid,\n",
            "\u001b[1m\u001b[33mwarning\u001b[0m\u001b[1m:\u001b[0m llama_cpp_sys@0.3.2:       |            ^~~~~~~~~~~~~~~~~~~~~~~\n",
            "\u001b[1m\u001b[33mwarning\u001b[0m\u001b[1m:\u001b[0m llama_cpp_sys@0.3.2: ./thirdparty/llama.cpp/ggml-quants.c:1447:14: warning: ‘make_qkx1_quants’ defined but not used [-Wunused-function]\n",
            "\u001b[1m\u001b[33mwarning\u001b[0m\u001b[1m:\u001b[0m llama_cpp_sys@0.3.2:  1447 | static float make_qkx1_quants(int n, int nmax, const float * restrict x, uint8_t * restrict L, float * restrict the_min,\n",
            "\u001b[1m\u001b[33mwarning\u001b[0m\u001b[1m:\u001b[0m llama_cpp_sys@0.3.2:       |              ^~~~~~~~~~~~~~~~\n",
            "\u001b[1m\u001b[33mwarning\u001b[0m\u001b[1m:\u001b[0m llama_cpp_sys@0.3.2: Compiler version doesn't include clang or GCC: \"c++\" \"--version\"\n",
            "\u001b[1m\u001b[32m   Compiling\u001b[0m llama_cpp v0.3.2 (/content/llama_cpp-rs/crates/llama_cpp)\n",
            "\u001b[1m\u001b[32m    Finished\u001b[0m `release` profile [optimized] target(s) in 2m 03s\n"
          ]
        }
      ]
    },
    {
      "cell_type": "code",
      "source": [],
      "metadata": {
        "id": "8i1shHwOXnub"
      },
      "execution_count": null,
      "outputs": []
    }
  ]
}